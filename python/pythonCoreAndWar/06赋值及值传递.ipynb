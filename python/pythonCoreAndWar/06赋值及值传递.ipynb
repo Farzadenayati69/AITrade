{
 "cells": [
  {
   "cell_type": "markdown",
   "metadata": {},
   "source": [
    "# 值比较"
   ]
  },
  {
   "cell_type": "code",
   "execution_count": 1,
   "metadata": {
    "collapsed": false
   },
   "outputs": [
    {
     "name": "stdout",
     "output_type": "stream",
     "text": [
      "True\n",
      "140281692854944\n",
      "140281692854944\n",
      "True\n"
     ]
    }
   ],
   "source": [
    "a = 10\n",
    "b = 10\n",
    "print (a == b)\n",
    "print(id(a))\n",
    "print(id(b))\n",
    "print(a is b)\n",
    "#对于整型数字来说，以上a is b为 True 的结论，只适用于-5-256"
   ]
  },
  {
   "cell_type": "code",
   "execution_count": 2,
   "metadata": {
    "collapsed": false
   },
   "outputs": [
    {
     "name": "stdout",
     "output_type": "stream",
     "text": [
      "True\n",
      "140281379698384\n",
      "140281379698544\n",
      "False\n"
     ]
    }
   ],
   "source": [
    "a = 257\n",
    "b = 257\n",
    "print (a == b)\n",
    "print(id(a))\n",
    "print(id(b))\n",
    "print(a is b)\n",
    "#比较操作符'is'的速度效率，通常要优于'=='"
   ]
  },
  {
   "cell_type": "code",
   "execution_count": 3,
   "metadata": {
    "collapsed": false
   },
   "outputs": [
    {
     "name": "stdout",
     "output_type": "stream",
     "text": [
      "True\n",
      "False\n"
     ]
    }
   ],
   "source": [
    "t1 = (1, 2, [3, 4])\n",
    "t2 = (1, 2, [3, 4])\n",
    "print(t1 == t2)\n",
    "t1[-1].append(5)\n",
    "print(t1 == t2)"
   ]
  },
  {
   "cell_type": "markdown",
   "metadata": {},
   "source": [
    "# 浅拷贝shallow copy"
   ]
  },
  {
   "cell_type": "code",
   "execution_count": 8,
   "metadata": {
    "collapsed": false
   },
   "outputs": [
    {
     "name": "stdout",
     "output_type": "stream",
     "text": [
      "True\n",
      "False\n",
      "True\n",
      "False\n",
      "True\n",
      "False\n",
      "True\n",
      "True\n"
     ]
    }
   ],
   "source": [
    "#浅copy\n",
    "l1 = [1, 2, 3]\n",
    "l2 = list(l1)\n",
    "print(l1 == l2)\n",
    "print(l1 is l2)\n",
    "s1 = set([1, 2, 3])\n",
    "s2 = set(s1)\n",
    "print(s1 == s2)\n",
    "print(s1 is s2)\n",
    "#列表切片浅copy\n",
    "l1 = [1, 2, 3]\n",
    "l2 = l1[:]\n",
    "print(l1 == l2)\n",
    "print(l1 is l2)\n",
    "#y元组切片相同引用\n",
    "t1 = (1, 2, 3)\n",
    "t2 = tuple(t1)\n",
    "print(t1 == t2)\n",
    "print(t1 is t2)"
   ]
  },
  {
   "cell_type": "code",
   "execution_count": 7,
   "metadata": {
    "collapsed": false
   },
   "outputs": [
    {
     "name": "stdout",
     "output_type": "stream",
     "text": [
      "True\n",
      "False\n"
     ]
    }
   ],
   "source": [
    "#copy函数浅copy\n",
    "import copy\n",
    "l1 = [1, 2, 3]\n",
    "l2 = copy.copy(l1)\n",
    "print(l1 == l2)\n",
    "print(l1 is l2)"
   ]
  },
  {
   "cell_type": "markdown",
   "metadata": {},
   "source": [
    "## 浅copy副作用"
   ]
  },
  {
   "cell_type": "code",
   "execution_count": 9,
   "metadata": {
    "collapsed": false
   },
   "outputs": [
    {
     "name": "stdout",
     "output_type": "stream",
     "text": [
      "[[1, 2, 3], (30, 40), 100]\n",
      "[[1, 2, 3], (30, 40)]\n",
      "[[1, 2, 3], (30, 40, 50, 60), 100]\n",
      "[[1, 2, 3], (30, 40)]\n"
     ]
    }
   ],
   "source": [
    "l1 = [[1, 2], (30, 40)]\n",
    "l2 = list(l1)\n",
    "l1.append(100)\n",
    "#浅copy 元素为列表引用时共同变更\n",
    "l1[0].append(3)\n",
    "print(l1)\n",
    "#[[1, 2, 3], (30, 40), 100]\n",
    "print(l2)\n",
    "#[[1, 2, 3], (30, 40)]\n",
    "l1[1] += (50, 60)\n",
    "print(l1)\n",
    "#[[1, 2, 3], (30, 40, 50, 60), 100]\n",
    "print(l2)\n",
    "#[[1, 2, 3], (30, 40)]"
   ]
  },
  {
   "cell_type": "markdown",
   "metadata": {},
   "source": [
    "# 深拷贝deep copy"
   ]
  },
  {
   "cell_type": "code",
   "execution_count": 10,
   "metadata": {
    "collapsed": false
   },
   "outputs": [
    {
     "name": "stdout",
     "output_type": "stream",
     "text": [
      "[[1, 2, 3], (30, 40), 100]\n",
      "[[1, 2], (30, 40)]\n"
     ]
    }
   ],
   "source": [
    "import copy\n",
    "l1 = [[1, 2], (30, 40)]\n",
    "l2 = copy.deepcopy(l1)\n",
    "l1.append(100)\n",
    "l1[0].append(3)\n",
    "print(l1)\n",
    "#[[1, 2, 3], (30, 40), 100]\n",
    "print(l2) \n",
    "#[[1, 2], (30, 40)]\n"
   ]
  },
  {
   "cell_type": "markdown",
   "metadata": {},
   "source": [
    "## 深copy循环问题"
   ]
  },
  {
   "cell_type": "code",
   "execution_count": 11,
   "metadata": {
    "collapsed": false
   },
   "outputs": [
    {
     "ename": "RecursionError",
     "evalue": "maximum recursion depth exceeded in comparison",
     "output_type": "error",
     "traceback": [
      "\u001b[0;31m---------------------------------------------------------------------------\u001b[0m",
      "\u001b[0;31mRecursionError\u001b[0m                            Traceback (most recent call last)",
      "\u001b[0;32m<ipython-input-11-7e8d746e5a59>\u001b[0m in \u001b[0;36m<module>\u001b[0;34m()\u001b[0m\n\u001b[1;32m      6\u001b[0m \u001b[0;34m\u001b[0m\u001b[0m\n\u001b[1;32m      7\u001b[0m \u001b[0;31m# 以下命令的输出是？\u001b[0m\u001b[0;34m\u001b[0m\u001b[0;34m\u001b[0m\u001b[0m\n\u001b[0;32m----> 8\u001b[0;31m \u001b[0mprint\u001b[0m\u001b[0;34m(\u001b[0m\u001b[0mx\u001b[0m \u001b[0;34m==\u001b[0m \u001b[0my\u001b[0m\u001b[0;34m)\u001b[0m\u001b[0;34m\u001b[0m\u001b[0m\n\u001b[0m",
      "\u001b[0;31mRecursionError\u001b[0m: maximum recursion depth exceeded in comparison"
     ]
    }
   ],
   "source": [
    "import copy\n",
    "x = [1]\n",
    "x.append(x)\n",
    "\n",
    "y = copy.deepcopy(x)\n",
    "\n",
    "# 以下命令的输出是？\n",
    "print(x == y)"
   ]
  },
  {
   "cell_type": "markdown",
   "metadata": {},
   "source": [
    "# 变量及赋值"
   ]
  },
  {
   "cell_type": "code",
   "execution_count": 12,
   "metadata": {
    "collapsed": false
   },
   "outputs": [
    {
     "name": "stdout",
     "output_type": "stream",
     "text": [
      "2 1\n"
     ]
    }
   ],
   "source": [
    "#a,b指向不可变对象 \n",
    "a = 1\n",
    "b = a\n",
    "a = a + 1\n",
    "print(a,b)"
   ]
  },
  {
   "cell_type": "code",
   "execution_count": 14,
   "metadata": {
    "collapsed": false
   },
   "outputs": [
    {
     "name": "stdout",
     "output_type": "stream",
     "text": [
      "[1, 2, 3, 4]\n",
      "[1, 2, 3, 4]\n"
     ]
    }
   ],
   "source": [
    "#l1，l2指向同一列表对象 列表可变 \n",
    "#可变对象（列表，字典，集合等等）的改变，会影响所有指向该对象的变量\n",
    "l1 = [1, 2, 3]\n",
    "l2 = l1\n",
    "l1.append(4)\n",
    "print(l1)\n",
    "#[1, 2, 3, 4]\n",
    "print(l2)\n",
    "#[1, 2, 3, 4]"
   ]
  },
  {
   "cell_type": "markdown",
   "metadata": {},
   "source": [
    "# 参数传递"
   ]
  },
  {
   "cell_type": "markdown",
   "metadata": {},
   "source": [
    "Python 的参数传递是赋值传递 （pass by assignment），或者叫作对象的引用传递（pass by object reference）。Python 里所有的数据类型都是对象，所以参数传递时，只是让新变量与原变量指向相同的对象而已，并不存在值传递或是引用传递一说。\n",
    "比如，我们来看下面这个例子："
   ]
  },
  {
   "cell_type": "code",
   "execution_count": 16,
   "metadata": {
    "collapsed": false
   },
   "outputs": [
    {
     "data": {
      "text/plain": [
       "1"
      ]
     },
     "execution_count": 16,
     "metadata": {},
     "output_type": "execute_result"
    }
   ],
   "source": [
    "def my_func1(b):\n",
    "\tb = 2\n",
    "a = 1\n",
    "my_func1(a)\n",
    "a"
   ]
  },
  {
   "cell_type": "code",
   "execution_count": 15,
   "metadata": {
    "collapsed": false
   },
   "outputs": [
    {
     "data": {
      "text/plain": [
       "2"
      ]
     },
     "execution_count": 15,
     "metadata": {},
     "output_type": "execute_result"
    }
   ],
   "source": [
    "#函数返回新变量，赋给 a\n",
    "def my_func2(b):\n",
    "\tb = 2\n",
    "\treturn b\n",
    "\n",
    "a = 1\n",
    "a = my_func2(a)\n",
    "a"
   ]
  },
  {
   "cell_type": "code",
   "execution_count": 17,
   "metadata": {
    "collapsed": false
   },
   "outputs": [
    {
     "data": {
      "text/plain": [
       "[1, 2, 3, 4]"
      ]
     },
     "execution_count": 17,
     "metadata": {},
     "output_type": "execute_result"
    }
   ],
   "source": [
    "#不过，当可变对象当作参数传入函数里的时候，改变可变对象的值，就会影响所有指向它的变量。\n",
    "def my_func3(l2):\n",
    "\tl2.append(4)\n",
    "\n",
    "l1 = [1, 2, 3]\n",
    "my_func3(l1)\n",
    "l1"
   ]
  },
  {
   "cell_type": "code",
   "execution_count": 18,
   "metadata": {
    "collapsed": false
   },
   "outputs": [
    {
     "data": {
      "text/plain": [
       "[1, 2, 3]"
      ]
     },
     "execution_count": 18,
     "metadata": {},
     "output_type": "execute_result"
    }
   ],
   "source": [
    "#创建了一个“末尾加入元素 4“的新列表\n",
    "def my_func4(l2):\n",
    "\tl2 = l2 + [4]\n",
    "l1 = [1, 2, 3]\n",
    "my_func4(l1)\n",
    "l1"
   ]
  },
  {
   "cell_type": "code",
   "execution_count": 19,
   "metadata": {
    "collapsed": false
   },
   "outputs": [
    {
     "data": {
      "text/plain": [
       "[1, 2, 3, 4]"
      ]
     },
     "execution_count": 19,
     "metadata": {},
     "output_type": "execute_result"
    }
   ],
   "source": [
    "#函数返回一个新列表，再赋予 l1\n",
    "def my_func5(l2):\n",
    "\tl2 = l2 + [4]\n",
    "\treturn l2\n",
    "\n",
    "l1 = [1, 2, 3]\n",
    "l1 = my_func5(l1)\n",
    "l1"
   ]
  },
  {
   "cell_type": "code",
   "execution_count": null,
   "metadata": {
    "collapsed": true
   },
   "outputs": [],
   "source": []
  }
 ],
 "metadata": {
  "kernelspec": {
   "display_name": "Python [conda env:aind-dl]",
   "language": "python",
   "name": "conda-env-aind-dl-py"
  },
  "language_info": {
   "codemirror_mode": {
    "name": "ipython",
    "version": 3
   },
   "file_extension": ".py",
   "mimetype": "text/x-python",
   "name": "python",
   "nbconvert_exporter": "python",
   "pygments_lexer": "ipython3",
   "version": "3.5.3"
  },
  "toc": {
   "base_numbering": 1,
   "nav_menu": {},
   "number_sections": true,
   "sideBar": true,
   "skip_h1_title": false,
   "title_cell": "Table of Contents",
   "title_sidebar": "Contents",
   "toc_cell": false,
   "toc_position": {},
   "toc_section_display": true,
   "toc_window_display": false
  }
 },
 "nbformat": 4,
 "nbformat_minor": 2
}
