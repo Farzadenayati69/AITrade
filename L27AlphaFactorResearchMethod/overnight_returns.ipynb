{
 "cells": [
  {
   "cell_type": "markdown",
   "metadata": {
    "deletable": true,
    "editable": true
   },
   "source": [
    "# Overnight returns"
   ]
  },
  {
   "cell_type": "markdown",
   "metadata": {
    "deletable": true,
    "editable": true
   },
   "source": [
    "[Overnight Returns and Firm-Specific Investor Sentiment](https://papers.ssrn.com/sol3/papers.cfm?abstract_id=2554010)\n",
    "\n",
    "> **Abtract**: We explore the possibility that overnight returns can serve as a measure of firm-specific investor sentiment by analyzing whether they exhibit characteristics expected of a sentiment measure. First, we document short-term persistence in overnight returns, consistent with existing evidence of short-term persistence in share demand of sentiment-influenced retail investors. Second, we find that short-term persistence is stronger for harder-to-value firms, consistent with evidence that sentiment plays a larger role when there is less objective data available for valuation. Third, we show that stocks with high (low) overnight returns underperform (outperform) over the longer-term, consistent with evidence of temporary sentiment-driven mispricing.  \n",
    "\n",
    "> **p 2, I**: The recent work of Berkman, Koch, Tuttle, and Zhang (2012) suggests that a stock’s\n",
    "overnight (close-to-open) return can serve as a measure of firm-level sentiment.\n",
    "\n",
    "> **p 3, I**: Specifically, Berkman et al. (2012) find that attention-generating events (high absolute returns or\n",
    "strong net buying by retail investors) on one day lead to higher demand by individual investors,\n",
    "concentrated near the open of the next trading day...This creates temporary price pressure at the\n",
    "open, resulting in elevated overnight returns that are reversed during the trading day.\n",
    "\n",
    "> **p 3, I**: We conduct three sets of analyses. **In the first\n",
    "we test for short-run persistence in overnight returns.** The basis for expecting this from a\n",
    "measure of sentiment is the evidence in Barber et al. (2009) that the order imbalances of retail\n",
    "investors, who are the investors most likely to exhibit sentiment, persist for periods extending\n",
    "over several weeks...In the third analysis we\n",
    "examine whether stocks with high overnight returns underperform those with low overnight\n",
    "returns over the long term."
   ]
  },
  {
   "cell_type": "markdown",
   "metadata": {
    "deletable": true,
    "editable": true
   },
   "source": [
    "## Install packages"
   ]
  },
  {
   "cell_type": "code",
   "execution_count": 1,
   "metadata": {
    "collapsed": true,
    "deletable": true,
    "editable": true
   },
   "outputs": [],
   "source": [
    "import sys"
   ]
  },
  {
   "cell_type": "code",
   "execution_count": 2,
   "metadata": {
    "collapsed": true,
    "deletable": true,
    "editable": true
   },
   "outputs": [],
   "source": [
    "#!{sys.executable} -m pip install -r requirements.txt"
   ]
  },
  {
   "cell_type": "code",
   "execution_count": 4,
   "metadata": {
    "collapsed": false,
    "deletable": true,
    "editable": true
   },
   "outputs": [],
   "source": [
    "import cvxpy as cvx\n",
    "import numpy as np\n",
    "import pandas as pd\n",
    "import time\n",
    "import os\n",
    "import quiz_helper\n",
    "import matplotlib.pyplot as plt"
   ]
  },
  {
   "cell_type": "code",
   "execution_count": 5,
   "metadata": {
    "collapsed": true,
    "deletable": true,
    "editable": true
   },
   "outputs": [],
   "source": [
    "%matplotlib inline\n",
    "plt.style.use('ggplot')\n",
    "plt.rcParams['figure.figsize'] = (14, 8)"
   ]
  },
  {
   "cell_type": "markdown",
   "metadata": {
    "deletable": true,
    "editable": true
   },
   "source": [
    "### data bundle"
   ]
  },
  {
   "cell_type": "code",
   "execution_count": 6,
   "metadata": {
    "collapsed": true,
    "deletable": true,
    "editable": true
   },
   "outputs": [],
   "source": [
    "import os\n",
    "import quiz_helper\n",
    "from zipline.data import bundles"
   ]
  },
  {
   "cell_type": "code",
   "execution_count": 8,
   "metadata": {
    "collapsed": false,
    "deletable": true,
    "editable": true
   },
   "outputs": [
    {
     "name": "stdout",
     "output_type": "stream",
     "text": [
      "Data Registered\n"
     ]
    },
    {
     "name": "stderr",
     "output_type": "stream",
     "text": [
      "/root/anaconda2/envs/aind-dl/lib/python3.5/site-packages/ipykernel/__main__.py:3: UserWarning: Overwriting bundle with name 'm4-quiz-eod-quotemedia'\n",
      "  app.launch_new_instance()\n"
     ]
    }
   ],
   "source": [
    "os.environ['ZIPLINE_ROOT'] = os.path.join(os.getcwd(),  '..','data','module_4_quizzes_eod')\n",
    "ingest_func = bundles.csvdir.csvdir_equities(['daily'], quiz_helper.EOD_BUNDLE_NAME)\n",
    "bundles.register(quiz_helper.EOD_BUNDLE_NAME, ingest_func)\n",
    "print('Data Registered')"
   ]
  },
  {
   "cell_type": "markdown",
   "metadata": {
    "deletable": true,
    "editable": true
   },
   "source": [
    "### Build pipeline engine"
   ]
  },
  {
   "cell_type": "code",
   "execution_count": 9,
   "metadata": {
    "collapsed": true,
    "deletable": true,
    "editable": true
   },
   "outputs": [],
   "source": [
    "from zipline.pipeline import Pipeline\n",
    "from zipline.pipeline.factors import AverageDollarVolume\n",
    "from zipline.utils.calendars import get_calendar\n",
    "\n",
    "universe = AverageDollarVolume(window_length=120).top(500) \n",
    "trading_calendar = get_calendar('NYSE') \n",
    "bundle_data = bundles.load(quiz_helper.EOD_BUNDLE_NAME)\n",
    "engine = quiz_helper.build_pipeline_engine(bundle_data, trading_calendar)"
   ]
  },
  {
   "cell_type": "markdown",
   "metadata": {
    "deletable": true,
    "editable": true
   },
   "source": [
    "### View Data¶\n",
    "With the pipeline engine built, let's get the stocks at the end of the period in the universe we're using. We'll use these tickers to generate the returns data for the our risk model."
   ]
  },
  {
   "cell_type": "code",
   "execution_count": 10,
   "metadata": {
    "collapsed": false,
    "deletable": true,
    "editable": true
   },
   "outputs": [
    {
     "data": {
      "text/plain": [
       "[Equity(0 [A]),\n",
       " Equity(1 [AAL]),\n",
       " Equity(2 [AAP]),\n",
       " Equity(3 [AAPL]),\n",
       " Equity(4 [ABBV]),\n",
       " Equity(5 [ABC]),\n",
       " Equity(6 [ABT]),\n",
       " Equity(7 [ACN]),\n",
       " Equity(8 [ADBE]),\n",
       " Equity(9 [ADI]),\n",
       " Equity(10 [ADM]),\n",
       " Equity(11 [ADP]),\n",
       " Equity(12 [ADS]),\n",
       " Equity(13 [ADSK]),\n",
       " Equity(14 [AEE]),\n",
       " Equity(15 [AEP]),\n",
       " Equity(16 [AES]),\n",
       " Equity(17 [AET]),\n",
       " Equity(18 [AFL]),\n",
       " Equity(19 [AGN]),\n",
       " Equity(20 [AIG]),\n",
       " Equity(21 [AIV]),\n",
       " Equity(22 [AIZ]),\n",
       " Equity(23 [AJG]),\n",
       " Equity(24 [AKAM]),\n",
       " Equity(25 [ALB]),\n",
       " Equity(26 [ALGN]),\n",
       " Equity(27 [ALK]),\n",
       " Equity(28 [ALL]),\n",
       " Equity(29 [ALLE]),\n",
       " Equity(30 [ALXN]),\n",
       " Equity(31 [AMAT]),\n",
       " Equity(32 [AMD]),\n",
       " Equity(33 [AME]),\n",
       " Equity(34 [AMG]),\n",
       " Equity(35 [AMGN]),\n",
       " Equity(36 [AMP]),\n",
       " Equity(37 [AMT]),\n",
       " Equity(38 [AMZN]),\n",
       " Equity(39 [ANDV]),\n",
       " Equity(40 [ANSS]),\n",
       " Equity(41 [ANTM]),\n",
       " Equity(42 [AON]),\n",
       " Equity(43 [AOS]),\n",
       " Equity(44 [APA]),\n",
       " Equity(45 [APC]),\n",
       " Equity(46 [APD]),\n",
       " Equity(47 [APH]),\n",
       " Equity(48 [ARE]),\n",
       " Equity(49 [ARNC]),\n",
       " Equity(50 [ATVI]),\n",
       " Equity(51 [AVB]),\n",
       " Equity(52 [AVGO]),\n",
       " Equity(53 [AVY]),\n",
       " Equity(54 [AWK]),\n",
       " Equity(55 [AXP]),\n",
       " Equity(56 [AYI]),\n",
       " Equity(57 [AZO]),\n",
       " Equity(58 [BA]),\n",
       " Equity(59 [BAC]),\n",
       " Equity(60 [BAX]),\n",
       " Equity(61 [BBT]),\n",
       " Equity(62 [BBY]),\n",
       " Equity(63 [BCR]),\n",
       " Equity(64 [BDX]),\n",
       " Equity(65 [BEN]),\n",
       " Equity(66 [BIIB]),\n",
       " Equity(67 [BK]),\n",
       " Equity(68 [BLK]),\n",
       " Equity(69 [BLL]),\n",
       " Equity(70 [BMY]),\n",
       " Equity(71 [BSX]),\n",
       " Equity(72 [BWA]),\n",
       " Equity(73 [BXP]),\n",
       " Equity(74 [C]),\n",
       " Equity(75 [CA]),\n",
       " Equity(76 [CAG]),\n",
       " Equity(77 [CAH]),\n",
       " Equity(78 [CAT]),\n",
       " Equity(79 [CB]),\n",
       " Equity(80 [CBG]),\n",
       " Equity(81 [CBOE]),\n",
       " Equity(82 [CBS]),\n",
       " Equity(83 [CCI]),\n",
       " Equity(84 [CCL]),\n",
       " Equity(85 [CELG]),\n",
       " Equity(86 [CERN]),\n",
       " Equity(87 [CF]),\n",
       " Equity(88 [CFG]),\n",
       " Equity(89 [CHD]),\n",
       " Equity(90 [CHK]),\n",
       " Equity(91 [CHRW]),\n",
       " Equity(92 [CHTR]),\n",
       " Equity(93 [CI]),\n",
       " Equity(94 [CINF]),\n",
       " Equity(95 [CL]),\n",
       " Equity(96 [CLX]),\n",
       " Equity(97 [CMA]),\n",
       " Equity(98 [CMCSA]),\n",
       " Equity(99 [CME]),\n",
       " Equity(100 [CMG]),\n",
       " Equity(101 [CMI]),\n",
       " Equity(102 [CMS]),\n",
       " Equity(103 [CNC]),\n",
       " Equity(104 [CNP]),\n",
       " Equity(105 [COF]),\n",
       " Equity(106 [COG]),\n",
       " Equity(107 [COL]),\n",
       " Equity(108 [COO]),\n",
       " Equity(109 [COP]),\n",
       " Equity(110 [COST]),\n",
       " Equity(111 [COTY]),\n",
       " Equity(112 [CPB]),\n",
       " Equity(113 [CRM]),\n",
       " Equity(114 [CSCO]),\n",
       " Equity(115 [CSRA]),\n",
       " Equity(116 [CSX]),\n",
       " Equity(117 [CTAS]),\n",
       " Equity(118 [CTL]),\n",
       " Equity(119 [CTSH]),\n",
       " Equity(120 [CTXS]),\n",
       " Equity(121 [CVS]),\n",
       " Equity(122 [CVX]),\n",
       " Equity(123 [CXO]),\n",
       " Equity(124 [D]),\n",
       " Equity(125 [DAL]),\n",
       " Equity(126 [DE]),\n",
       " Equity(127 [DFS]),\n",
       " Equity(128 [DG]),\n",
       " Equity(129 [DGX]),\n",
       " Equity(130 [DHI]),\n",
       " Equity(131 [DHR]),\n",
       " Equity(132 [DIS]),\n",
       " Equity(133 [DISCA]),\n",
       " Equity(134 [DISCK]),\n",
       " Equity(135 [DISH]),\n",
       " Equity(136 [DLR]),\n",
       " Equity(137 [DLTR]),\n",
       " Equity(138 [DOV]),\n",
       " Equity(139 [DPS]),\n",
       " Equity(140 [DRE]),\n",
       " Equity(141 [DRI]),\n",
       " Equity(142 [DTE]),\n",
       " Equity(143 [DUK]),\n",
       " Equity(144 [DVA]),\n",
       " Equity(145 [DVN]),\n",
       " Equity(146 [EA]),\n",
       " Equity(147 [EBAY]),\n",
       " Equity(148 [ECL]),\n",
       " Equity(149 [ED]),\n",
       " Equity(150 [EFX]),\n",
       " Equity(151 [EIX]),\n",
       " Equity(152 [EL]),\n",
       " Equity(153 [EMN]),\n",
       " Equity(154 [EMR]),\n",
       " Equity(155 [EOG]),\n",
       " Equity(156 [EQIX]),\n",
       " Equity(157 [EQR]),\n",
       " Equity(158 [EQT]),\n",
       " Equity(159 [ES]),\n",
       " Equity(160 [ESRX]),\n",
       " Equity(161 [ESS]),\n",
       " Equity(162 [ETFC]),\n",
       " Equity(163 [ETN]),\n",
       " Equity(164 [ETR]),\n",
       " Equity(165 [EVHC]),\n",
       " Equity(166 [EW]),\n",
       " Equity(167 [EXC]),\n",
       " Equity(168 [EXPD]),\n",
       " Equity(169 [EXPE]),\n",
       " Equity(170 [EXR]),\n",
       " Equity(171 [F]),\n",
       " Equity(172 [FAST]),\n",
       " Equity(173 [FB]),\n",
       " Equity(174 [FBHS]),\n",
       " Equity(175 [FCX]),\n",
       " Equity(176 [FDX]),\n",
       " Equity(177 [FE]),\n",
       " Equity(178 [FFIV]),\n",
       " Equity(179 [FIS]),\n",
       " Equity(180 [FISV]),\n",
       " Equity(181 [FITB]),\n",
       " Equity(182 [FL]),\n",
       " Equity(183 [FLIR]),\n",
       " Equity(184 [FLR]),\n",
       " Equity(185 [FLS]),\n",
       " Equity(186 [FMC]),\n",
       " Equity(187 [FOX]),\n",
       " Equity(188 [FOXA]),\n",
       " Equity(189 [FRT]),\n",
       " Equity(190 [FTI]),\n",
       " Equity(191 [GD]),\n",
       " Equity(192 [GE]),\n",
       " Equity(193 [GGP]),\n",
       " Equity(194 [GILD]),\n",
       " Equity(195 [GIS]),\n",
       " Equity(196 [GLW]),\n",
       " Equity(197 [GM]),\n",
       " Equity(198 [GOOG]),\n",
       " Equity(199 [GOOGL]),\n",
       " Equity(200 [GPC]),\n",
       " Equity(201 [GPN]),\n",
       " Equity(202 [GPS]),\n",
       " Equity(203 [GRMN]),\n",
       " Equity(204 [GS]),\n",
       " Equity(205 [GT]),\n",
       " Equity(206 [GWW]),\n",
       " Equity(207 [HAL]),\n",
       " Equity(208 [HAS]),\n",
       " Equity(209 [HBAN]),\n",
       " Equity(210 [HBI]),\n",
       " Equity(211 [HCA]),\n",
       " Equity(212 [HCN]),\n",
       " Equity(213 [HCP]),\n",
       " Equity(214 [HD]),\n",
       " Equity(215 [HES]),\n",
       " Equity(216 [HIG]),\n",
       " Equity(217 [HLT]),\n",
       " Equity(218 [HOG]),\n",
       " Equity(219 [HOLX]),\n",
       " Equity(220 [HON]),\n",
       " Equity(221 [HP]),\n",
       " Equity(222 [HPE]),\n",
       " Equity(223 [HPQ]),\n",
       " Equity(224 [HRB]),\n",
       " Equity(225 [HRL]),\n",
       " Equity(226 [HRS]),\n",
       " Equity(227 [HSIC]),\n",
       " Equity(228 [HST]),\n",
       " Equity(229 [HSY]),\n",
       " Equity(230 [HUM]),\n",
       " Equity(231 [IBM]),\n",
       " Equity(232 [ICE]),\n",
       " Equity(233 [IDXX]),\n",
       " Equity(234 [IFF]),\n",
       " Equity(235 [ILMN]),\n",
       " Equity(236 [INCY]),\n",
       " Equity(237 [INFO]),\n",
       " Equity(238 [INTC]),\n",
       " Equity(239 [INTU]),\n",
       " Equity(240 [IP]),\n",
       " Equity(241 [IPG]),\n",
       " Equity(242 [IR]),\n",
       " Equity(243 [IRM]),\n",
       " Equity(244 [ISRG]),\n",
       " Equity(245 [IT]),\n",
       " Equity(246 [ITW]),\n",
       " Equity(247 [IVZ]),\n",
       " Equity(248 [JBHT]),\n",
       " Equity(249 [JCI]),\n",
       " Equity(250 [JEC]),\n",
       " Equity(251 [JNJ]),\n",
       " Equity(252 [JNPR]),\n",
       " Equity(253 [JPM]),\n",
       " Equity(254 [JWN]),\n",
       " Equity(255 [K]),\n",
       " Equity(256 [KEY]),\n",
       " Equity(257 [KHC]),\n",
       " Equity(258 [KIM]),\n",
       " Equity(259 [KLAC]),\n",
       " Equity(260 [KMB]),\n",
       " Equity(261 [KMI]),\n",
       " Equity(262 [KMX]),\n",
       " Equity(263 [KO]),\n",
       " Equity(264 [KORS]),\n",
       " Equity(265 [KR]),\n",
       " Equity(266 [KSS]),\n",
       " Equity(267 [KSU]),\n",
       " Equity(268 [L]),\n",
       " Equity(269 [LB]),\n",
       " Equity(270 [LEG]),\n",
       " Equity(271 [LEN]),\n",
       " Equity(272 [LH]),\n",
       " Equity(273 [LKQ]),\n",
       " Equity(274 [LLL]),\n",
       " Equity(275 [LLY]),\n",
       " Equity(276 [LMT]),\n",
       " Equity(277 [LNC]),\n",
       " Equity(278 [LNT]),\n",
       " Equity(279 [LOW]),\n",
       " Equity(280 [LRCX]),\n",
       " Equity(281 [LUK]),\n",
       " Equity(282 [LUV]),\n",
       " Equity(283 [LVLT]),\n",
       " Equity(284 [LYB]),\n",
       " Equity(285 [M]),\n",
       " Equity(286 [MA]),\n",
       " Equity(287 [MAA]),\n",
       " Equity(288 [MAC]),\n",
       " Equity(289 [MAR]),\n",
       " Equity(290 [MAS]),\n",
       " Equity(291 [MAT]),\n",
       " Equity(292 [MCD]),\n",
       " Equity(293 [MCHP]),\n",
       " Equity(294 [MCK]),\n",
       " Equity(295 [MCO]),\n",
       " Equity(296 [MDLZ]),\n",
       " Equity(297 [MDT]),\n",
       " Equity(298 [MET]),\n",
       " Equity(299 [MGM]),\n",
       " Equity(300 [MHK]),\n",
       " Equity(301 [MKC]),\n",
       " Equity(302 [MLM]),\n",
       " Equity(303 [MMC]),\n",
       " Equity(304 [MNST]),\n",
       " Equity(305 [MO]),\n",
       " Equity(306 [MON]),\n",
       " Equity(307 [MOS]),\n",
       " Equity(308 [MPC]),\n",
       " Equity(309 [MRK]),\n",
       " Equity(310 [MRO]),\n",
       " Equity(311 [MS]),\n",
       " Equity(312 [MSFT]),\n",
       " Equity(313 [MSI]),\n",
       " Equity(314 [MTB]),\n",
       " Equity(315 [MTD]),\n",
       " Equity(316 [MU]),\n",
       " Equity(317 [MYL]),\n",
       " Equity(318 [NAVI]),\n",
       " Equity(319 [NBL]),\n",
       " Equity(320 [NDAQ]),\n",
       " Equity(321 [NEE]),\n",
       " Equity(322 [NEM]),\n",
       " Equity(323 [NFLX]),\n",
       " Equity(324 [NFX]),\n",
       " Equity(325 [NI]),\n",
       " Equity(326 [NKE]),\n",
       " Equity(327 [NLSN]),\n",
       " Equity(328 [NOC]),\n",
       " Equity(329 [NOV]),\n",
       " Equity(330 [NRG]),\n",
       " Equity(331 [NSC]),\n",
       " Equity(332 [NTAP]),\n",
       " Equity(333 [NTRS]),\n",
       " Equity(334 [NUE]),\n",
       " Equity(335 [NVDA]),\n",
       " Equity(336 [NWL]),\n",
       " Equity(337 [NWS]),\n",
       " Equity(338 [NWSA]),\n",
       " Equity(339 [O]),\n",
       " Equity(340 [OKE]),\n",
       " Equity(341 [OMC]),\n",
       " Equity(342 [ORCL]),\n",
       " Equity(343 [ORLY]),\n",
       " Equity(344 [OXY]),\n",
       " Equity(345 [PAYX]),\n",
       " Equity(346 [PBCT]),\n",
       " Equity(347 [PCAR]),\n",
       " Equity(348 [PCG]),\n",
       " Equity(349 [PDCO]),\n",
       " Equity(350 [PEG]),\n",
       " Equity(351 [PEP]),\n",
       " Equity(352 [PFE]),\n",
       " Equity(353 [PFG]),\n",
       " Equity(354 [PG]),\n",
       " Equity(355 [PGR]),\n",
       " Equity(356 [PH]),\n",
       " Equity(357 [PHM]),\n",
       " Equity(358 [PKG]),\n",
       " Equity(359 [PKI]),\n",
       " Equity(360 [PLD]),\n",
       " Equity(361 [PM]),\n",
       " Equity(362 [PNC]),\n",
       " Equity(363 [PNR]),\n",
       " Equity(364 [PNW]),\n",
       " Equity(365 [PPG]),\n",
       " Equity(366 [PPL]),\n",
       " Equity(367 [PRGO]),\n",
       " Equity(368 [PRU]),\n",
       " Equity(369 [PSA]),\n",
       " Equity(370 [PSX]),\n",
       " Equity(371 [PVH]),\n",
       " Equity(372 [PWR]),\n",
       " Equity(373 [PX]),\n",
       " Equity(374 [PXD]),\n",
       " Equity(375 [PYPL]),\n",
       " Equity(376 [QCOM]),\n",
       " Equity(377 [QRVO]),\n",
       " Equity(378 [RCL]),\n",
       " Equity(379 [RE]),\n",
       " Equity(380 [REG]),\n",
       " Equity(381 [REGN]),\n",
       " Equity(382 [RF]),\n",
       " Equity(383 [RHI]),\n",
       " Equity(384 [RHT]),\n",
       " Equity(385 [RJF]),\n",
       " Equity(386 [RL]),\n",
       " Equity(387 [RMD]),\n",
       " Equity(388 [ROK]),\n",
       " Equity(389 [ROP]),\n",
       " Equity(390 [ROST]),\n",
       " Equity(391 [RRC]),\n",
       " Equity(392 [RSG]),\n",
       " Equity(393 [RTN]),\n",
       " Equity(394 [SBAC]),\n",
       " Equity(395 [SBUX]),\n",
       " Equity(396 [SCG]),\n",
       " Equity(397 [SCHW]),\n",
       " Equity(398 [SEE]),\n",
       " Equity(399 [SHW]),\n",
       " Equity(400 [SIG]),\n",
       " Equity(401 [SJM]),\n",
       " Equity(402 [SLB]),\n",
       " Equity(403 [SLG]),\n",
       " Equity(404 [SNA]),\n",
       " Equity(405 [SNI]),\n",
       " Equity(406 [SNPS]),\n",
       " Equity(407 [SO]),\n",
       " Equity(408 [SPG]),\n",
       " Equity(409 [SPLS]),\n",
       " Equity(410 [SRCL]),\n",
       " Equity(411 [SRE]),\n",
       " Equity(412 [STI]),\n",
       " Equity(413 [STT]),\n",
       " Equity(414 [STX]),\n",
       " Equity(415 [STZ]),\n",
       " Equity(416 [SWK]),\n",
       " Equity(417 [SWKS]),\n",
       " Equity(418 [SYF]),\n",
       " Equity(419 [SYK]),\n",
       " Equity(420 [SYMC]),\n",
       " Equity(421 [SYY]),\n",
       " Equity(422 [T]),\n",
       " Equity(423 [TAP]),\n",
       " Equity(424 [TDG]),\n",
       " Equity(425 [TEL]),\n",
       " Equity(426 [TGT]),\n",
       " Equity(427 [TIF]),\n",
       " Equity(428 [TJX]),\n",
       " Equity(429 [TMK]),\n",
       " Equity(430 [TMO]),\n",
       " Equity(431 [TRIP]),\n",
       " Equity(432 [TROW]),\n",
       " Equity(433 [TRV]),\n",
       " Equity(434 [TSCO]),\n",
       " Equity(435 [TSN]),\n",
       " Equity(436 [TSS]),\n",
       " Equity(437 [TWX]),\n",
       " Equity(438 [TXN]),\n",
       " Equity(439 [TXT]),\n",
       " Equity(440 [UAA]),\n",
       " Equity(441 [UAL]),\n",
       " Equity(442 [UDR]),\n",
       " Equity(443 [UHS]),\n",
       " Equity(444 [ULTA]),\n",
       " Equity(445 [UNH]),\n",
       " Equity(446 [UNM]),\n",
       " Equity(447 [UNP]),\n",
       " Equity(448 [UPS]),\n",
       " Equity(449 [URI]),\n",
       " Equity(450 [USB]),\n",
       " Equity(451 [UTX]),\n",
       " Equity(452 [V]),\n",
       " Equity(453 [VAR]),\n",
       " Equity(454 [VFC]),\n",
       " Equity(455 [VIAB]),\n",
       " Equity(456 [VLO]),\n",
       " Equity(457 [VMC]),\n",
       " Equity(458 [VNO]),\n",
       " Equity(459 [VRSK]),\n",
       " Equity(460 [VRSN]),\n",
       " Equity(461 [VRTX]),\n",
       " Equity(462 [VTR]),\n",
       " Equity(463 [VZ]),\n",
       " Equity(464 [WAT]),\n",
       " Equity(465 [WBA]),\n",
       " Equity(466 [WDC]),\n",
       " Equity(467 [WEC]),\n",
       " Equity(468 [WFC]),\n",
       " Equity(469 [WHR]),\n",
       " Equity(471 [WM]),\n",
       " Equity(472 [WMB]),\n",
       " Equity(473 [WMT]),\n",
       " Equity(474 [WRK]),\n",
       " Equity(475 [WU]),\n",
       " Equity(476 [WY]),\n",
       " Equity(477 [WYN]),\n",
       " Equity(478 [WYNN]),\n",
       " Equity(479 [XEC]),\n",
       " Equity(480 [XEL]),\n",
       " Equity(481 [XL]),\n",
       " Equity(482 [XLNX]),\n",
       " Equity(483 [XOM]),\n",
       " Equity(484 [XRAY]),\n",
       " Equity(485 [XRX]),\n",
       " Equity(486 [XYL]),\n",
       " Equity(487 [YUM]),\n",
       " Equity(488 [ZBH]),\n",
       " Equity(489 [ZION]),\n",
       " Equity(490 [ZTS])]"
      ]
     },
     "execution_count": 10,
     "metadata": {},
     "output_type": "execute_result"
    }
   ],
   "source": [
    "universe_end_date = pd.Timestamp('2016-01-05', tz='UTC')\n",
    "\n",
    "universe_tickers = engine\\\n",
    "    .run_pipeline(\n",
    "        Pipeline(screen=universe),\n",
    "        universe_end_date,\n",
    "        universe_end_date)\\\n",
    "    .index.get_level_values(1)\\\n",
    "    .values.tolist()\n",
    "    \n",
    "universe_tickers"
   ]
  },
  {
   "cell_type": "markdown",
   "metadata": {
    "deletable": true,
    "editable": true
   },
   "source": [
    "# Get Returns data"
   ]
  },
  {
   "cell_type": "code",
   "execution_count": 11,
   "metadata": {
    "collapsed": true,
    "deletable": true,
    "editable": true
   },
   "outputs": [],
   "source": [
    "from zipline.data.data_portal import DataPortal\n",
    "\n",
    "data_portal = DataPortal(\n",
    "    bundle_data.asset_finder,\n",
    "    trading_calendar=trading_calendar,\n",
    "    first_trading_day=bundle_data.equity_daily_bar_reader.first_trading_day,\n",
    "    equity_minute_reader=None,\n",
    "    equity_daily_reader=bundle_data.equity_daily_bar_reader,\n",
    "    adjustment_reader=bundle_data.adjustment_reader)"
   ]
  },
  {
   "cell_type": "markdown",
   "metadata": {
    "deletable": true,
    "editable": true
   },
   "source": [
    "## Get pricing data helper function"
   ]
  },
  {
   "cell_type": "code",
   "execution_count": 12,
   "metadata": {
    "collapsed": true,
    "deletable": true,
    "editable": true
   },
   "outputs": [],
   "source": [
    "from quiz_helper import get_pricing"
   ]
  },
  {
   "cell_type": "markdown",
   "metadata": {
    "deletable": true,
    "editable": true
   },
   "source": [
    "## get pricing data into a dataframe"
   ]
  },
  {
   "cell_type": "code",
   "execution_count": null,
   "metadata": {
    "collapsed": true,
    "deletable": true,
    "editable": true
   },
   "outputs": [],
   "source": [
    "returns_df = \\\n",
    "    get_pricing(\n",
    "        data_portal,\n",
    "        trading_calendar,\n",
    "        universe_tickers,\n",
    "        universe_end_date - pd.DateOffset(years=5),\n",
    "        universe_end_date)\\\n",
    "    .pct_change()[1:].fillna(0) #convert prices into returns\n",
    "\n",
    "returns_df"
   ]
  },
  {
   "cell_type": "markdown",
   "metadata": {
    "deletable": true,
    "editable": true
   },
   "source": [
    "## Sector data helper function\n",
    "We'll create an object for you, which defines a sector for each stock.  The sectors are represented by integers.  We inherit from the Classifier class.  [Documentation for Classifier](https://www.quantopian.com/posts/pipeline-classifiers-are-here), and the [source code for Classifier](https://github.com/quantopian/zipline/blob/master/zipline/pipeline/classifiers/classifier.py)"
   ]
  },
  {
   "cell_type": "code",
   "execution_count": null,
   "metadata": {
    "collapsed": true,
    "deletable": true,
    "editable": true
   },
   "outputs": [],
   "source": [
    "from zipline.pipeline.classifiers import Classifier\n",
    "from zipline.utils.numpy_utils import int64_dtype\n",
    "class Sector(Classifier):\n",
    "    dtype = int64_dtype\n",
    "    window_length = 0\n",
    "    inputs = ()\n",
    "    missing_value = -1\n",
    "\n",
    "    def __init__(self):\n",
    "        self.data = np.load('../../data/project_4_sector/data.npy')\n",
    "\n",
    "    def _compute(self, arrays, dates, assets, mask):\n",
    "        return np.where(\n",
    "            mask,\n",
    "            self.data[assets],\n",
    "            self.missing_value,\n",
    "        )"
   ]
  },
  {
   "cell_type": "code",
   "execution_count": null,
   "metadata": {
    "collapsed": true,
    "deletable": true,
    "editable": true
   },
   "outputs": [],
   "source": [
    "sector = Sector()"
   ]
  },
  {
   "cell_type": "markdown",
   "metadata": {
    "deletable": true,
    "editable": true
   },
   "source": [
    "## We'll use 2 years of data to calculate the factor"
   ]
  },
  {
   "cell_type": "markdown",
   "metadata": {
    "deletable": true,
    "editable": true
   },
   "source": [
    "**Note:** Going back 2 years falls on a day when the market is closed. Pipeline package doesn't handle start or end dates that don't fall on days when the market is open. To fix this, we went back 2 extra days to fall on the next day when the market is open."
   ]
  },
  {
   "cell_type": "code",
   "execution_count": 13,
   "metadata": {
    "collapsed": false,
    "deletable": true,
    "editable": true
   },
   "outputs": [
    {
     "data": {
      "text/plain": [
       "Timestamp('2014-01-03 00:00:00+0000', tz='UTC')"
      ]
     },
     "execution_count": 13,
     "metadata": {},
     "output_type": "execute_result"
    }
   ],
   "source": [
    "factor_start_date = universe_end_date - pd.DateOffset(years=2, days=2)\n",
    "factor_start_date"
   ]
  },
  {
   "cell_type": "markdown",
   "metadata": {
    "deletable": true,
    "editable": true
   },
   "source": [
    "## Walk through \"Returns\" class\n",
    "\n",
    "We'll walk through how the `Returns` class works, because we'll create a new class that inherits from `Returns` in order to calculate a customized return.\n",
    "\n",
    "### Returns inherits from CustomFactor\n",
    "The zipline package has a class [zipline.pipeline.factors.Returns](https://www.zipline.io/appendix.html?highlight=returns#zipline.pipeline.factors.Returns) which inherits from class [zipline.pipeline.CustomFactor](https://www.zipline.io/appendix.html?highlight=custom%20factor#zipline.pipeline.CustomFactor).  The [source code for Returns is here](https://www.zipline.io/_modules/zipline/pipeline/factors/basic.html#Returns), and the [source code for CustomFactor is here.](https://www.zipline.io/_modules/zipline/pipeline/factors/factor.html#CustomFactor) \n",
    "\n",
    "**Please open the links to the documentation and source code and follow along with our notes about the code**"
   ]
  },
  {
   "cell_type": "markdown",
   "metadata": {
    "deletable": true,
    "editable": true
   },
   "source": [
    "### Inputs variable\n",
    "The CustomFactor class takes the `inputs` as a parameter of the constructor for the class, otherwise it looks for a class-level variable named `inputs`.  `inputs` takes a list of BoundColumn instances.  These help us choose what kind of price-volume data to use as input.  The `Returns` class sets this to\n",
    "```\n",
    "inputs = [USEquityPricing.close]\n",
    "```"
   ]
  },
  {
   "cell_type": "markdown",
   "metadata": {
    "deletable": true,
    "editable": true
   },
   "source": [
    "### USEquityPricing class\n",
    "The class [USEquityPricing](https://www.zipline.io/appendix.html?highlight=usequitypricing#zipline.pipeline.data.USEquityPricing) has a couple BoundColumn instances that we can choose from.\n",
    "close = USEquityPricing.close  \n",
    "high = USEquityPricing.high  \n",
    "low = USEquityPricing.low  \n",
    "open = USEquityPricing.open  \n",
    "volume = USEquityPricing.volume  "
   ]
  },
  {
   "cell_type": "markdown",
   "metadata": {
    "deletable": true,
    "editable": true
   },
   "source": [
    "## Quiz 1\n",
    "If we wish to calculate close to open returns, which columns from USEquityPricing do you think we'll want to put into the list and set as `inputs`?"
   ]
  },
  {
   "cell_type": "markdown",
   "metadata": {
    "deletable": true,
    "editable": true
   },
   "source": [
    "## Quiz 1 Answer here"
   ]
  },
  {
   "cell_type": "markdown",
   "metadata": {
    "deletable": true,
    "editable": true
   },
   "source": [
    "### window_length variable\n",
    "The CustomFactor class takes `window_length` (an integer) as a constructor parameter, otherwise it looks for a class-level variable named `window_length`.  If we chose a `window_length = 2` then this means that we'll be passing two days' worth of data (two rows) into the `compute` function."
   ]
  },
  {
   "cell_type": "markdown",
   "metadata": {
    "deletable": true,
    "editable": true
   },
   "source": [
    "## Quiz 2\n",
    "What window length would you choose if you were calculating daily close to open returns?  Assume we have daily data."
   ]
  },
  {
   "cell_type": "markdown",
   "metadata": {
    "deletable": true,
    "editable": true
   },
   "source": [
    "## Answer 2 here\n"
   ]
  },
  {
   "cell_type": "markdown",
   "metadata": {
    "deletable": true,
    "editable": true
   },
   "source": [
    "### Compute function\n",
    "The function definition of the `Returns` class includes the `compute` function\n",
    "```\n",
    "def compute(self, today, assets, out, close):\n",
    "        out[:] = (close[-1] - close[0]) / close[0]\n",
    "        \n",
    "```\n",
    "* `today`: this is handled by parent classes; it has the datetime for the \"today\" row for the given subset of data.  We won't use it for this function implementation.\n",
    "* `assets`: this is handled by parent classes: it has the column header names for the \"out\" and \"close\".  We won't use it for this function implementation.\n",
    "* `out`: this points to a numpy array that will store the result of our compute.  It stores our \"return\" value of the `compute` function instead of explicitly returning a variable.\n",
    "* `*input`: a tuple of numpy arrays that contain input data that we'll use to compute a signal.  In the `Returns` definition of `compute`, the input is a single value `close`, but we can list more if we need additional columns of data to compute a return.\n",
    "\n",
    "\n",
    "If we set the `window_length=2`, then the `compute` function gets two rows worth of data from `close`.  The index 1 value is the most recent value, and the index 0 value is the earliest in time.  Recall that in Python, the -1 index is the same as getting the highest indexed value, so with a numpy array of just length two, -1 gives us the value at index 1.\n",
    "\n",
    "So the line of code is calculating the one-day return using the close price, and storing that into the `out` variable.\n",
    "\n",
    "$ Return = \\frac{close_1 - close_0}{close_0} $ "
   ]
  },
  {
   "cell_type": "markdown",
   "metadata": {
    "deletable": true,
    "editable": true
   },
   "source": [
    "## Quiz 3\n",
    "Given a numpy array for open prices called `open` and a numpy array for close prices called `close`, what code would you write to get the most recent open price?  Assume that you have 2 days of data."
   ]
  },
  {
   "cell_type": "markdown",
   "metadata": {
    "deletable": true,
    "editable": true
   },
   "source": [
    "## Answer 3 here\n"
   ]
  },
  {
   "cell_type": "markdown",
   "metadata": {
    "deletable": true,
    "editable": true
   },
   "source": [
    "## Close To Open Returns (Overnight Returns)\n",
    "\n",
    "The close-to-open return is the change in price between when the market closed on one day and when it opened on the next.  So it's\n",
    "\n",
    "$ CloseToOpen = \\frac{open_1 - close_0}{close_0}$ \n",
    "\n",
    "We'll now create a class `CTO` that inherits from `Return`, and override the `compute` function."
   ]
  },
  {
   "cell_type": "markdown",
   "metadata": {
    "deletable": true,
    "editable": true
   },
   "source": [
    "## Quiz 4\n",
    "Create a customized class `CloseToOpenReturns` that inherit from the Returns class.  Define the compute function to calculate overnight returns."
   ]
  },
  {
   "cell_type": "code",
   "execution_count": null,
   "metadata": {
    "collapsed": true,
    "deletable": true,
    "editable": true
   },
   "outputs": [],
   "source": [
    "from zipline.pipeline.data import USEquityPricing\n",
    "from zipline.pipeline.factors import Returns"
   ]
  },
  {
   "cell_type": "code",
   "execution_count": null,
   "metadata": {
    "collapsed": true,
    "deletable": true,
    "editable": true
   },
   "outputs": [],
   "source": [
    "class CloseToOpenReturns(Returns):\n",
    "    \"\"\"\n",
    "\n",
    "    \"\"\"\n",
    "    \n",
    "    # TODO: Set window_length (we're calculating daily returns)\n",
    "    window_length = # ...\n",
    "\n",
    "    # TODO: set inputs\n",
    "    inputs = #[ ..., ...]\n",
    "    \n",
    "    # The compute method is passed the current day, the assets list, a pre-allocated out vector, and the\n",
    "    # factor's items in the list `inputs`\n",
    "    def compute(self, today, assets, out, opens, closes):\n",
    "        #TODO: calculate close-to-open return and save into out[:]\n",
    "        out[:] = # ..."
   ]
  },
  {
   "cell_type": "markdown",
   "metadata": {
    "deletable": true,
    "editable": true
   },
   "source": [
    "## Trailing overnight returns\n",
    "\n",
    "The cumulative overnight returns over a week may be predictive of future returns; hence it's a kind of momentum signal.\n",
    "\n",
    "$ TrailingOvernightReturns = \\sum_{1}^{Days}CloseToOpen_t$  \n",
    "Where $Days$ could be 5 if we are looking at a weekly window.\n",
    "\n",
    "So we want to take the `CloseToOpenReturns` as our input into another class, `TrailingOvernightReturns`, which also inherits from `Returns`."
   ]
  },
  {
   "cell_type": "markdown",
   "metadata": {
    "deletable": true,
    "editable": true
   },
   "source": [
    "### mask\n",
    "Note that we're going to create another class that inherits from `Returns`.  Recall that `Returns` inherits from [CustomFactor](https://www.zipline.io/appendix.html?highlight=factor#zipline.pipeline.CustomFactor), which has a `mask` parameter for its constructor.  The `mask` parameter takes in a `Filter` object, which determines which stock series get passed to the `compute` function.  Note that when we used `AverageDollarVolume` and stored its output in the variable `universe`, this `universe` variable is of type `Filter`."
   ]
  },
  {
   "cell_type": "markdown",
   "metadata": {
    "deletable": true,
    "editable": true
   },
   "source": [
    "## Quiz 5\n",
    "If you wanted to create an object of type CloseToOpen, and also define the object so that it only computes returns on the set of stocks in universe that we selected earlier in this notebook, what code would you write?"
   ]
  },
  {
   "cell_type": "markdown",
   "metadata": {
    "deletable": true,
    "editable": true
   },
   "source": [
    "## Answer 5 here"
   ]
  },
  {
   "cell_type": "markdown",
   "metadata": {
    "deletable": true,
    "editable": true
   },
   "source": [
    "## numpy.nansum\n",
    "Numpy has a `nansum` function that treat NaN (not a number) as zeros.  Note that by default, if we give numpy.nansum a 2D numpy array, it will calculate a single sum across all rows and columns.  For our purposes, we want to compute a sum over 5 days (5 rows), and each column has daily close to open returns for a single stock.  It helps to think of the a matrix (2D numpy array) as a nested list of lists. This makes it easier to decide whether to set `axis=0` or `axis=1`.\n",
    "```\n",
    "tmp = \n",
    "[ \n",
    "  [stock1day1, stock2day1 ]\n",
    "  [stock1day2, stock2day2 ]\n",
    "  ...\n",
    "]\n",
    "```\n",
    "If we look at the outermost list, each element is a list that represents one day's worth of data.  If we used `np.nansum(tmp,axis=0)`, this would sum across the days for each stock.  If we think of this as a 2D matrix, setting `axis=0` is like calculating a sum for each column.\n",
    "\n",
    "If we set `axis=0`, this applies `nansum` to the outermost list (axis 0), so that we end up with:\n",
    "```\n",
    "[\n",
    "  sum_of_stock_1, sum_of_stock_2\n",
    "]\n",
    "```\n",
    "Alternatively, if we set `axis=1`, this applies `nansum` to the lists nested inside the outermost list.  Each of these nested lists represent data for a single day, for all stocks, so that we get:\n",
    "```\n",
    "[\n",
    "  sum_of_day_1,\n",
    "  sum_of_day_2,\n",
    "]\n",
    "```"
   ]
  },
  {
   "cell_type": "markdown",
   "metadata": {
    "deletable": true,
    "editable": true
   },
   "source": [
    "## Example using numpy.nansum"
   ]
  },
  {
   "cell_type": "code",
   "execution_count": null,
   "metadata": {
    "collapsed": true,
    "deletable": true,
    "editable": true
   },
   "outputs": [],
   "source": [
    "tmp = np.array([\n",
    "                 [1, 2, 3],\n",
    "                 [np.nan, np.nan, np.nan],\n",
    "                 [1, 1, 1]\n",
    "               ])\n",
    "\n",
    "print(f\"Sum across rows and columns: numpy.nansum(tmp) \\n{np.nansum(tmp)}\")\n",
    "print(f\"Sum for each column: numpy.nansum(tmp,axis=0) \\n{np.nansum(tmp,axis=0)}\")\n",
    "print(f\"Sum for each row: numpy.nansum(tmp,axis=1) \\n{np.nansum(tmp,axis=1)}\")"
   ]
  },
  {
   "cell_type": "markdown",
   "metadata": {
    "deletable": true,
    "editable": true
   },
   "source": [
    "## Quiz 6\n",
    "For our purposes, we want want a sum for each stock series.  Which axis do you think we should choose?"
   ]
  },
  {
   "cell_type": "markdown",
   "metadata": {
    "deletable": true,
    "editable": true
   },
   "source": [
    "## Answer 6 here\n"
   ]
  },
  {
   "cell_type": "markdown",
   "metadata": {
    "deletable": true,
    "editable": true
   },
   "source": [
    "## Quiz 7\n",
    "Create a class TrailingOvernightReturns that inherits from Returns and takes the cumulative weekly sum of overnight returns."
   ]
  },
  {
   "cell_type": "code",
   "execution_count": null,
   "metadata": {
    "collapsed": true,
    "deletable": true,
    "editable": true
   },
   "outputs": [],
   "source": [
    "class TrailingOvernightReturns(Returns):\n",
    "    \"\"\"\n",
    "    Sum of trailing close-to-open returns; we expect sentiment persistence at short horizons, so we\n",
    "    look at the 5-day (ie., 1 week) window\n",
    "    \"\"\"\n",
    "    # TODO: choose a window_length to calculate a weekly return\n",
    "    window_length = # ...\n",
    "    \n",
    "    # TODO: set inputs to a list containing the daily close to open returns\n",
    "    # Filter the close to open returns by our stock universe\n",
    "    inputs = #[...]\n",
    "    \n",
    "    def compute(self, today, assets, out, close_to_open):\n",
    "        #TODO: calculate the sum of close_to_open\n",
    "        #choose the axis so that there is a sum for each stock (each column)\n",
    "        #treat NaN as zeros\n",
    "        out[:] = # ..."
   ]
  },
  {
   "cell_type": "markdown",
   "metadata": {
    "deletable": true,
    "editable": true
   },
   "source": [
    "## Quiz 8\n",
    "Create a factor by instantiating the TrailingOvernightReturns class that you just defined.  Demean by sector, rank and covnert to a zscore."
   ]
  },
  {
   "cell_type": "code",
   "execution_count": null,
   "metadata": {
    "collapsed": true,
    "deletable": true,
    "editable": true
   },
   "outputs": [],
   "source": [
    "# TODO: create an overnight_returns_factor variable\n",
    "\n",
    "\n",
    "\n",
    "\n",
    "# create a pipeline called p\n",
    "p = Pipeline(screen=universe)\n",
    "p.add(overnight_returns_factor, 'Overnight_Sentiment')"
   ]
  },
  {
   "cell_type": "markdown",
   "metadata": {
    "deletable": true,
    "editable": true
   },
   "source": [
    "## Visualize pipeline"
   ]
  },
  {
   "cell_type": "code",
   "execution_count": null,
   "metadata": {
    "collapsed": true,
    "deletable": true,
    "editable": true
   },
   "outputs": [],
   "source": [
    "p.show_graph(format='png')"
   ]
  },
  {
   "cell_type": "markdown",
   "metadata": {
    "deletable": true,
    "editable": true
   },
   "source": [
    "## run pipeline and view the factor data"
   ]
  },
  {
   "cell_type": "code",
   "execution_count": null,
   "metadata": {
    "collapsed": true,
    "deletable": true,
    "editable": true
   },
   "outputs": [],
   "source": [
    "df = engine.run_pipeline(p, factor_start_date, universe_end_date)"
   ]
  },
  {
   "cell_type": "code",
   "execution_count": null,
   "metadata": {
    "collapsed": true,
    "deletable": true,
    "editable": true
   },
   "outputs": [],
   "source": [
    "df.head()"
   ]
  },
  {
   "cell_type": "markdown",
   "metadata": {
    "deletable": true,
    "editable": true
   },
   "source": [
    "## Visualize factor returns\n",
    "\n",
    "These are returns that a theoretical portfolio would have if its stock weights were determined by a single alpha factor's values."
   ]
  },
  {
   "cell_type": "code",
   "execution_count": null,
   "metadata": {
    "collapsed": true,
    "deletable": true,
    "editable": true
   },
   "outputs": [],
   "source": [
    "from quiz_helper import make_factor_plot"
   ]
  },
  {
   "cell_type": "code",
   "execution_count": null,
   "metadata": {
    "collapsed": true,
    "deletable": true,
    "editable": true
   },
   "outputs": [],
   "source": [
    "make_factor_plot(df, data_portal, trading_calendar, factor_start_date, universe_end_date);"
   ]
  },
  {
   "cell_type": "markdown",
   "metadata": {
    "deletable": true,
    "editable": true
   },
   "source": [
    "## Solutions\n",
    "Check out the [solution notebook here.](./overnight_returns_solution.ipynb)"
   ]
  },
  {
   "cell_type": "code",
   "execution_count": null,
   "metadata": {
    "collapsed": true,
    "deletable": true,
    "editable": true
   },
   "outputs": [],
   "source": []
  }
 ],
 "metadata": {
  "kernelspec": {
   "display_name": "Python [conda env:aind-dl]",
   "language": "python",
   "name": "conda-env-aind-dl-py"
  },
  "language_info": {
   "codemirror_mode": {
    "name": "ipython",
    "version": 3
   },
   "file_extension": ".py",
   "mimetype": "text/x-python",
   "name": "python",
   "nbconvert_exporter": "python",
   "pygments_lexer": "ipython3",
   "version": "3.5.3"
  },
  "toc": {
   "base_numbering": 1,
   "nav_menu": {},
   "number_sections": true,
   "sideBar": true,
   "skip_h1_title": false,
   "title_cell": "Table of Contents",
   "title_sidebar": "Contents",
   "toc_cell": false,
   "toc_position": {},
   "toc_section_display": true,
   "toc_window_display": true
  }
 },
 "nbformat": 4,
 "nbformat_minor": 2
}
