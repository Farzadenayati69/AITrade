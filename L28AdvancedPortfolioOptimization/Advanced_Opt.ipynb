{
 "cells": [
  {
   "cell_type": "code",
   "execution_count": 34,
   "metadata": {
    "collapsed": false,
    "deletable": true,
    "editable": true
   },
   "outputs": [],
   "source": [
    "import sys\n",
    "#!{sys.executable} -m pip install -r requirements.txt"
   ]
  },
  {
   "cell_type": "code",
   "execution_count": 35,
   "metadata": {
    "collapsed": false,
    "deletable": true,
    "editable": true,
    "scrolled": true
   },
   "outputs": [
    {
     "data": {
      "text/html": [
       "<script>requirejs.config({paths: { 'plotly': ['https://cdn.plot.ly/plotly-latest.min']},});if(!window.Plotly) {{require(['plotly'],function(plotly) {window.Plotly=plotly;});}}</script>"
      ],
      "text/vnd.plotly.v1+html": [
       "<script>requirejs.config({paths: { 'plotly': ['https://cdn.plot.ly/plotly-latest.min']},});if(!window.Plotly) {{require(['plotly'],function(plotly) {window.Plotly=plotly;});}}</script>"
      ]
     },
     "metadata": {},
     "output_type": "display_data"
    }
   ],
   "source": [
    "import pandas as pd\n",
    "import matplotlib.pyplot as plt\n",
    "import numpy as np\n",
    "import scipy.stats as stats\n",
    "import cvxpy as cvx\n",
    "import plotly as py\n",
    "import plotly.graph_objs as go\n",
    "import helper\n",
    "\n",
    "py.offline.init_notebook_mode(connected=True)\n",
    "%matplotlib inline\n",
    "plt.style.use('ggplot')"
   ]
  },
  {
   "cell_type": "markdown",
   "metadata": {
    "deletable": true,
    "editable": true
   },
   "source": [
    "## Optimization with an Alpha Model and a Risk Model\n",
    "In this exercise, we will construct an optimization problem using a stock universe consisting of 3 stocks. This problem will inherently be somewhat artificial, but using a stock universe of 3 stocks will allow us to create plots in 3 dimensions. These are useful for illustrating exactly what is going on in each step and will help develop your intuition for the problem. In this exercise, we will do the following steps:\n",
    "1. Create a 1-year-momentum-based alpha vector from some stock price data. \n",
    "2. Create a risk model using PCA.\n",
    "3. Construct the optimization problem using the alpha vector and risk model, and apply a set of standard constraints.\n",
    "4. Solve the optimization problem.\n"
   ]
  },
  {
   "cell_type": "markdown",
   "metadata": {
    "deletable": true,
    "editable": true
   },
   "source": [
    "## Load the data\n",
    "Load the data from the file `stock_prices_advanced_optimization.csv`."
   ]
  },
  {
   "cell_type": "code",
   "execution_count": 36,
   "metadata": {
    "collapsed": true,
    "deletable": true,
    "editable": true,
    "scrolled": true
   },
   "outputs": [],
   "source": [
    "prices = pd.read_csv('stock_prices_advanced_optimization.csv', parse_dates=['date'], index_col=0)"
   ]
  },
  {
   "cell_type": "markdown",
   "metadata": {
    "deletable": true,
    "editable": true
   },
   "source": [
    "The data are the price trends for 3 stocks, Stock A, Stock B and Stock C, for 4 years, from 2013 to 2017."
   ]
  },
  {
   "cell_type": "code",
   "execution_count": 37,
   "metadata": {
    "collapsed": false,
    "deletable": true,
    "editable": true,
    "scrolled": false
   },
   "outputs": [
    {
     "data": {
      "text/html": [
       "<div>\n",
       "<table border=\"1\" class=\"dataframe\">\n",
       "  <thead>\n",
       "    <tr style=\"text-align: right;\">\n",
       "      <th></th>\n",
       "      <th>A</th>\n",
       "      <th>B</th>\n",
       "      <th>C</th>\n",
       "    </tr>\n",
       "    <tr>\n",
       "      <th>date</th>\n",
       "      <th></th>\n",
       "      <th></th>\n",
       "      <th></th>\n",
       "    </tr>\n",
       "  </thead>\n",
       "  <tbody>\n",
       "    <tr>\n",
       "      <th>2013-07-02</th>\n",
       "      <td>100.000000</td>\n",
       "      <td>102.000000</td>\n",
       "      <td>104.000000</td>\n",
       "    </tr>\n",
       "    <tr>\n",
       "      <th>2013-07-03</th>\n",
       "      <td>99.872139</td>\n",
       "      <td>102.298629</td>\n",
       "      <td>104.821312</td>\n",
       "    </tr>\n",
       "    <tr>\n",
       "      <th>2013-07-05</th>\n",
       "      <td>99.109975</td>\n",
       "      <td>102.733517</td>\n",
       "      <td>104.256297</td>\n",
       "    </tr>\n",
       "    <tr>\n",
       "      <th>2013-07-08</th>\n",
       "      <td>99.971278</td>\n",
       "      <td>102.877047</td>\n",
       "      <td>103.631199</td>\n",
       "    </tr>\n",
       "    <tr>\n",
       "      <th>2013-07-09</th>\n",
       "      <td>98.866192</td>\n",
       "      <td>102.568696</td>\n",
       "      <td>106.375325</td>\n",
       "    </tr>\n",
       "  </tbody>\n",
       "</table>\n",
       "</div>"
      ],
      "text/plain": [
       "                     A           B           C\n",
       "date                                          \n",
       "2013-07-02  100.000000  102.000000  104.000000\n",
       "2013-07-03   99.872139  102.298629  104.821312\n",
       "2013-07-05   99.109975  102.733517  104.256297\n",
       "2013-07-08   99.971278  102.877047  103.631199\n",
       "2013-07-09   98.866192  102.568696  106.375325"
      ]
     },
     "execution_count": 37,
     "metadata": {},
     "output_type": "execute_result"
    }
   ],
   "source": [
    "prices.head()"
   ]
  },
  {
   "cell_type": "code",
   "execution_count": 38,
   "metadata": {
    "collapsed": false,
    "deletable": true,
    "editable": true,
    "scrolled": false
   },
   "outputs": [
    {
     "data": {
      "text/plain": [
       "<matplotlib.axes._subplots.AxesSubplot at 0x7ff54e348748>"
      ]
     },
     "execution_count": 38,
     "metadata": {},
     "output_type": "execute_result"
    },
    {
     "data": {
      "image/png": "[encoded data removed]",
      "text/plain": [
       "<matplotlib.figure.Figure at 0x7ff54e335c18>"
      ]
     },
     "metadata": {},
     "output_type": "display_data"
    }
   ],
   "source": [
    "prices.plot()"
   ]
  },
  {
   "cell_type": "markdown",
   "metadata": {
    "deletable": true,
    "editable": true
   },
   "source": [
    "Calculate the returns of these price data."
   ]
  },
  {
   "cell_type": "code",
   "execution_count": 39,
   "metadata": {
    "collapsed": true,
    "deletable": true,
    "editable": true,
    "scrolled": true
   },
   "outputs": [],
   "source": [
    "rets = prices.pct_change()[1:].fillna(0)"
   ]
  },
  {
   "cell_type": "code",
   "execution_count": 40,
   "metadata": {
    "collapsed": false
   },
   "outputs": [
    {
     "name": "stdout",
     "output_type": "stream",
     "text": [
      "                   A         B         C\n",
      "date                                    \n",
      "2013-07-03 -0.001279  0.002928  0.007897\n",
      "2013-07-05 -0.007631  0.004251 -0.005390\n",
      "2013-07-08  0.008690  0.001397 -0.005996\n",
      "2013-07-09 -0.011054 -0.002997  0.026480\n",
      "2013-07-10 -0.005686  0.001513 -0.019092\n",
      "2013-07-11  0.004004 -0.007596  0.001922\n",
      "2013-07-12 -0.002213  0.005098  0.015750\n",
      "2013-07-15 -0.003002  0.006473  0.021442\n",
      "2013-07-16 -0.005394  0.004632  0.001115\n",
      "2013-07-17  0.003620 -0.009906  0.003824\n",
      "2013-07-18 -0.002317 -0.000174 -0.014258\n",
      "2013-07-19 -0.005018 -0.000907 -0.004316\n",
      "2013-07-22 -0.000544  0.015552  0.030043\n",
      "2013-07-23 -0.004959 -0.011669  0.008415\n",
      "2013-07-24  0.002706 -0.005856  0.024739\n",
      "2013-07-25  0.001881  0.006061 -0.001294\n",
      "2013-07-26  0.015699 -0.004553  0.004011\n",
      "2013-07-29  0.001807 -0.002838  0.006315\n",
      "2013-07-30  0.001920  0.013482 -0.008305\n",
      "2013-07-31 -0.002186  0.005864  0.022015\n",
      "2013-08-01 -0.009701  0.000952 -0.009930\n",
      "2013-08-02 -0.001391  0.012132  0.021633\n",
      "2013-08-05  0.001291 -0.008884 -0.038920\n",
      "2013-08-06  0.001142 -0.005017  0.017034\n",
      "2013-08-07  0.012418  0.004998  0.001524\n",
      "2013-08-08  0.005122 -0.012041  0.015620\n",
      "2013-08-09 -0.017296 -0.002100 -0.021087\n",
      "2013-08-12  0.004437  0.003825  0.005982\n",
      "2013-08-13 -0.002929 -0.001806  0.013937\n",
      "2013-08-14  0.002455  0.011183  0.000945\n",
      "...              ...       ...       ...\n",
      "2017-05-19 -0.001618  0.013012 -0.027195\n",
      "2017-05-22  0.007090 -0.000806 -0.018258\n",
      "2017-05-23  0.008320  0.000266 -0.001025\n",
      "2017-05-24  0.007022 -0.002506  0.015455\n",
      "2017-05-25  0.007888 -0.003171  0.005075\n",
      "2017-05-26 -0.001817  0.007994  0.004583\n",
      "2017-05-30 -0.000923 -0.008497 -0.007537\n",
      "2017-05-31 -0.000119 -0.004441 -0.012609\n",
      "2017-06-01  0.011547  0.003759 -0.010075\n",
      "2017-06-02  0.003062  0.013848 -0.012013\n",
      "2017-06-05  0.007740 -0.004710 -0.021539\n",
      "2017-06-06  0.002576 -0.005721 -0.012110\n",
      "2017-06-07 -0.011921 -0.016748 -0.010803\n",
      "2017-06-08  0.001641 -0.002602  0.002806\n",
      "2017-06-09  0.008808 -0.009797  0.010560\n",
      "2017-06-12 -0.003270 -0.001299 -0.020953\n",
      "2017-06-13  0.001725 -0.006474  0.010399\n",
      "2017-06-14 -0.000307 -0.011895 -0.000461\n",
      "2017-06-15  0.008594  0.004979  0.005972\n",
      "2017-06-16 -0.008862  0.001312 -0.005282\n",
      "2017-06-19  0.004876 -0.002222 -0.002980\n",
      "2017-06-20  0.005897  0.019292 -0.049291\n",
      "2017-06-21  0.000988  0.005957 -0.011511\n",
      "2017-06-22  0.005899  0.006130 -0.000960\n",
      "2017-06-23 -0.002077 -0.007256  0.007905\n",
      "2017-06-26  0.004341  0.004500 -0.013939\n",
      "2017-06-27 -0.000066 -0.010755 -0.014539\n",
      "2017-06-28  0.009000  0.001640  0.027527\n",
      "2017-06-29  0.003674  0.003701  0.004905\n",
      "2017-06-30 -0.003788 -0.002076 -0.022263\n",
      "\n",
      "[1007 rows x 3 columns]\n"
     ]
    }
   ],
   "source": [
    "print(rets)"
   ]
  },
  {
   "cell_type": "markdown",
   "metadata": {
    "deletable": true,
    "editable": true
   },
   "source": [
    "## Create an alpha vector"
   ]
  },
  {
   "cell_type": "code",
   "execution_count": 41,
   "metadata": {
    "collapsed": true,
    "deletable": true,
    "editable": true,
    "scrolled": true
   },
   "outputs": [],
   "source": [
    "from scipy.stats import zscore"
   ]
  },
  {
   "cell_type": "markdown",
   "metadata": {
    "deletable": true,
    "editable": true
   },
   "source": [
    "We'll create an alpha vector based on 1-year momentum. "
   ]
  },
  {
   "cell_type": "code",
   "execution_count": 42,
   "metadata": {
    "collapsed": true,
    "deletable": true,
    "editable": true,
    "scrolled": true
   },
   "outputs": [],
   "source": [
    "# 1-yr momentum alpha\n",
    "\n",
    "def log_returns(series):\n",
    "    return np.log(series[-1])-np.log(series[0])\n",
    "    \n",
    "alpha = prices.rolling(window=252).apply(log_returns).rank(axis='columns').apply(zscore, axis='columns')"
   ]
  },
  {
   "cell_type": "markdown",
   "metadata": {
    "deletable": true,
    "editable": true
   },
   "source": [
    "Now we'll take the row of most recent alpha values to use as our alpha vector. There should be a value in the vector for each stock."
   ]
  },
  {
   "cell_type": "code",
   "execution_count": 43,
   "metadata": {
    "collapsed": false,
    "deletable": true,
    "editable": true,
    "scrolled": true
   },
   "outputs": [
    {
     "name": "stdout",
     "output_type": "stream",
     "text": [
      "A    0.000000\n",
      "B    1.224745\n",
      "C   -1.224745\n",
      "Name: 2017-06-30 00:00:00, dtype: float64\n",
      "              A         B         C\n",
      "date                               \n",
      "2013-07-02  NaN       NaN       NaN\n",
      "2013-07-03  NaN       NaN       NaN\n",
      "2013-07-05  NaN       NaN       NaN\n",
      "2013-07-08  NaN       NaN       NaN\n",
      "2013-07-09  NaN       NaN       NaN\n",
      "2013-07-10  NaN       NaN       NaN\n",
      "2013-07-11  NaN       NaN       NaN\n",
      "2013-07-12  NaN       NaN       NaN\n",
      "2013-07-15  NaN       NaN       NaN\n",
      "2013-07-16  NaN       NaN       NaN\n",
      "2013-07-17  NaN       NaN       NaN\n",
      "2013-07-18  NaN       NaN       NaN\n",
      "2013-07-19  NaN       NaN       NaN\n",
      "2013-07-22  NaN       NaN       NaN\n",
      "2013-07-23  NaN       NaN       NaN\n",
      "2013-07-24  NaN       NaN       NaN\n",
      "2013-07-25  NaN       NaN       NaN\n",
      "2013-07-26  NaN       NaN       NaN\n",
      "2013-07-29  NaN       NaN       NaN\n",
      "2013-07-30  NaN       NaN       NaN\n",
      "2013-07-31  NaN       NaN       NaN\n",
      "2013-08-01  NaN       NaN       NaN\n",
      "2013-08-02  NaN       NaN       NaN\n",
      "2013-08-05  NaN       NaN       NaN\n",
      "2013-08-06  NaN       NaN       NaN\n",
      "2013-08-07  NaN       NaN       NaN\n",
      "2013-08-08  NaN       NaN       NaN\n",
      "2013-08-09  NaN       NaN       NaN\n",
      "2013-08-12  NaN       NaN       NaN\n",
      "2013-08-13  NaN       NaN       NaN\n",
      "...         ...       ...       ...\n",
      "2017-05-19  0.0  1.224745 -1.224745\n",
      "2017-05-22  0.0  1.224745 -1.224745\n",
      "2017-05-23  0.0  1.224745 -1.224745\n",
      "2017-05-24  0.0  1.224745 -1.224745\n",
      "2017-05-25  0.0  1.224745 -1.224745\n",
      "2017-05-26  0.0  1.224745 -1.224745\n",
      "2017-05-30  0.0  1.224745 -1.224745\n",
      "2017-05-31  0.0  1.224745 -1.224745\n",
      "2017-06-01  0.0  1.224745 -1.224745\n",
      "2017-06-02  0.0  1.224745 -1.224745\n",
      "2017-06-05  0.0  1.224745 -1.224745\n",
      "2017-06-06  0.0  1.224745 -1.224745\n",
      "2017-06-07  0.0  1.224745 -1.224745\n",
      "2017-06-08  0.0  1.224745 -1.224745\n",
      "2017-06-09  0.0  1.224745 -1.224745\n",
      "2017-06-12  0.0  1.224745 -1.224745\n",
      "2017-06-13  0.0  1.224745 -1.224745\n",
      "2017-06-14  0.0  1.224745 -1.224745\n",
      "2017-06-15  0.0  1.224745 -1.224745\n",
      "2017-06-16  0.0  1.224745 -1.224745\n",
      "2017-06-19  0.0  1.224745 -1.224745\n",
      "2017-06-20  0.0  1.224745 -1.224745\n",
      "2017-06-21  0.0  1.224745 -1.224745\n",
      "2017-06-22  0.0  1.224745 -1.224745\n",
      "2017-06-23  0.0  1.224745 -1.224745\n",
      "2017-06-26  0.0  1.224745 -1.224745\n",
      "2017-06-27  0.0  1.224745 -1.224745\n",
      "2017-06-28  0.0  1.224745 -1.224745\n",
      "2017-06-29  0.0  1.224745 -1.224745\n",
      "2017-06-30  0.0  1.224745 -1.224745\n",
      "\n",
      "[1008 rows x 3 columns]\n"
     ]
    }
   ],
   "source": [
    "# Take most recent set of values\n",
    "alpha_vector = alpha.iloc[-1,:]\n",
    "print(alpha_vector)\n",
    "print(alpha)"
   ]
  },
  {
   "cell_type": "markdown",
   "metadata": {
    "deletable": true,
    "editable": true
   },
   "source": [
    "For this problem, we'll use the optimization objective $-\\boldsymbol{\\alpha}^T \\mathbf{x}$. Remember, we are trying to _minimize_ this function (to maximize alpha). Let's plot $-\\boldsymbol{\\alpha}^T \\mathbf{x}$ as a function of the components of $\\mathbf{x}$ so that we can get a better sense of the \"shape\" of the function."
   ]
  },
  {
   "cell_type": "code",
   "execution_count": 30,
   "metadata": {
    "collapsed": false,
    "deletable": true,
    "editable": true,
    "scrolled": true
   },
   "outputs": [],
   "source": [
    "n = 10\n",
    "x = y = z = np.linspace(-2,2,n)\n",
    "\n",
    "xv, yv, zv = np.meshgrid(x, y, z, indexing='ij')\n",
    "obj_val = np.full(xv.shape, np.nan)\n",
    "\n",
    "for i in range(n):\n",
    "    for j in range(n):\n",
    "        for k in range(n):\n",
    "            obj_val[i,j,k] = -alpha_vector[0]*xv[i,j,k]-alpha_vector[1]*yv[i,j,k]-alpha_vector[2]*zv[i,j,k]\n",
    "#print(obj_val)"
   ]
  },
  {
   "cell_type": "code",
   "execution_count": null,
   "metadata": {
    "collapsed": false,
    "deletable": true,
    "editable": true,
    "scrolled": false
   },
   "outputs": [],
   "source": [
    "hover_text = helper.generate_hover_text(xv, yv, zv, 'Weight on Stock A', 'Weight on Stock B', 'Weight on Stock C', fcn_values=obj_val, fcn_label='Objective Function')\n",
    "\n",
    "trace1 = go.Scatter3d(\n",
    "    x=xv.flatten(),\n",
    "    y=yv.flatten(),\n",
    "    z=zv.flatten(),\n",
    "    text = hover_text.flatten(),\n",
    "    mode='markers',\n",
    "    marker=dict(\n",
    "        size=4,\n",
    "        color=obj_val.flatten(),     # set color to an array/list of desired values\n",
    "        colorscale='Viridis',   # choose a colorscale\n",
    "        colorbar=dict(\n",
    "                title='Objective Function'\n",
    "            ),\n",
    "        opacity=0.4,\n",
    "        showscale=True\n",
    "    ),\n",
    "    hoverinfo = 'text'\n",
    ")\n",
    "\n",
    "data = [trace1]\n",
    "layout = helper.create_standard_layout('Alpha Vector Optimization Objective Function', 'Weight on')\n",
    "fig = go.Figure(data=data, layout=layout)\n",
    "py.offline.iplot(fig)"
   ]
  },
  {
   "cell_type": "markdown",
   "metadata": {
    "deletable": true,
    "editable": true
   },
   "source": [
    "In this plot, the value of the objective function is represented by the color at each point in weight space. Notice that the function increases with weight on Stock C, decreases with weight on Stock B, and doesn't depend on the weight on Stock A."
   ]
  },
  {
   "cell_type": "markdown",
   "metadata": {
    "deletable": true,
    "editable": true
   },
   "source": [
    "What happens if we try to run the optimization now, by trying to minimize this objective function, under no constraints?"
   ]
  },
  {
   "cell_type": "code",
   "execution_count": 44,
   "metadata": {
    "collapsed": true,
    "deletable": true,
    "editable": true,
    "scrolled": true
   },
   "outputs": [],
   "source": [
    "def find_optimal_holdings(alpha_vector):\n",
    "    \"\"\"\n",
    "    Use cvxpy to construct and solve an optimization problem. Use -alpha*x as the objective, and use no constraints.\n",
    "\n",
    "    Parameters\n",
    "    ----------\n",
    "    alpha_vector : DataFrame\n",
    "        The 3-stock alpha vector calculated above.\n",
    "\n",
    "    Returns\n",
    "    -------\n",
    "    optimal_weights : DataFrame\n",
    "        A DataFrame containing the optimal weights calculated by the optimization algorithm.\n",
    "    \"\"\"\n",
    "    #TODO: Implement function\n",
    "     # define weight vector\n",
    "    x = cvx.Variable(len(alpha_vector))\n",
    "    \n",
    "    obj = cvx.Minimize(\n",
    "                -alpha_vector.values.flatten()*x\n",
    "            )\n",
    "    \n",
    "    constraints = [] # no constraints\n",
    "    \n",
    "    prob = cvx.Problem(obj, constraints)\n",
    "    prob.solve(verbose=True, max_iters=500)\n",
    "\n",
    "    optimal_weights = np.asarray(x.value).flatten()\n",
    "\n",
    "    return pd.DataFrame(data=optimal_weights)"
   ]
  },
  {
   "cell_type": "code",
   "execution_count": 45,
   "metadata": {
    "collapsed": false,
    "deletable": true,
    "editable": true,
    "scrolled": true
   },
   "outputs": [
    {
     "ename": "TypeError",
     "evalue": "'max_iters' is an invalid keyword argument for this function",
     "output_type": "error",
     "traceback": [
      "\u001b[0;31m---------------------------------------------------------------------------\u001b[0m",
      "\u001b[0;31mTypeError\u001b[0m                                 Traceback (most recent call last)",
      "\u001b[0;32m<ipython-input-45-b66a295635e1>\u001b[0m in \u001b[0;36m<module>\u001b[0;34m()\u001b[0m\n\u001b[1;32m      1\u001b[0m optimal_weights = find_optimal_holdings(\n\u001b[0;32m----> 2\u001b[0;31m     \u001b[0malpha_vector\u001b[0m\u001b[0;34m\u001b[0m\u001b[0m\n\u001b[0m\u001b[1;32m      3\u001b[0m )\n\u001b[1;32m      4\u001b[0m \u001b[0mprint\u001b[0m\u001b[0;34m(\u001b[0m\u001b[0;34m\"Optimal weights: \"\u001b[0m\u001b[0;34m,\u001b[0m \u001b[0moptimal_weights\u001b[0m\u001b[0;34m)\u001b[0m\u001b[0;34m\u001b[0m\u001b[0m\n",
      "\u001b[0;32m<ipython-input-44-b1dba55e61ec>\u001b[0m in \u001b[0;36mfind_optimal_holdings\u001b[0;34m(alpha_vector)\u001b[0m\n\u001b[1;32m     24\u001b[0m \u001b[0;34m\u001b[0m\u001b[0m\n\u001b[1;32m     25\u001b[0m     \u001b[0mprob\u001b[0m \u001b[0;34m=\u001b[0m \u001b[0mcvx\u001b[0m\u001b[0;34m.\u001b[0m\u001b[0mProblem\u001b[0m\u001b[0;34m(\u001b[0m\u001b[0mobj\u001b[0m\u001b[0;34m,\u001b[0m \u001b[0mconstraints\u001b[0m\u001b[0;34m)\u001b[0m\u001b[0;34m\u001b[0m\u001b[0m\n\u001b[0;32m---> 26\u001b[0;31m     \u001b[0mprob\u001b[0m\u001b[0;34m.\u001b[0m\u001b[0msolve\u001b[0m\u001b[0;34m(\u001b[0m\u001b[0mverbose\u001b[0m\u001b[0;34m=\u001b[0m\u001b[0;32mTrue\u001b[0m\u001b[0;34m,\u001b[0m \u001b[0mmax_iters\u001b[0m\u001b[0;34m=\u001b[0m\u001b[0;36m500\u001b[0m\u001b[0;34m)\u001b[0m\u001b[0;34m\u001b[0m\u001b[0m\n\u001b[0m\u001b[1;32m     27\u001b[0m \u001b[0;34m\u001b[0m\u001b[0m\n\u001b[1;32m     28\u001b[0m     \u001b[0moptimal_weights\u001b[0m \u001b[0;34m=\u001b[0m \u001b[0mnp\u001b[0m\u001b[0;34m.\u001b[0m\u001b[0masarray\u001b[0m\u001b[0;34m(\u001b[0m\u001b[0mx\u001b[0m\u001b[0;34m.\u001b[0m\u001b[0mvalue\u001b[0m\u001b[0;34m)\u001b[0m\u001b[0;34m.\u001b[0m\u001b[0mflatten\u001b[0m\u001b[0;34m(\u001b[0m\u001b[0;34m)\u001b[0m\u001b[0;34m\u001b[0m\u001b[0m\n",
      "\u001b[0;32m/root/anaconda2/envs/aind-dl/lib/python3.5/site-packages/cvxpy/problems/problem.py\u001b[0m in \u001b[0;36msolve\u001b[0;34m(self, *args, **kwargs)\u001b[0m\n\u001b[1;32m    244\u001b[0m         \u001b[0;32melse\u001b[0m\u001b[0;34m:\u001b[0m\u001b[0;34m\u001b[0m\u001b[0m\n\u001b[1;32m    245\u001b[0m             \u001b[0msolve_func\u001b[0m \u001b[0;34m=\u001b[0m \u001b[0mProblem\u001b[0m\u001b[0;34m.\u001b[0m\u001b[0m_solve\u001b[0m\u001b[0;34m\u001b[0m\u001b[0m\n\u001b[0;32m--> 246\u001b[0;31m         \u001b[0;32mreturn\u001b[0m \u001b[0msolve_func\u001b[0m\u001b[0;34m(\u001b[0m\u001b[0mself\u001b[0m\u001b[0;34m,\u001b[0m \u001b[0;34m*\u001b[0m\u001b[0margs\u001b[0m\u001b[0;34m,\u001b[0m \u001b[0;34m**\u001b[0m\u001b[0mkwargs\u001b[0m\u001b[0;34m)\u001b[0m\u001b[0;34m\u001b[0m\u001b[0m\n\u001b[0m\u001b[1;32m    247\u001b[0m \u001b[0;34m\u001b[0m\u001b[0m\n\u001b[1;32m    248\u001b[0m     \u001b[0;34m@\u001b[0m\u001b[0mclassmethod\u001b[0m\u001b[0;34m\u001b[0m\u001b[0m\n",
      "\u001b[0;32m/root/anaconda2/envs/aind-dl/lib/python3.5/site-packages/cvxpy/problems/problem.py\u001b[0m in \u001b[0;36m_solve\u001b[0;34m(self, solver, ignore_dcp, warm_start, verbose, parallel, **kwargs)\u001b[0m\n\u001b[1;32m    358\u001b[0m         \u001b[0mdata\u001b[0m\u001b[0;34m,\u001b[0m \u001b[0minverse_data\u001b[0m \u001b[0;34m=\u001b[0m \u001b[0mself\u001b[0m\u001b[0;34m.\u001b[0m\u001b[0m_solving_chain\u001b[0m\u001b[0;34m.\u001b[0m\u001b[0mapply\u001b[0m\u001b[0;34m(\u001b[0m\u001b[0mself\u001b[0m\u001b[0;34m)\u001b[0m\u001b[0;34m\u001b[0m\u001b[0m\n\u001b[1;32m    359\u001b[0m         solution = self._solving_chain.solve_via_data(self, data, warm_start, verbose,\n\u001b[0;32m--> 360\u001b[0;31m                                                       kwargs)\n\u001b[0m\u001b[1;32m    361\u001b[0m         \u001b[0mself\u001b[0m\u001b[0;34m.\u001b[0m\u001b[0munpack_results\u001b[0m\u001b[0;34m(\u001b[0m\u001b[0msolution\u001b[0m\u001b[0;34m,\u001b[0m \u001b[0mself\u001b[0m\u001b[0;34m.\u001b[0m\u001b[0m_solving_chain\u001b[0m\u001b[0;34m,\u001b[0m \u001b[0minverse_data\u001b[0m\u001b[0;34m)\u001b[0m\u001b[0;34m\u001b[0m\u001b[0m\n\u001b[1;32m    362\u001b[0m         \u001b[0;32mreturn\u001b[0m \u001b[0mself\u001b[0m\u001b[0;34m.\u001b[0m\u001b[0mvalue\u001b[0m\u001b[0;34m\u001b[0m\u001b[0m\n",
      "\u001b[0;32m/root/anaconda2/envs/aind-dl/lib/python3.5/site-packages/cvxpy/reductions/solvers/solving_chain.py\u001b[0m in \u001b[0;36msolve_via_data\u001b[0;34m(self, problem, data, warm_start, verbose, solver_opts)\u001b[0m\n\u001b[1;32m    231\u001b[0m         \"\"\"\n\u001b[1;32m    232\u001b[0m         return self.solver.solve_via_data(data, warm_start, verbose,\n\u001b[0;32m--> 233\u001b[0;31m                                           solver_opts, problem._solver_cache)\n\u001b[0m",
      "\u001b[0;32m/root/anaconda2/envs/aind-dl/lib/python3.5/site-packages/cvxpy/reductions/solvers/qp_solvers/osqp_qpif.py\u001b[0m in \u001b[0;36msolve_via_data\u001b[0;34m(self, data, warm_start, verbose, solver_opts, solver_cache)\u001b[0m\n\u001b[1;32m    107\u001b[0m             \u001b[0msolver_opts\u001b[0m\u001b[0;34m[\u001b[0m\u001b[0;34m'polish'\u001b[0m\u001b[0;34m]\u001b[0m \u001b[0;34m=\u001b[0m \u001b[0msolver_opts\u001b[0m\u001b[0;34m.\u001b[0m\u001b[0mget\u001b[0m\u001b[0;34m(\u001b[0m\u001b[0;34m'polish'\u001b[0m\u001b[0;34m,\u001b[0m \u001b[0;32mTrue\u001b[0m\u001b[0;34m)\u001b[0m\u001b[0;34m\u001b[0m\u001b[0m\n\u001b[1;32m    108\u001b[0m             \u001b[0msolver\u001b[0m \u001b[0;34m=\u001b[0m \u001b[0mosqp\u001b[0m\u001b[0;34m.\u001b[0m\u001b[0mOSQP\u001b[0m\u001b[0;34m(\u001b[0m\u001b[0;34m)\u001b[0m\u001b[0;34m\u001b[0m\u001b[0m\n\u001b[0;32m--> 109\u001b[0;31m             \u001b[0msolver\u001b[0m\u001b[0;34m.\u001b[0m\u001b[0msetup\u001b[0m\u001b[0;34m(\u001b[0m\u001b[0mP\u001b[0m\u001b[0;34m,\u001b[0m \u001b[0mq\u001b[0m\u001b[0;34m,\u001b[0m \u001b[0mA\u001b[0m\u001b[0;34m,\u001b[0m \u001b[0mlA\u001b[0m\u001b[0;34m,\u001b[0m \u001b[0muA\u001b[0m\u001b[0;34m,\u001b[0m \u001b[0mverbose\u001b[0m\u001b[0;34m=\u001b[0m\u001b[0mverbose\u001b[0m\u001b[0;34m,\u001b[0m \u001b[0;34m**\u001b[0m\u001b[0msolver_opts\u001b[0m\u001b[0;34m)\u001b[0m\u001b[0;34m\u001b[0m\u001b[0m\n\u001b[0m\u001b[1;32m    110\u001b[0m \u001b[0;34m\u001b[0m\u001b[0m\n\u001b[1;32m    111\u001b[0m         \u001b[0mresults\u001b[0m \u001b[0;34m=\u001b[0m \u001b[0msolver\u001b[0m\u001b[0;34m.\u001b[0m\u001b[0msolve\u001b[0m\u001b[0;34m(\u001b[0m\u001b[0;34m)\u001b[0m\u001b[0;34m\u001b[0m\u001b[0m\n",
      "\u001b[0;32m/root/anaconda2/envs/aind-dl/lib/python3.5/site-packages/osqp/interface.py\u001b[0m in \u001b[0;36msetup\u001b[0;34m(self, P, q, A, l, u, **settings)\u001b[0m\n\u001b[1;32m    129\u001b[0m         self._model.setup((n, m), P.data, P.indices, P.indptr, q,\n\u001b[1;32m    130\u001b[0m                           \u001b[0mA\u001b[0m\u001b[0;34m.\u001b[0m\u001b[0mdata\u001b[0m\u001b[0;34m,\u001b[0m \u001b[0mA\u001b[0m\u001b[0;34m.\u001b[0m\u001b[0mindices\u001b[0m\u001b[0;34m,\u001b[0m \u001b[0mA\u001b[0m\u001b[0;34m.\u001b[0m\u001b[0mindptr\u001b[0m\u001b[0;34m,\u001b[0m\u001b[0;34m\u001b[0m\u001b[0m\n\u001b[0;32m--> 131\u001b[0;31m                           l, u, **settings)\n\u001b[0m\u001b[1;32m    132\u001b[0m \u001b[0;34m\u001b[0m\u001b[0m\n\u001b[1;32m    133\u001b[0m     def update(self, q=None, l=None, u=None,\n",
      "\u001b[0;31mTypeError\u001b[0m: 'max_iters' is an invalid keyword argument for this function"
     ]
    }
   ],
   "source": [
    "optimal_weights = find_optimal_holdings(\n",
    "    alpha_vector\n",
    ")\n",
    "print(\"Optimal weights: \", optimal_weights)"
   ]
  },
  {
   "cell_type": "markdown",
   "metadata": {
    "deletable": true,
    "editable": true
   },
   "source": [
    "As expected, without constraints, the problem is unbounded. We could achieve a smaller and smaller objective function value by taking larger and larger long positions on Stock C, and larger and larger short positions on Stock B. But this would increase risk and leverage. This is where our constraints come into play."
   ]
  },
  {
   "cell_type": "markdown",
   "metadata": {
    "deletable": true,
    "editable": true
   },
   "source": [
    "## Create a Risk Model"
   ]
  },
  {
   "cell_type": "markdown",
   "metadata": {
    "deletable": true,
    "editable": true
   },
   "source": [
    "We are going to create a PCA-based risk model for our 3 stocks. First, let's plot the returns data and their mean, just to have a sense for the shape of the data."
   ]
  },
  {
   "cell_type": "code",
   "execution_count": null,
   "metadata": {
    "collapsed": true,
    "deletable": true,
    "editable": true
   },
   "outputs": [],
   "source": [
    "m = rets.mean()"
   ]
  },
  {
   "cell_type": "code",
   "execution_count": null,
   "metadata": {
    "collapsed": true,
    "deletable": true,
    "editable": true,
    "scrolled": false
   },
   "outputs": [],
   "source": [
    "# Trace for mean return vector m\n",
    "mean_vec = np.vstack((np.full(3, 0), m.values)).T\n",
    "\n",
    "hover_text2 = helper.generate_hover_text(mean_vec[0], mean_vec[1], mean_vec[2], 'Mean of Returns of Stock A', 'Mean of Returns of Stock B', 'Mean of Returns of Stock C', sig_figs = 7)\n",
    "\n",
    "trace2 = go.Scatter3d(\n",
    "    x=mean_vec[0],\n",
    "    y=mean_vec[1],\n",
    "    z=mean_vec[2],\n",
    "    mode='lines+markers',\n",
    "    marker=dict(\n",
    "        size=4,\n",
    "        color='red',\n",
    "        opacity=0.9,\n",
    "        symbol=\"diamond\"\n",
    "    ),\n",
    "    name = 'mean daily return',\n",
    "    text = hover_text2.flatten(),\n",
    "    hoverinfo = 'text'\n",
    ")\n",
    "\n",
    "\n",
    "# Trace for data\n",
    "hover_text3 = helper.generate_hover_text(rets['A'].values, rets['B'].values, rets['C'].values, 'Return of Stock A', 'Return of Stock B', 'Return of Stock C')\n",
    "\n",
    "trace3 = go.Scatter3d(\n",
    "    x=rets['A'].values,\n",
    "    y=rets['B'].values,\n",
    "    z=rets['C'].values,\n",
    "    mode='markers',\n",
    "    marker=dict(\n",
    "        size=4,\n",
    "        color='#7FB3D5',  \n",
    "        opacity=0.3,\n",
    "    ),\n",
    "    name = 'daily returns',\n",
    "    text = hover_text3.flatten(),\n",
    "    hoverinfo = 'text'\n",
    ")\n",
    "\n",
    "data = [trace2, trace3]\n",
    "\n",
    "layout = helper.create_standard_layout('Returns Data', 'Return of')\n",
    "fig = go.Figure(data=data, layout=layout)\n",
    "py.offline.iplot(fig)"
   ]
  },
  {
   "cell_type": "markdown",
   "metadata": {
    "deletable": true,
    "editable": true
   },
   "source": [
    "There are a few things to notice here. \n",
    "1. The vector of mean returns is very small compared to the volatility of the data! Admittedly, this is an artificial example with fake data, but this is also generally the case.\n",
    "2. The volatility of Stock C is larger than the volatility of Stock B, which is larger than the volatility of Stock A."
   ]
  },
  {
   "cell_type": "markdown",
   "metadata": {
    "deletable": true,
    "editable": true
   },
   "source": [
    "Given these data, we can already set up some expectations for what the results of PCA will look like. Remember that we expect the first PC to point in the direction of maximum variability of the data. Given the volatility of Stock C, we expect the first PC to point approximately parallel to the \"Stock C axis\". If we get results that are very different from this, we know that something is wrong with what we are doing. Let's now run the PCA algorithm, and see what we get. "
   ]
  },
  {
   "cell_type": "markdown",
   "metadata": {
    "deletable": true,
    "editable": true
   },
   "source": [
    "First we'll mean-center the data."
   ]
  },
  {
   "cell_type": "code",
   "execution_count": null,
   "metadata": {
    "collapsed": true,
    "deletable": true,
    "editable": true
   },
   "outputs": [],
   "source": [
    "rets = rets - m"
   ]
  },
  {
   "cell_type": "markdown",
   "metadata": {
    "deletable": true,
    "editable": true
   },
   "source": [
    "Then we'll create a class that will fit our risk model."
   ]
  },
  {
   "cell_type": "code",
   "execution_count": null,
   "metadata": {
    "collapsed": true,
    "deletable": true,
    "editable": true,
    "scrolled": true
   },
   "outputs": [],
   "source": [
    "from sklearn.decomposition import PCA\n",
    "\n",
    "class RiskModelPCA():\n",
    "    \n",
    "    ANN_FACTOR = 252\n",
    "    \n",
    "    def __init__(self, num_factors):\n",
    "        self._num_factors = num_factors\n",
    "        self.num_stocks_ = None\n",
    "        self.factor_betas_ = None\n",
    "        self.factor_returns_ = None\n",
    "        self.common_returns_ = None\n",
    "        self.residuals_ = None\n",
    "        self.factor_cov_matrix_ = None\n",
    "        self.idio_var_matrix_ = None\n",
    "        self.explained_variance_ratio_ = None\n",
    "\n",
    "    def fit(self, returns):\n",
    "        self.num_stocks_ = len(returns.columns)\n",
    "        mod = PCA(n_components=self._num_factors, svd_solver='full')\n",
    "        mod.fit(returns)\n",
    "        \n",
    "        self.factor_betas_ = pd.DataFrame(\n",
    "            data=mod.components_.T,\n",
    "            index=returns.columns\n",
    "        )\n",
    "        \n",
    "        self.factor_returns_ = pd.DataFrame(\n",
    "            data=mod.transform(rets),\n",
    "            index=returns.index\n",
    "        )\n",
    "        \n",
    "        self.explained_variance_ratio_ = mod.explained_variance_ratio_\n",
    "        \n",
    "        self.common_returns_ = pd.DataFrame(\n",
    "            data=np.dot(self.factor_returns_, self.factor_betas_.T),\n",
    "            index=returns.index\n",
    "        )\n",
    "        self.common_returns_.columns = returns.columns\n",
    "        \n",
    "        self.residuals_ = (returns - self.common_returns_)\n",
    "        \n",
    "        self.factor_cov_matrix_ = np.diag(\n",
    "            self.factor_returns_.var(axis=0, ddof=1)*RiskModelPCA.ANN_FACTOR\n",
    "        )\n",
    "        \n",
    "        self.idio_var_matrix_ = pd.DataFrame(\n",
    "            data=np.diag(np.var(self.residuals_))*RiskModelPCA.ANN_FACTOR,\n",
    "            index=returns.columns\n",
    "        )\n",
    "        \n",
    "        self.idio_var_vector_ = pd.DataFrame(\n",
    "            data=np.diag(self.idio_var_matrix_.values),\n",
    "            index=returns.columns\n",
    "        )\n",
    "        \n",
    "        self.idio_var_matrix_.columns = index=returns.columns\n",
    "\n",
    "    def get_factor_exposures(self, weights):\n",
    "        B = self.factor_betas_.loc[weights.index]\n",
    "        return B.T.dot(weights)"
   ]
  },
  {
   "cell_type": "markdown",
   "metadata": {
    "deletable": true,
    "editable": true
   },
   "source": [
    "Let's fit the risk model with 2 factors (i.e., we'll keep 2 PCs)."
   ]
  },
  {
   "cell_type": "code",
   "execution_count": null,
   "metadata": {
    "collapsed": true,
    "deletable": true,
    "editable": true,
    "scrolled": true
   },
   "outputs": [],
   "source": [
    "rm = RiskModelPCA(2) # create an instance of the class with 2 factors\n",
    "rm.fit(rets) # fit the model on our data"
   ]
  },
  {
   "cell_type": "markdown",
   "metadata": {
    "deletable": true,
    "editable": true
   },
   "source": [
    "Let's look at the factors (PCs)."
   ]
  },
  {
   "cell_type": "code",
   "execution_count": null,
   "metadata": {
    "collapsed": true,
    "deletable": true,
    "editable": true,
    "scrolled": false
   },
   "outputs": [],
   "source": [
    "rm.factor_betas_"
   ]
  },
  {
   "cell_type": "markdown",
   "metadata": {
    "deletable": true,
    "editable": true
   },
   "source": [
    "The first PC points almost completely in the \"Stock C\" direction. The second points almost completely in the \"Stock B\" direction. This makes sense given the fact that we see most variability in the \"Stock C\" direction, and if we collapse that variability, we'd see the next most variability in the \"Stock B\" direction. Let's plot the PC vectors to make this more clear."
   ]
  },
  {
   "cell_type": "code",
   "execution_count": null,
   "metadata": {
    "collapsed": true,
    "deletable": true,
    "editable": true
   },
   "outputs": [],
   "source": [
    "PC_scaler = 0.04 # The PC vectors have length 1, but this is larger than the scale of our data, so for visualization purposes, let's plot scaled-down versions of the PCs. \n",
    "\n",
    "# Trace for PC 0\n",
    "pc0 = np.vstack((np.full(3, 0), rm.factor_betas_[0].values)).T*PC_scaler\n",
    "\n",
    "hover_text4 = helper.generate_hover_text(pc0[0], pc0[1], pc0[2], 'Return of Stock A', 'Return of Stock B', 'Return of Stock C')\n",
    "\n",
    "trace4 = go.Scatter3d(\n",
    "    x=pc0[0],\n",
    "    y=pc0[1],\n",
    "    z=pc0[2],\n",
    "    mode='lines+markers',\n",
    "    marker=dict(\n",
    "        size=4,\n",
    "        color='#45B39D',\n",
    "        opacity=0.9,\n",
    "        symbol=\"diamond\"\n",
    "    ),\n",
    "    line=dict(\n",
    "        color='#45B39D',\n",
    "        width=3\n",
    "    ),\n",
    "    name = 'PC 0',\n",
    "    text = hover_text4.flatten(),\n",
    "    hoverinfo = 'text'\n",
    "\n",
    ")\n",
    "\n",
    "# Trace for PC 1\n",
    "pc1 = np.vstack((np.full(3, 0), rm.factor_betas_[1].values)).T*PC_scaler\n",
    "\n",
    "hover_text5 = helper.generate_hover_text(pc1[0], pc1[1], pc1[2], 'Return of Stock A', 'Return of Stock B', 'Return of Stock C')\n",
    "\n",
    "trace5 = go.Scatter3d(\n",
    "    x=pc1[0],\n",
    "    y=pc1[1],\n",
    "    z=pc1[2],\n",
    "    mode='lines+markers',\n",
    "    marker=dict(\n",
    "        size=4,\n",
    "        color='#FFC300',\n",
    "        opacity=0.9,\n",
    "        symbol=\"diamond\"\n",
    "    ),\n",
    "    line=dict(\n",
    "        color='#FFC300',\n",
    "        width=3\n",
    "    ),\n",
    "    name = 'PC 1',\n",
    "    text = hover_text5.flatten(),\n",
    "    hoverinfo = 'text'\n",
    "\n",
    ")\n",
    "\n",
    "# Trace for data\n",
    "hover_text6 = helper.generate_hover_text(rets['A'].values, rets['B'].values, rets['C'].values, 'Return of Stock A', 'Return of Stock B', 'Return of Stock C')\n",
    "\n",
    "trace6 = go.Scatter3d(\n",
    "    x=rets['A'].values,\n",
    "    y=rets['B'].values,\n",
    "    z=rets['C'].values,\n",
    "    mode='markers',\n",
    "    marker=dict(\n",
    "        size=4,\n",
    "        color='#7FB3D5', \n",
    "        opacity=0.3,\n",
    "    ),\n",
    "    name = 'daily returns',\n",
    "    text = hover_text6.flatten(),\n",
    "    hoverinfo = 'text'\n",
    ")\n",
    "\n",
    "data = [trace4, trace5, trace6]\n",
    "\n",
    "layout = helper.create_standard_layout('Returns Data with Factor (PC) Directions', 'Return of')\n",
    "fig = go.Figure(data=data, layout=layout)\n",
    "py.offline.iplot(fig)"
   ]
  },
  {
   "cell_type": "markdown",
   "metadata": {
    "deletable": true,
    "editable": true
   },
   "source": [
    "Let's look at the fraction of variance explained by the two factors we kept. This should confirm our intuition about the relative scale of variance explained by the first two factors."
   ]
  },
  {
   "cell_type": "code",
   "execution_count": null,
   "metadata": {
    "collapsed": true,
    "deletable": true,
    "editable": true,
    "scrolled": false
   },
   "outputs": [],
   "source": [
    "plt.bar(np.arange(2), rm.explained_variance_ratio_, color=['#45B39D', '#FFC300']);\n",
    "plt.title('% of Variance Explained by Each Factor');"
   ]
  },
  {
   "cell_type": "markdown",
   "metadata": {
    "deletable": true,
    "editable": true
   },
   "source": [
    "Now let's look at the factor returns. We'll convert them to \"price series\" and visualize the evolution of these over time. Recall that these are the data expressed in the \"factor\" (PC) basis––the projections of the data vectors onto the factor dimensions."
   ]
  },
  {
   "cell_type": "code",
   "execution_count": null,
   "metadata": {
    "collapsed": true,
    "deletable": true,
    "editable": true
   },
   "outputs": [],
   "source": [
    "(rm.factor_returns_ + 1).cumprod().plot(color=['#45B39D', '#FFC300'])"
   ]
  },
  {
   "cell_type": "markdown",
   "metadata": {
    "deletable": true,
    "editable": true
   },
   "source": [
    "Note that in this example, since the first factor is so close to the direction of the return on Stock C, the factor return (converted to a \"price series\") for factor 0 looks a lot like the price evolution of Stock C, but _inverted_. This is because the PCs are vectors that represent _directions_ in space—they are only unique up to a sign change, and thus the projections onto them are unique up to a sign change."
   ]
  },
  {
   "cell_type": "code",
   "execution_count": null,
   "metadata": {
    "collapsed": true,
    "deletable": true,
    "editable": true
   },
   "outputs": [],
   "source": [
    "prices.plot()"
   ]
  },
  {
   "cell_type": "markdown",
   "metadata": {
    "deletable": true,
    "editable": true
   },
   "source": [
    "## Create Optimization Constraints\n",
    "As we saw above, we need to constrain our optimization problem. Let's now create and plot the following constraints:\n",
    "* risk, based on our risk model\n",
    "* leverage\n",
    "* market neutral\n",
    "* factor exposure limits\n",
    "* individual weight limits"
   ]
  },
  {
   "cell_type": "markdown",
   "metadata": {
    "deletable": true,
    "editable": true
   },
   "source": [
    "#### Risk"
   ]
  },
  {
   "cell_type": "code",
   "execution_count": null,
   "metadata": {
    "collapsed": true,
    "deletable": true,
    "editable": true
   },
   "outputs": [],
   "source": [
    "B = rm.factor_betas_\n",
    "F = rm.factor_cov_matrix_\n",
    "S = np.diag(rm.idio_var_vector_.values.flatten())"
   ]
  },
  {
   "cell_type": "markdown",
   "metadata": {
    "deletable": true,
    "editable": true
   },
   "source": [
    "Using the $\\mathbf{B}$, $\\mathbf{F}$, and $\\mathbf{S}$ matrices, let's write a function that takes in the portfolio weights and spits out the portfolio risk. Remember that the portfolio risk is calculated $\\mathbf{x}^T(\\mathbf{B}^T\\mathbf{F}\\mathbf{B} + \\mathbf{S})\\mathbf{x}$, but be careful to ensure the matrices are all oriented correctly."
   ]
  },
  {
   "cell_type": "code",
   "execution_count": null,
   "metadata": {
    "collapsed": true,
    "deletable": true,
    "editable": true
   },
   "outputs": [],
   "source": [
    "def risk_fcn(x):\n",
    "    \"\"\"\n",
    "    Calculate portfolio risk.\n",
    "\n",
    "    Parameters\n",
    "    ----------\n",
    "    x : numpy array\n",
    "        The vector of portfolio weights.\n",
    "\n",
    "    Returns\n",
    "    -------\n",
    "    risk : float\n",
    "        Portfolio risk.\n",
    "    \"\"\"\n",
    "    #TODO: Implement function\n",
    "    \n",
    "    return None"
   ]
  },
  {
   "cell_type": "code",
   "execution_count": null,
   "metadata": {
    "collapsed": true,
    "deletable": true,
    "editable": true
   },
   "outputs": [],
   "source": [
    "n_samples = 25\n",
    "grid_max = 2.5\n",
    "risk_grid, spacing, xv, yv, zv = helper.evaluate_fcn_on_grid(grid_max, n_samples, risk_fcn)"
   ]
  },
  {
   "cell_type": "markdown",
   "metadata": {
    "deletable": true,
    "editable": true
   },
   "source": [
    "Now let's look at a plot of the value of the portfolio risk as a function of the portfolio weights in 3 dimensions."
   ]
  },
  {
   "cell_type": "code",
   "execution_count": null,
   "metadata": {
    "collapsed": true,
    "deletable": true,
    "editable": true
   },
   "outputs": [],
   "source": [
    "hover_text = helper.generate_hover_text(xv, yv, zv, 'Weight on Stock A', 'Weight on Stock B', 'Weight on Stock C', fcn_values=risk_grid, fcn_label='Portfolio Risk')\n",
    "\n",
    "trace7 = go.Scatter3d(\n",
    "    x=xv.flatten(),\n",
    "    y=yv.flatten(),\n",
    "    z=zv.flatten(),\n",
    "    mode='markers',\n",
    "    marker=dict(\n",
    "        size=4,\n",
    "        color=risk_grid.flatten(), \n",
    "        colorscale='Viridis',\n",
    "        opacity=0.3,\n",
    "        showscale=True\n",
    "    ),\n",
    "    text = hover_text.flatten(),\n",
    "    hoverinfo = 'text'\n",
    ")\n",
    "\n",
    "data = [trace7]\n",
    "layout = helper.create_standard_layout('Portfolio Risk as Modeled by our PCA Risk Model', 'Weight on')\n",
    "fig = go.Figure(data=data, layout=layout)\n",
    "py.offline.iplot(fig)"
   ]
  },
  {
   "cell_type": "markdown",
   "metadata": {
    "deletable": true,
    "editable": true
   },
   "source": [
    "This plot uses a color at several points in 3-D space to represent the portfolio risk as a function of weight on each stock. Note that it increases with weight on each stock. This helps us visualize the risk function, but what does it look like to _constrain_ risk? Let's visualize the boundary of the region within which risk is below a limiting value. This will help us visualize the shape of the space we search with optimization. We will do this for each of our constraints."
   ]
  },
  {
   "cell_type": "code",
   "execution_count": null,
   "metadata": {
    "collapsed": true,
    "deletable": true,
    "editable": true
   },
   "outputs": [],
   "source": [
    "risk_data = helper.plot_iso_surface(risk_grid, 0.05, 25, 2.5, \"Portfolio Risk = 0.05\", '#F5B7B1', True)"
   ]
  },
  {
   "cell_type": "markdown",
   "metadata": {
    "deletable": true,
    "editable": true
   },
   "source": [
    "#### Leverage"
   ]
  },
  {
   "cell_type": "markdown",
   "metadata": {
    "deletable": true,
    "editable": true
   },
   "source": [
    "Now let's write a function that takes in the portfolio weights and spits out the portfolio leverage, $\\sum_i|x_i|$. This will allow us to visualize the space that satisfies the constraint $\\sum_i|x_i| \\leq 1$."
   ]
  },
  {
   "cell_type": "code",
   "execution_count": null,
   "metadata": {
    "collapsed": true,
    "deletable": true,
    "editable": true
   },
   "outputs": [],
   "source": [
    "def lev_fcn(x):\n",
    "    \"\"\"\n",
    "    Calculate portfolio leverage.\n",
    "\n",
    "    Parameters\n",
    "    ----------\n",
    "    x : numpy array\n",
    "        The vector of portfolio weights.\n",
    "\n",
    "    Returns\n",
    "    -------\n",
    "    leverage : float\n",
    "        Portfolio risk.\n",
    "    \"\"\"\n",
    "    #TODO: Implement function\n",
    "    \n",
    "    return None\n",
    "\n",
    "n_samples = 25\n",
    "grid_max = 2.5\n",
    "\n",
    "lev_grid, _, _, _, _ = helper.evaluate_fcn_on_grid(grid_max, n_samples, lev_fcn)\n",
    "lev_data = helper.plot_iso_surface(lev_grid, 1.0, n_samples, grid_max, \"Leverage Ratio = 1\", '#1F618D', True)"
   ]
  },
  {
   "cell_type": "markdown",
   "metadata": {
    "deletable": true,
    "editable": true
   },
   "source": [
    "#### Market Neutral"
   ]
  },
  {
   "cell_type": "markdown",
   "metadata": {
    "deletable": true,
    "editable": true
   },
   "source": [
    "For the market neutral constraint, we constrain the sum of the weights. Let's write a function that calculates this quantity, given the portfolio weights. Then we can visualize the plane $\\sum_i x_i = 0$."
   ]
  },
  {
   "cell_type": "code",
   "execution_count": null,
   "metadata": {
    "collapsed": true,
    "deletable": true,
    "editable": true
   },
   "outputs": [],
   "source": [
    "def mn_fcn(x):\n",
    "    \"\"\"\n",
    "    Calculate the sum of the portfolio weights.\n",
    "\n",
    "    Parameters\n",
    "    ----------\n",
    "    x : numpy array\n",
    "        The vector of portfolio weights.\n",
    "\n",
    "    Returns\n",
    "    -------\n",
    "    sum_of_weights : float\n",
    "        Sum of the portfolio weights.\n",
    "    \"\"\"\n",
    "    #TODO: Implement function\n",
    "    \n",
    "    return None\n",
    "\n",
    "n_samples = 25\n",
    "grid_max = 2.5\n",
    "\n",
    "mn_grid, _, _, _, _ = helper.evaluate_fcn_on_grid(grid_max, n_samples, mn_fcn)\n",
    "mn_data = helper.plot_iso_surface(mn_grid, 0, n_samples, grid_max, \"Sum of Weights = 0\", '#D35400', True)"
   ]
  },
  {
   "cell_type": "markdown",
   "metadata": {
    "deletable": true,
    "editable": true
   },
   "source": [
    "#### Factor Exposures"
   ]
  },
  {
   "cell_type": "markdown",
   "metadata": {
    "deletable": true,
    "editable": true
   },
   "source": [
    "Let's also calculate the factor exposures. Then we'll plot the planes defined by the factor exposure limits. The optimization will constrain the solution to lie between each pair of planes. We'll constrain each factor exposure to be between -0.1 and 0.1."
   ]
  },
  {
   "cell_type": "code",
   "execution_count": null,
   "metadata": {
    "collapsed": true,
    "deletable": true,
    "editable": true
   },
   "outputs": [],
   "source": [
    "def fac_fcn(x):\n",
    "    \"\"\"\n",
    "    Calculate portfolio factor exposures.\n",
    "\n",
    "    Parameters\n",
    "    ----------\n",
    "    x : numpy array\n",
    "        The vector of portfolio weights.\n",
    "\n",
    "    Returns\n",
    "    -------\n",
    "    fac_exposures : numpy array\n",
    "        Portfolio factor exposures.\n",
    "    \"\"\"\n",
    "    #TODO: Implement function\n",
    "    \n",
    "    return None\n",
    "\n",
    "grid_max = 2.5\n",
    "n_samples = 25\n",
    "\n",
    "fac_grid, spacing, _, _, _ = helper.evaluate_fcn_on_grid(grid_max, n_samples, fac_fcn)\n",
    "\n",
    "factor_limit_data = []\n",
    "\n",
    "for factor in range(B.shape[1]):\n",
    "    for l in range(2):\n",
    "        mult_fac = l*2-1\n",
    "        factor_limit_data.extend(helper.plot_iso_surface(fac_grid[:,:,:,factor], 0.1*mult_fac, n_samples, grid_max, 'Factor Exposure Limits', '#D2B4DE', False))\n",
    "\n",
    "layout = helper.create_standard_layout('Factor Exposure Limits', 'Weight on')\n",
    "\n",
    "fig = go.Figure(data=factor_limit_data, layout=layout)         \n",
    "        \n",
    "py.offline.iplot(fig)"
   ]
  },
  {
   "cell_type": "markdown",
   "metadata": {
    "deletable": true,
    "editable": true
   },
   "source": [
    "#### Individual Weight Limits"
   ]
  },
  {
   "cell_type": "markdown",
   "metadata": {
    "deletable": true,
    "editable": true
   },
   "source": [
    "Finally, let's look at the space inside the constraints on each individual weight. We'll constrain each individual weight to be between -0.55 and 0.55."
   ]
  },
  {
   "cell_type": "code",
   "execution_count": null,
   "metadata": {
    "collapsed": true,
    "deletable": true,
    "editable": true
   },
   "outputs": [],
   "source": [
    "x_max = 0.55\n",
    "\n",
    "x = np.array([-1, -1, 1, 1, -1, -1, 1, 1])*x_max\n",
    "y = np.array([-1, 1, 1, -1, -1, 1, 1, -1])*x_max\n",
    "z = np.array([-1, -1, -1, -1, 1, 1, 1, 1])*x_max\n",
    "hover_text = helper.generate_hover_text(x, y, z, 'Weight on Stock A', 'Weight on Stock B', 'Weight on Stock C')\n",
    "\n",
    "\n",
    "weight_data = [\n",
    "    go.Mesh3d(\n",
    "        x = x,\n",
    "        y = y,\n",
    "        z = z,\n",
    "        colorscale = '#FCF3CF',\n",
    "        intensity = np.full(8, 1),\n",
    "        i = [7, 0, 0, 0, 4, 4, 6, 6, 4, 0, 3, 2],\n",
    "        j = [3, 4, 1, 2, 5, 6, 5, 2, 0, 1, 6, 3],\n",
    "        k = [0, 7, 2, 3, 6, 7, 1, 1, 5, 5, 7, 6],\n",
    "        name='Weight on Stock B',\n",
    "        showscale=False,\n",
    "        opacity = 0.3,\n",
    "        hoverinfo='none'\n",
    "    )\n",
    "]\n",
    "\n",
    "trace = go.Scatter3d(\n",
    "    x=x,\n",
    "    y=y,\n",
    "    z=z,\n",
    "    mode='markers',\n",
    "    marker=dict(\n",
    "        size=6,\n",
    "        opacity=0.0001,\n",
    "        color='#BFB1A8', \n",
    "    ),\n",
    "    text = hover_text.flatten(),\n",
    "    hoverinfo = 'text',\n",
    "    showlegend=False\n",
    ")\n",
    "    \n",
    "weight_data = [weight_data[0], trace]    \n",
    "    \n",
    "layout = helper.create_standard_layout('Individual Weight Limits', 'Weight on')\n",
    "fig = go.Figure(data=weight_data, layout=layout)\n",
    "py.offline.iplot(fig)"
   ]
  },
  {
   "cell_type": "markdown",
   "metadata": {
    "deletable": true,
    "editable": true
   },
   "source": [
    "#### Plot all the constraints on the same axes"
   ]
  },
  {
   "cell_type": "markdown",
   "metadata": {
    "deletable": true,
    "editable": true
   },
   "source": [
    "Finally, let's visualize the space that satisfies all the constraints. It has to be inside all of the enclosed spaces, _on_ the plane defined by the market neutral constraint, and _between_ the planes defined by the factor exposure constraints."
   ]
  },
  {
   "cell_type": "code",
   "execution_count": null,
   "metadata": {
    "collapsed": true,
    "deletable": true,
    "editable": true
   },
   "outputs": [],
   "source": [
    "data = risk_data\n",
    "data.extend(lev_data)\n",
    "data.extend(mn_data)\n",
    "data.extend(factor_limit_data)\n",
    "data.extend(weight_data)\n",
    "layout = helper.create_standard_layout('Visualize Intersection of All Constraints', 'Weight on')\n",
    "fig = go.Figure(data=data, layout=layout)\n",
    "py.offline.iplot(fig)"
   ]
  },
  {
   "cell_type": "markdown",
   "metadata": {
    "deletable": true,
    "editable": true
   },
   "source": [
    "## Optimization\n",
    "Finally, let's define and run the optimization problem with the same objective function as above, but this time, with all the constraints we just discussed. Remember that the optimization is looking for the point in the space that satisfies all the constraints that _minimizes_ the alpha function."
   ]
  },
  {
   "cell_type": "code",
   "execution_count": null,
   "metadata": {
    "collapsed": true,
    "deletable": true,
    "editable": true,
    "scrolled": true
   },
   "outputs": [],
   "source": [
    "def find_optimal_holdings(\n",
    "    alpha_vector,\n",
    "    risk_model,\n",
    "    risk_cap=0.05,\n",
    "    factor_max=10.0,\n",
    "    factor_min=-10.0,\n",
    "    x_max=0.55,\n",
    "    x_min=-0.55):\n",
    "    \n",
    "    \"\"\"\n",
    "    Define an optimization problem. It takes in several inputs and optimization parameters and outputs the\n",
    "    optimized weights. The objective should minimize the objective -alpha*x, but also apply the risk, leverage,\n",
    "    market neutral, factor exposure, and invidiual weight constraints.\n",
    "\n",
    "    Parameters\n",
    "    ----------\n",
    "    alpha_vector : numpy array\n",
    "        The alpha vector used in the optimization objective.\n",
    "    risk_model : RiskModelPCA\n",
    "        The risk model calculated above using PCA.\n",
    "    risk_cap : float\n",
    "        The limit to be placed on portfolio risk.\n",
    "    factor_max : float\n",
    "        The factor exposure upper limit.\n",
    "    factor_min : float\n",
    "        The factor exposure lower limit.\n",
    "    x_max : float\n",
    "        The individual weight upper limit.\n",
    "    x_min : float\n",
    "        The individual weight lower limit.\n",
    "\n",
    "    Returns\n",
    "    -------\n",
    "    optimal_weights : numpy array\n",
    "        The optimal portfolio weights.\n",
    "    \"\"\"\n",
    "    #TODO: Implement function\n",
    "    \n",
    "    return None"
   ]
  },
  {
   "cell_type": "code",
   "execution_count": null,
   "metadata": {
    "collapsed": true,
    "deletable": true,
    "editable": true,
    "scrolled": true
   },
   "outputs": [],
   "source": [
    "optimal_weights = find_optimal_holdings(\n",
    "    alpha_vector,\n",
    "    rm\n",
    ")"
   ]
  },
  {
   "cell_type": "code",
   "execution_count": null,
   "metadata": {
    "collapsed": true,
    "deletable": true,
    "editable": true
   },
   "outputs": [],
   "source": [
    "optimal_weights"
   ]
  },
  {
   "cell_type": "markdown",
   "metadata": {
    "deletable": true,
    "editable": true
   },
   "source": [
    "The optimal weights are 0 weight on Stock A, 50% long on Stock B and 50% short on Stock C."
   ]
  },
  {
   "cell_type": "markdown",
   "metadata": {
    "collapsed": true,
    "deletable": true,
    "editable": true
   },
   "source": [
    "The solution for this notebook is [here](Advanced_Opt_solution.ipynb)."
   ]
  }
 ],
 "metadata": {
  "kernelspec": {
   "display_name": "Python [conda env:aind-dl]",
   "language": "python",
   "name": "conda-env-aind-dl-py"
  },
  "language_info": {
   "codemirror_mode": {
    "name": "ipython",
    "version": 3
   },
   "file_extension": ".py",
   "mimetype": "text/x-python",
   "name": "python",
   "nbconvert_exporter": "python",
   "pygments_lexer": "ipython3",
   "version": "3.5.3"
  },
  "toc": {
   "base_numbering": 1,
   "nav_menu": {},
   "number_sections": true,
   "sideBar": true,
   "skip_h1_title": false,
   "title_cell": "Table of Contents",
   "title_sidebar": "Contents",
   "toc_cell": false,
   "toc_position": {},
   "toc_section_display": true,
   "toc_window_display": true
  }
 },
 "nbformat": 4,
 "nbformat_minor": 2
}
