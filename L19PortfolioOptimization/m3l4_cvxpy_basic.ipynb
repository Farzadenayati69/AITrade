{
 "cells": [
  {
   "cell_type": "markdown",
   "metadata": {
    "deletable": true,
    "editable": true
   },
   "source": [
    "# Portfolio Optimization using cvxpy"
   ]
  },
  {
   "cell_type": "markdown",
   "metadata": {
    "deletable": true,
    "editable": true
   },
   "source": [
    "## Install cvxpy and other libraries"
   ]
  },
  {
   "cell_type": "code",
   "execution_count": 1,
   "metadata": {
    "collapsed": false,
    "deletable": true,
    "editable": true
   },
   "outputs": [
    {
     "name": "stdout",
     "output_type": "stream",
     "text": [
      "Requirement already satisfied: colour==0.1.5 in /root/anaconda2/envs/aind-dl/lib/python3.5/site-packages (from -r requirements.txt (line 1))\n",
      "Requirement already satisfied: cvxpy==1.0.3 in /root/anaconda2/envs/aind-dl/lib/python3.5/site-packages (from -r requirements.txt (line 2))\n",
      "Requirement already satisfied: cycler==0.10.0 in /root/anaconda2/envs/aind-dl/lib/python3.5/site-packages (from -r requirements.txt (line 3))\n",
      "Requirement already satisfied: numpy==1.14.5 in /root/anaconda2/envs/aind-dl/lib/python3.5/site-packages (from -r requirements.txt (line 4))\n",
      "Requirement already satisfied: pandas==0.21.1 in /root/anaconda2/envs/aind-dl/lib/python3.5/site-packages (from -r requirements.txt (line 5))\n",
      "Requirement already satisfied: plotly==2.2.3 in /root/anaconda2/envs/aind-dl/lib/python3.5/site-packages (from -r requirements.txt (line 6))\n",
      "Requirement already satisfied: pyparsing==2.2.0 in /root/anaconda2/envs/aind-dl/lib/python3.5/site-packages (from -r requirements.txt (line 7))\n",
      "Requirement already satisfied: python-dateutil==2.6.1 in /root/anaconda2/envs/aind-dl/lib/python3.5/site-packages (from -r requirements.txt (line 8))\n",
      "Requirement already satisfied: pytz==2017.3 in /root/anaconda2/envs/aind-dl/lib/python3.5/site-packages (from -r requirements.txt (line 9))\n",
      "Requirement already satisfied: requests==2.18.4 in /root/anaconda2/envs/aind-dl/lib/python3.5/site-packages (from -r requirements.txt (line 10))\n",
      "Requirement already satisfied: scipy==1.0.0 in /root/anaconda2/envs/aind-dl/lib/python3.5/site-packages (from -r requirements.txt (line 11))\n",
      "Requirement already satisfied: scikit-learn==0.19.1 in /root/anaconda2/envs/aind-dl/lib/python3.5/site-packages (from -r requirements.txt (line 12))\n",
      "Requirement already satisfied: six==1.11.0 in /root/anaconda2/envs/aind-dl/lib/python3.5/site-packages (from -r requirements.txt (line 13))\n",
      "Requirement already satisfied: tqdm==4.19.5 in /root/anaconda2/envs/aind-dl/lib/python3.5/site-packages (from -r requirements.txt (line 14))\n",
      "Requirement already satisfied: scs>=1.1.3 in /root/anaconda2/envs/aind-dl/lib/python3.5/site-packages (from cvxpy==1.0.3->-r requirements.txt (line 2))\n",
      "Requirement already satisfied: osqp in /root/anaconda2/envs/aind-dl/lib/python3.5/site-packages (from cvxpy==1.0.3->-r requirements.txt (line 2))\n",
      "Requirement already satisfied: ecos>=2 in /root/anaconda2/envs/aind-dl/lib/python3.5/site-packages (from cvxpy==1.0.3->-r requirements.txt (line 2))\n",
      "Requirement already satisfied: fastcache in /root/anaconda2/envs/aind-dl/lib/python3.5/site-packages (from cvxpy==1.0.3->-r requirements.txt (line 2))\n",
      "Requirement already satisfied: multiprocess in /root/anaconda2/envs/aind-dl/lib/python3.5/site-packages (from cvxpy==1.0.3->-r requirements.txt (line 2))\n",
      "Requirement already satisfied: toolz in /root/anaconda2/envs/aind-dl/lib/python3.5/site-packages (from cvxpy==1.0.3->-r requirements.txt (line 2))\n",
      "Requirement already satisfied: nbformat>=4.2 in /root/anaconda2/envs/aind-dl/lib/python3.5/site-packages (from plotly==2.2.3->-r requirements.txt (line 6))\n",
      "Requirement already satisfied: decorator>=4.0.6 in /root/anaconda2/envs/aind-dl/lib/python3.5/site-packages (from plotly==2.2.3->-r requirements.txt (line 6))\n",
      "Requirement already satisfied: certifi>=2017.4.17 in /root/anaconda2/envs/aind-dl/lib/python3.5/site-packages (from requests==2.18.4->-r requirements.txt (line 10))\n",
      "Requirement already satisfied: chardet<3.1.0,>=3.0.2 in /root/anaconda2/envs/aind-dl/lib/python3.5/site-packages (from requests==2.18.4->-r requirements.txt (line 10))\n",
      "Requirement already satisfied: urllib3<1.23,>=1.21.1 in /root/anaconda2/envs/aind-dl/lib/python3.5/site-packages (from requests==2.18.4->-r requirements.txt (line 10))\n",
      "Requirement already satisfied: idna<2.7,>=2.5 in /root/anaconda2/envs/aind-dl/lib/python3.5/site-packages (from requests==2.18.4->-r requirements.txt (line 10))\n",
      "Requirement already satisfied: future in /root/anaconda2/envs/aind-dl/lib/python3.5/site-packages (from osqp->cvxpy==1.0.3->-r requirements.txt (line 2))\n",
      "Requirement already satisfied: dill>=0.2.9 in /root/anaconda2/envs/aind-dl/lib/python3.5/site-packages (from multiprocess->cvxpy==1.0.3->-r requirements.txt (line 2))\n",
      "\u001b[33mYou are using pip version 9.0.1, however version 19.1.1 is available.\n",
      "You should consider upgrading via the 'pip install --upgrade pip' command.\u001b[0m\n"
     ]
    }
   ],
   "source": [
    "import sys\n",
    "!{sys.executable} -m pip install -r requirements.txt"
   ]
  },
  {
   "cell_type": "markdown",
   "metadata": {
    "deletable": true,
    "editable": true
   },
   "source": [
    "## Imports"
   ]
  },
  {
   "cell_type": "code",
   "execution_count": 1,
   "metadata": {
    "collapsed": true,
    "deletable": true,
    "editable": true
   },
   "outputs": [],
   "source": [
    "import cvxpy as cvx\n",
    "import numpy as np\n",
    "import quiz_tests"
   ]
  },
  {
   "cell_type": "markdown",
   "metadata": {
    "deletable": true,
    "editable": true
   },
   "source": [
    "## Optimization with cvxpy\n",
    "\n",
    "http://www.cvxpy.org/\n",
    "\n",
    "Practice using cvxpy to solve a simple optimization problem. Find the optimal weights on a two-asset portfolio given the variance of Stock A, the variance of Stock B, and the correlation between Stocks A and B. Create a function that takes in these values as arguments and returns the vector of optimal weights, i.e., \n",
    "\n",
    "$\\mathbf{x} = \\begin{bmatrix}\n",
    "x_A & x_B\n",
    "\\end{bmatrix}\n",
    "$\n",
    "\n",
    "\n",
    "Remember that the constraint in this problem is: $x_A + x_B = 1$\n",
    "\n"
   ]
  },
  {
   "cell_type": "markdown",
   "metadata": {
    "deletable": true,
    "editable": true
   },
   "source": [
    "## Hints\n",
    "\n",
    "### standard deviation\n",
    "standard deviation $\\sigma_A = \\sqrt(\\sigma^2_A)$, where $\\sigma^2_A$ is variance of $x_A$\n",
    "look at `np.sqrt()`\n",
    "\n",
    "### covariance\n",
    "correlation between the stocks is $\\rho_{A,B}$\n",
    "\n",
    "covariance between the stocks is $\\sigma_{A,B} = \\sigma_A \\times \\sigma_B \\times \\rho_{A,B}$\n",
    "\n",
    "### x vector\n",
    "create a vector of 2 x variables $\\mathbf{x} = \\begin{bmatrix}\n",
    "x_A & x_B\n",
    "\\end{bmatrix}\n",
    "$\n",
    "we can use `cvx.Variable(2)`\n",
    "\n",
    "### covariance matrix\n",
    "The covariance matrix $P = \n",
    "\\begin{bmatrix}\n",
    "\\sigma^2_A & \\sigma_{A,B} \\\\ \n",
    "\\sigma_{A,B} & \\sigma^2_B \n",
    "\\end{bmatrix}$\n",
    "\n",
    "We can create a 2 x 2 matrix using a 2-dimensional numpy array\n",
    "`np.array([[\"Cindy\", \"Liz\"],[\"Eddy\", \"Brok\"]])`\n",
    "\n",
    "### quadratic form\n",
    "We can write the portfolio variance $\\sigma^2_p = \\mathbf{x^T} \\mathbf{P} \\mathbf{x}$\n",
    "\n",
    "Recall that the $\\mathbf{x^T} \\mathbf{P} \\mathbf{x}$ is called the quadratic form.\n",
    "We can use the cvxpy function `quad_form(x,P)` to get the quadratic form.\n",
    "\n",
    "### objective function\n",
    "Next, we want to define the objective function.  In this case, we want to minimize something.  What do we want to minimize in this case?  We want to minimize the portfolio variance, which is defined by our quadratic form $\\mathbf{x^T} \\mathbf{P} \\mathbf{x}$\n",
    "\n",
    "We can find the objective function using cvxpy `objective = cvx.Minimize()`.  Can you guess what to pass into this function?\n",
    "\n",
    "\n",
    "### constraints\n",
    "We can also define our constraints in a list.  For example, if you wanted the $\\sum_{1}^{n}x = 1$, you could save a variable as `[sum(x)==1]`, where x was created using `cvx.Variable()`.\n",
    "\n",
    "### optimization\n",
    "So now that we have our objective function and constraints, we can solve for the values of $\\mathbf{x}$.\n",
    "cvxpy has the constructor `Problem(objective, constraints)`, which returns a `Problem` object.\n",
    "\n",
    "The `Problem` object has a function solve(), which returns the minimum of the solution.  In this case, this is the minimum variance of the portfolio.\n",
    "\n",
    "It also updates the vector $\\mathbf{x}$.\n",
    "\n",
    "We can check out the values of $x_A$ and $x_B$ that gave the minimum portfolio variance by using `x.value`"
   ]
  },
  {
   "cell_type": "code",
   "execution_count": 6,
   "metadata": {
    "collapsed": false,
    "deletable": true,
    "editable": true
   },
   "outputs": [
    {
     "name": "stdout",
     "output_type": "stream",
     "text": [
      "Tests Passed\n"
     ]
    }
   ],
   "source": [
    "import cvxpy as cvx\n",
    "import numpy as np\n",
    "\n",
    "def optimize_twoasset_portfolio(varA, varB, rAB):\n",
    "    \"\"\"Create a function that takes in the variance of Stock A, the variance of\n",
    "    Stock B, and the correlation between Stocks A and B as arguments and returns \n",
    "    the vector of optimal weights\n",
    "    \n",
    "    Parameters\n",
    "    ----------\n",
    "    varA : float 方差    标准差为其sqrt\n",
    "        The variance of Stock A.\n",
    "        \n",
    "    varB : float\n",
    "        The variance of Stock B.    \n",
    "        \n",
    "    rAB : float\n",
    "        The correlation between Stocks A and B.\n",
    "        \n",
    "    Returns\n",
    "    -------\n",
    "    x : np.ndarray\n",
    "        A 2-element numpy ndarray containing the weights on Stocks A and B,\n",
    "        [x_A, x_B], that minimize the portfolio variance.\n",
    "    \n",
    "    \"\"\"\n",
    "    # TODO: Use cvxpy to determine the weights on the assets in a 2-asset\n",
    "    # portfolio that minimize portfolio variance.\n",
    "    \n",
    "    cov =np.sqrt(varA)*np.sqrt(varB)*rAB\n",
    "    \n",
    "    x = cvx.Variable(2)\n",
    "    \n",
    "    P = np.array([[varA,cov],[cov,varB]])\n",
    "    \n",
    "    objective = cvx.Minimize(cvx.quad_form(x,P))\n",
    "    \n",
    "    constraints = [sum(x)==1]\n",
    "    \n",
    "    problem = cvx.Problem(objective, constraints)\n",
    "    \n",
    "    min_value = problem.solve()\n",
    "    xA,xB = x.value\n",
    "    \n",
    "    return xA ,xB\n",
    "\n",
    "quiz_tests.test_optimize_twoasset_portfolio(optimize_twoasset_portfolio)"
   ]
  },
  {
   "cell_type": "code",
   "execution_count": 7,
   "metadata": {
    "collapsed": false,
    "deletable": true,
    "editable": true
   },
   "outputs": [
    {
     "name": "stdout",
     "output_type": "stream",
     "text": [
      "Weight on Stock A: 0.281935\n",
      "Weight on Stock B: 0.718065\n"
     ]
    }
   ],
   "source": [
    "\"\"\"Test run optimize_twoasset_portfolio().\"\"\"\n",
    "xA,xB = optimize_twoasset_portfolio(0.1, 0.05, 0.25)\n",
    "print(\"Weight on Stock A: {:.6f}\".format(xA))\n",
    "print(\"Weight on Stock B: {:.6f}\".format(xB))"
   ]
  },
  {
   "cell_type": "markdown",
   "metadata": {
    "deletable": true,
    "editable": true
   },
   "source": [
    "If you're feeling stuck, you can check out the solution [here](m3l4_cvxpy_basic_solution.ipynb)"
   ]
  },
  {
   "cell_type": "code",
   "execution_count": null,
   "metadata": {
    "collapsed": true,
    "deletable": true,
    "editable": true
   },
   "outputs": [],
   "source": []
  }
 ],
 "metadata": {
  "kernelspec": {
   "display_name": "Python [conda env:aind-dl]",
   "language": "python",
   "name": "conda-env-aind-dl-py"
  },
  "language_info": {
   "codemirror_mode": {
    "name": "ipython",
    "version": 3
   },
   "file_extension": ".py",
   "mimetype": "text/x-python",
   "name": "python",
   "nbconvert_exporter": "python",
   "pygments_lexer": "ipython3",
   "version": "3.5.3"
  },
  "toc": {
   "base_numbering": 1,
   "nav_menu": {},
   "number_sections": true,
   "sideBar": true,
   "skip_h1_title": false,
   "title_cell": "Table of Contents",
   "title_sidebar": "Contents",
   "toc_cell": false,
   "toc_position": {},
   "toc_section_display": true,
   "toc_window_display": true
  }
 },
 "nbformat": 4,
 "nbformat_minor": 2
}
