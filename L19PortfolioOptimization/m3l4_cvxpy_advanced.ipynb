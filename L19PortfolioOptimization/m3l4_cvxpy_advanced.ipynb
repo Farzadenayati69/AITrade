{
 "cells": [
  {
   "cell_type": "markdown",
   "metadata": {
    "deletable": true,
    "editable": true
   },
   "source": [
    "# Advanced Portfolio Optimization using cvxpy"
   ]
  },
  {
   "cell_type": "markdown",
   "metadata": {
    "deletable": true,
    "editable": true
   },
   "source": [
    "## Install cvxpy and other libraries"
   ]
  },
  {
   "cell_type": "code",
   "execution_count": 1,
   "metadata": {
    "collapsed": false,
    "deletable": true,
    "editable": true
   },
   "outputs": [
    {
     "name": "stdout",
     "output_type": "stream",
     "text": [
      "Requirement already satisfied: colour==0.1.5 in /root/anaconda2/envs/aind-dl/lib/python3.5/site-packages (from -r requirements.txt (line 1))\n",
      "Requirement already satisfied: cvxpy==1.0.3 in /root/anaconda2/envs/aind-dl/lib/python3.5/site-packages (from -r requirements.txt (line 2))\n",
      "Requirement already satisfied: cycler==0.10.0 in /root/anaconda2/envs/aind-dl/lib/python3.5/site-packages (from -r requirements.txt (line 3))\n",
      "Requirement already satisfied: numpy==1.14.5 in /root/anaconda2/envs/aind-dl/lib/python3.5/site-packages (from -r requirements.txt (line 4))\n",
      "Requirement already satisfied: pandas==0.21.1 in /root/anaconda2/envs/aind-dl/lib/python3.5/site-packages (from -r requirements.txt (line 5))\n",
      "Requirement already satisfied: plotly==2.2.3 in /root/anaconda2/envs/aind-dl/lib/python3.5/site-packages (from -r requirements.txt (line 6))\n",
      "Requirement already satisfied: pyparsing==2.2.0 in /root/anaconda2/envs/aind-dl/lib/python3.5/site-packages (from -r requirements.txt (line 7))\n",
      "Requirement already satisfied: python-dateutil==2.6.1 in /root/anaconda2/envs/aind-dl/lib/python3.5/site-packages (from -r requirements.txt (line 8))\n",
      "Requirement already satisfied: pytz==2017.3 in /root/anaconda2/envs/aind-dl/lib/python3.5/site-packages (from -r requirements.txt (line 9))\n",
      "Requirement already satisfied: requests==2.18.4 in /root/anaconda2/envs/aind-dl/lib/python3.5/site-packages (from -r requirements.txt (line 10))\n",
      "Requirement already satisfied: scipy==1.0.0 in /root/anaconda2/envs/aind-dl/lib/python3.5/site-packages (from -r requirements.txt (line 11))\n",
      "Requirement already satisfied: scikit-learn==0.19.1 in /root/anaconda2/envs/aind-dl/lib/python3.5/site-packages (from -r requirements.txt (line 12))\n",
      "Requirement already satisfied: six==1.11.0 in /root/anaconda2/envs/aind-dl/lib/python3.5/site-packages (from -r requirements.txt (line 13))\n",
      "Requirement already satisfied: tqdm==4.19.5 in /root/anaconda2/envs/aind-dl/lib/python3.5/site-packages (from -r requirements.txt (line 14))\n",
      "Requirement already satisfied: scs>=1.1.3 in /root/anaconda2/envs/aind-dl/lib/python3.5/site-packages (from cvxpy==1.0.3->-r requirements.txt (line 2))\n",
      "Requirement already satisfied: osqp in /root/anaconda2/envs/aind-dl/lib/python3.5/site-packages (from cvxpy==1.0.3->-r requirements.txt (line 2))\n",
      "Requirement already satisfied: multiprocess in /root/anaconda2/envs/aind-dl/lib/python3.5/site-packages (from cvxpy==1.0.3->-r requirements.txt (line 2))\n",
      "Requirement already satisfied: toolz in /root/anaconda2/envs/aind-dl/lib/python3.5/site-packages (from cvxpy==1.0.3->-r requirements.txt (line 2))\n",
      "Requirement already satisfied: ecos>=2 in /root/anaconda2/envs/aind-dl/lib/python3.5/site-packages (from cvxpy==1.0.3->-r requirements.txt (line 2))\n",
      "Requirement already satisfied: fastcache in /root/anaconda2/envs/aind-dl/lib/python3.5/site-packages (from cvxpy==1.0.3->-r requirements.txt (line 2))\n",
      "Requirement already satisfied: decorator>=4.0.6 in /root/anaconda2/envs/aind-dl/lib/python3.5/site-packages (from plotly==2.2.3->-r requirements.txt (line 6))\n",
      "Requirement already satisfied: nbformat>=4.2 in /root/anaconda2/envs/aind-dl/lib/python3.5/site-packages (from plotly==2.2.3->-r requirements.txt (line 6))\n",
      "Requirement already satisfied: chardet<3.1.0,>=3.0.2 in /root/anaconda2/envs/aind-dl/lib/python3.5/site-packages (from requests==2.18.4->-r requirements.txt (line 10))\n",
      "Requirement already satisfied: certifi>=2017.4.17 in /root/anaconda2/envs/aind-dl/lib/python3.5/site-packages (from requests==2.18.4->-r requirements.txt (line 10))\n",
      "Requirement already satisfied: urllib3<1.23,>=1.21.1 in /root/anaconda2/envs/aind-dl/lib/python3.5/site-packages (from requests==2.18.4->-r requirements.txt (line 10))\n",
      "Requirement already satisfied: idna<2.7,>=2.5 in /root/anaconda2/envs/aind-dl/lib/python3.5/site-packages (from requests==2.18.4->-r requirements.txt (line 10))\n",
      "Requirement already satisfied: future in /root/anaconda2/envs/aind-dl/lib/python3.5/site-packages (from osqp->cvxpy==1.0.3->-r requirements.txt (line 2))\n",
      "Requirement already satisfied: dill>=0.2.9 in /root/anaconda2/envs/aind-dl/lib/python3.5/site-packages (from multiprocess->cvxpy==1.0.3->-r requirements.txt (line 2))\n",
      "\u001b[33mYou are using pip version 9.0.1, however version 19.1.1 is available.\n",
      "You should consider upgrading via the 'pip install --upgrade pip' command.\u001b[0m\n"
     ]
    }
   ],
   "source": [
    "import sys\n",
    "!{sys.executable} -m pip install -r requirements.txt"
   ]
  },
  {
   "cell_type": "markdown",
   "metadata": {
    "deletable": true,
    "editable": true
   },
   "source": [
    "## Imports"
   ]
  },
  {
   "cell_type": "code",
   "execution_count": 2,
   "metadata": {
    "collapsed": true,
    "deletable": true,
    "editable": true
   },
   "outputs": [],
   "source": [
    "import cvxpy as cvx\n",
    "import numpy as np\n",
    "import quiz_tests_advanced"
   ]
  },
  {
   "cell_type": "markdown",
   "metadata": {
    "deletable": true,
    "editable": true
   },
   "source": [
    "## What's our objective?\n",
    "http://www.cvxpy.org/\n",
    "\n",
    "Let's see how we can use optimization to meet a more advanced objective.  We want to both minimize the portfolio variance and also want to closely track a market cap weighted index.  In other words, we're trying to minimize the distance between the weights of our portfolio and the weights of the index.\n",
    "\n",
    "$Minimize \\left [ \\sigma^2_p + \\lambda \\sqrt{\\sum_{1}^{m}(weight_i - indexWeight_i)^2} \\right  ]$ where $m$ is the number of stocks in the portfolio, and $\\lambda$ is a scaling factor that you can choose.\n"
   ]
  },
  {
   "cell_type": "markdown",
   "metadata": {
    "deletable": true,
    "editable": true
   },
   "source": [
    "## Hints\n",
    "\n",
    "### x vector\n",
    "To create a vector of M variables $\\mathbf{x} = \\begin{bmatrix}\n",
    "x_1 &...& x_M\n",
    "\\end{bmatrix}\n",
    "$\n",
    "we can use `cvx.Variable(m)`\n",
    "\n",
    "### covariance matrix\n",
    "If we have $m$ stock series, the covariance matrix is an $m \\times m$ matrix containing the covariance between each pair of stocks.  We can use [numpy.cov](https://docs.scipy.org/doc/numpy/reference/generated/numpy.cov.html) to get the covariance.  We give it a 2D array in which each row is a stock series, and each column is an observation at the same period of time.\n",
    "\n",
    "The covariance matrix $\\mathbf{P} = \n",
    "\\begin{bmatrix}\n",
    "\\sigma^2_{1,1} & ... & \\sigma^2_{1,m} \\\\ \n",
    "... & ... & ...\\\\\n",
    "\\sigma_{m,1} & ... & \\sigma^2_{m,m}  \\\\\n",
    "\\end{bmatrix}$"
   ]
  },
  {
   "cell_type": "markdown",
   "metadata": {
    "deletable": true,
    "editable": true
   },
   "source": [
    "### portfolio variance\n",
    "We can write the portfolio variance $\\sigma^2_p = \\mathbf{x^T} \\mathbf{P} \\mathbf{x}$\n",
    "\n",
    "Recall that the $\\mathbf{x^T} \\mathbf{P} \\mathbf{x}$ is called the quadratic form.\n",
    "We can use the cvxpy function `quad_form(x,P)` to get the quadratic form.\n",
    "\n",
    "### Distance from index weights\n",
    "We want portfolio weights that track the index closely.  So we want to minimize the distance between them.\n",
    "Recall from the Pythagorean theorem that you can get the distance between two points in an x,y plane by adding the square of the x and y distances and taking the square root.  Extending this to any number of dimensions is called the L2 norm.  So: $\\sqrt{\\sum_{1}^{n}(weight_i - indexWeight_i)^2}$  Can also be written as $\\left \\| \\mathbf{x} - \\mathbf{index} \\right \\|_2$.  There's a cvxpy function called [norm()](https://www.cvxpy.org/api_reference/cvxpy.atoms.other_atoms.html#norm)\n",
    "`norm(x, p=2, axis=None)`.  The default is already set to find an L2 norm, so you would pass in one argument, which is the difference between your portfolio weights and the index weights.\n",
    "\n",
    "### objective function\n",
    "We want to minimize both the portfolio variance and the distance of the portfolio weights from the index weights.\n",
    "We also want to choose a `scale` constant, which is $\\lambda$ in the expression. This lets us choose how much priority we give to minimizing the difference from the index, relative to minimizing the variance of the portfolio.  If you choose a higher value for `scale` ($\\lambda$), do you think this gives more priority to minimizing the difference, or minimizing the variance?\n",
    "\n",
    "We can find the objective function using cvxpy `objective = cvx.Minimize()`.  Can you guess what to pass into this function?\n",
    "\n",
    "### constraints\n",
    "We can also define our constraints in a list.  For example, you'd want the weights to sum to one. So $\\sum_{1}^{n}x = 1$.  You may also need to go long only, which means no shorting, so no negative weights.  So $x_i >0 $ for all $i$. you could save a variable as `[x >= 0, sum(x) == 1]`, where x was created using `cvx.Variable()`."
   ]
  },
  {
   "cell_type": "markdown",
   "metadata": {
    "deletable": true,
    "editable": true
   },
   "source": [
    "### optimization\n",
    "So now that we have our objective function and constraints, we can solve for the values of $\\mathbf{x}$.\n",
    "cvxpy has the constructor `Problem(objective, constraints)`, which returns a `Problem` object.\n",
    "\n",
    "The `Problem` object has a function solve(), which returns the minimum of the solution.  In this case, this is the minimum variance of the portfolio.\n",
    "\n",
    "It also updates the vector $\\mathbf{x}$.\n",
    "\n",
    "We can check out the values of $x_A$ and $x_B$ that gave the minimum portfolio variance by using `x.value`"
   ]
  },
  {
   "cell_type": "markdown",
   "metadata": {
    "deletable": true,
    "editable": true
   },
   "source": [
    "## Quiz"
   ]
  },
  {
   "cell_type": "code",
   "execution_count": 21,
   "metadata": {
    "collapsed": false,
    "deletable": true,
    "editable": true
   },
   "outputs": [
    {
     "name": "stdout",
     "output_type": "stream",
     "text": [
      "Tests Passed\n"
     ]
    }
   ],
   "source": [
    "import cvxpy as cvx\n",
    "import numpy as np\n",
    "\n",
    "def optimize_portfolio(returns, index_weights, scale=.00001):\n",
    "    \"\"\"\n",
    "    Create a function that takes the return series of a set of stocks, the index weights,\n",
    "    and scaling factor. The function will minimize a combination of the portfolio variance\n",
    "    and the distance of its weights from the index weights.  \n",
    "    The optimization will be constrained to be long only, and the weights should sum to one.\n",
    "    \n",
    "    Parameters\n",
    "    ----------\n",
    "    returns : numpy.ndarray\n",
    "        2D array containing stock return series in each row.\n",
    "        \n",
    "    index_weights : numpy.ndarray\n",
    "        1D numpy array containing weights of the index.\n",
    "        \n",
    "    scale : float\n",
    "        The scaling factor applied to the distance between portfolio and index weights\n",
    "        \n",
    "    Returns\n",
    "    -------\n",
    "    x : np.ndarray\n",
    "        A numpy ndarray containing the weights of the stocks in the optimized portfolio\n",
    "    \"\"\"\n",
    "    # TODO: Use cvxpy to determine the weights on the assets\n",
    "    # that minimizes the combination of portfolio variance and distance from index weights\n",
    "    \n",
    "    # number of stocks m is number of rows of returns, and also number of index weights\n",
    "    m = len(returns)\n",
    "    \n",
    "#     #covariance matrix of returns\n",
    "    cov = np.cov(returns)\n",
    "    \n",
    "#     # x variables (to be found with optimization)\n",
    "    x = cvx.Variable(m) \n",
    "    \n",
    "#     #portfolio variance, in quadratic form\n",
    "    portfolio_variance = cvx.quad_form(x,cov)\n",
    "    \n",
    "#     # euclidean distance (L2 norm) between portfolio and index weights\n",
    "    distance_to_index = cvx.norm(x - index_weights)\n",
    "    \n",
    "#     #objective function\n",
    "    objective =  cvx.Minimize(portfolio_variance + scale * distance_to_index)\n",
    "    \n",
    "#     #constraints\n",
    "    constraints = [x >= 0, sum(x) == 1]\n",
    "\n",
    "#     #use cvxpy to solve the objective\n",
    "    cvx.Problem(objective, constraints).solve()\n",
    "#     #retrieve the weights of the optimized portfolio\n",
    "    x_values = x.value\n",
    "    return x_values\n",
    "\n",
    "quiz_tests_advanced.test_optimize_portfolio(optimize_portfolio)"
   ]
  },
  {
   "cell_type": "code",
   "execution_count": 4,
   "metadata": {
    "collapsed": false,
    "deletable": true,
    "editable": true
   },
   "outputs": [
    {
     "data": {
      "text/plain": [
       "array([ 3.42801502e-01,  2.43218983e-01,  2.30210607e-01,  2.07128362e-02,\n",
       "       -1.51716575e-01,  4.35100711e-02, -4.51876026e-01,  8.44936670e-02,\n",
       "        1.09179060e-01, -1.91010185e-01,  4.53423251e-01,  1.61479034e-01,\n",
       "        2.81268403e-01,  2.35748828e-01, -7.16569712e-02,  1.37534987e-01,\n",
       "        3.03474058e-01,  2.53837907e-01,  1.18338719e-01,  6.90154185e-01,\n",
       "       -3.87406970e-01,  1.26084168e-01, -1.15359525e-01,  2.59862055e-01,\n",
       "       -1.88194098e-01,  1.73679384e-01,  1.98610828e-01,  4.58140769e-03,\n",
       "       -4.77644968e-02, -6.74349790e-02,  4.26769155e-01, -2.97544250e-02,\n",
       "       -1.71853221e-01,  1.06690034e+00, -1.61838474e-01, -4.16999642e-02,\n",
       "        5.81160784e-01, -2.39449191e-01,  1.78076122e-01, -2.24475779e-01,\n",
       "       -4.94899156e-01,  4.29639687e-01, -1.31340423e-01,  8.35999646e-01,\n",
       "       -3.65192008e-01,  4.66750944e-01,  1.59273667e-01, -3.85430189e-02,\n",
       "       -1.41629394e-01,  6.95349335e-02, -4.80499742e-01,  1.65806757e-01,\n",
       "       -5.54397078e-01, -4.41847076e-02, -2.40051044e-01, -3.26400779e-01,\n",
       "       -1.48513119e-01,  1.53824300e-01,  3.36006412e-01,  3.26549965e-01,\n",
       "       -1.55188632e-01, -4.03088887e-01,  5.11155955e-01,  4.76945506e-01,\n",
       "        1.05495491e-01, -7.20752282e-02,  3.72441034e-01, -2.58067302e-01,\n",
       "        2.80987512e-02, -3.91725192e-02, -1.02433157e-01, -2.77791431e-01,\n",
       "       -1.08443251e-01,  1.39483408e-01, -1.53623239e-01,  1.57758704e-01,\n",
       "       -1.13182646e-01,  3.54380562e-02, -2.82931076e-01,  1.08767282e-02,\n",
       "        3.50166477e-01, -3.84321674e-01,  2.94998978e-01,  1.24358835e-01,\n",
       "        2.41100615e-05, -1.46131941e-01,  8.52767727e-02, -2.54772822e-02,\n",
       "       -3.35350251e-01,  4.08959901e-01, -2.50621735e-01, -2.41131409e-01,\n",
       "        2.08070135e-01,  4.85429437e-02, -4.18187004e-02, -1.14884795e-01,\n",
       "        3.57064893e-01,  3.78715597e-01, -2.91167238e-02,  1.63604760e-01,\n",
       "       -1.11561348e-01,  3.51626878e-01,  2.39101997e-01, -3.80398955e-01,\n",
       "        3.42456340e-01, -5.33696519e-01, -1.28271658e-01, -1.00793078e-02,\n",
       "       -3.79896124e-02,  1.52212912e-01,  1.15478866e-01, -3.90619846e-02,\n",
       "        8.84147184e-04,  2.92959542e-01,  2.54891485e-01,  8.19150871e-02,\n",
       "        3.46716654e-01, -2.95714537e-01, -6.76883301e-02, -2.13503635e-01,\n",
       "       -6.47785448e-02, -1.92592324e-01, -1.19410274e-01,  4.53978336e-02,\n",
       "        3.86816854e-01, -1.58705171e-01, -1.01950765e-01,  2.66620442e-01,\n",
       "        4.00073327e-01,  5.47245199e-02, -1.90409200e-01,  1.75413882e-01,\n",
       "        1.84212180e-01,  2.59599167e-01,  2.22825330e-01,  6.38961921e-04,\n",
       "       -5.91279836e-01,  3.17984511e-01,  2.97488576e-01, -2.27145561e-01,\n",
       "        1.52656974e-01,  3.10042027e-02, -5.24821502e-01,  1.66697867e-01,\n",
       "        6.88625191e-02,  3.03308261e-01,  5.59558007e-02, -2.89374811e-01,\n",
       "        2.70490967e-01, -2.44342768e-01, -2.99808419e-01,  3.23256105e-01,\n",
       "       -2.07086022e-01, -7.36873736e-01,  1.36302436e-02, -7.61216657e-02,\n",
       "        4.28067980e-01,  4.01621745e-01, -8.45937799e-02, -3.44076370e-01,\n",
       "        1.86883211e-01, -3.51437275e-01,  8.29407427e-02,  3.60112439e-01,\n",
       "        2.72247181e-02,  3.86316299e-01,  2.73632593e-01, -7.66287829e-02,\n",
       "        4.53534215e-01,  3.85657204e-01,  4.14264695e-01,  4.69847870e-01,\n",
       "        1.45559655e-01,  1.37218796e-01, -2.44614983e-04, -7.46171395e-02,\n",
       "       -9.03483680e-02,  7.85227551e-02, -4.56683738e-01,  3.60756284e-01,\n",
       "        2.80734578e-02,  2.11919157e-01, -1.18032069e-01, -8.71147461e-02,\n",
       "        5.57036825e-01, -2.64344502e-01,  1.11824612e-01,  7.93175273e-01,\n",
       "       -8.08308226e-02,  4.26842366e-01,  2.39643300e-01,  1.09760705e-01,\n",
       "        2.86384061e-01,  2.33734804e-01,  1.27917344e-02,  4.02719995e-02,\n",
       "        1.96630425e-01,  9.95217967e-02, -7.28738890e-02, -7.94465772e-02,\n",
       "       -6.57689417e-01,  2.60790312e-01,  2.72955856e-02, -1.14586390e-01,\n",
       "        3.34036290e-01, -5.18052734e-03,  1.15705312e-01,  1.91127942e-01,\n",
       "       -1.79390130e-01,  2.10906698e-01,  4.47704881e-02,  3.76818288e-01,\n",
       "        4.44265037e-02, -2.78369990e-01, -5.01219083e-02, -7.46805875e-02,\n",
       "       -1.09806912e-01, -7.92176006e-02,  3.21493847e-01,  2.32733788e-01,\n",
       "       -3.21619666e-01, -2.35683377e-01,  8.61855684e-02,  5.66566583e-01,\n",
       "       -2.49644447e-01, -2.27777785e-01,  4.97858537e-01,  2.50726250e-01,\n",
       "        1.15252695e-02,  2.55504441e-01,  2.33115880e-02, -1.12830360e-02,\n",
       "       -2.39024728e-01, -5.20687358e-02, -2.08917835e-01, -4.81039580e-01,\n",
       "        1.89079079e-01, -1.79506484e-01,  8.40777285e-02, -1.80298201e-01,\n",
       "       -3.28417698e-01,  3.81673420e-01,  5.02447559e-01,  2.57674886e-01,\n",
       "       -2.10706438e-01, -2.33346654e-01,  5.16341395e-01,  1.37469272e-01,\n",
       "        2.53438648e-01,  5.38802552e-02, -2.48194090e-01, -1.76162773e-01])"
      ]
     },
     "execution_count": 4,
     "metadata": {},
     "output_type": "execute_result"
    }
   ],
   "source": [
    "return_market = np.random.normal(loc=0.05, scale=0.3, size=252)\n",
    "return_market"
   ]
  },
  {
   "cell_type": "code",
   "execution_count": 22,
   "metadata": {
    "collapsed": false,
    "deletable": true,
    "editable": true
   },
   "outputs": [
    {
     "name": "stdout",
     "output_type": "stream",
     "text": [
      "The optimized weights are [0.86733995 0.11645308 0.01620697], which sum to 0.9999999999819781\n"
     ]
    }
   ],
   "source": [
    "\"\"\"Test with a 3 simulated stock return series\"\"\"\n",
    "days_per_year = 252\n",
    "years = 3\n",
    "total_days = days_per_year * years\n",
    "\n",
    "return_market = np.random.normal(loc=0.05, scale=0.3, size=days_per_year)\n",
    "return_1 = np.random.uniform(low=-0.000001, high=.000001, size=days_per_year) + return_market\n",
    "return_2 = np.random.uniform(low=-0.000001, high=.000001, size=days_per_year) + return_market\n",
    "return_3 = np.random.uniform(low=-0.000001, high=.000001, size=days_per_year) + return_market\n",
    "returns = np.array([return_1, return_2, return_3])\n",
    "\n",
    "\"\"\"simulate index weights\"\"\"\n",
    "index_weights = np.array([0.9,0.15,0.05])\n",
    "\n",
    "\"\"\"try out your optimization function\"\"\"\n",
    "x_values = optimize_portfolio(returns, index_weights, scale=.00001)\n",
    "\n",
    "print(\"The optimized weights are {}, which sum to {}\".format(x_values,sum(x_values)))"
   ]
  },
  {
   "cell_type": "markdown",
   "metadata": {
    "deletable": true,
    "editable": true
   },
   "source": [
    "If you're feeling stuck, you can check out the solution [here](m3l4_cvxpy_advanced_solution.ipynb)"
   ]
  },
  {
   "cell_type": "code",
   "execution_count": null,
   "metadata": {
    "collapsed": true,
    "deletable": true,
    "editable": true
   },
   "outputs": [],
   "source": []
  }
 ],
 "metadata": {
  "kernelspec": {
   "display_name": "Python [conda env:aind-dl]",
   "language": "python",
   "name": "conda-env-aind-dl-py"
  },
  "language_info": {
   "codemirror_mode": {
    "name": "ipython",
    "version": 3
   },
   "file_extension": ".py",
   "mimetype": "text/x-python",
   "name": "python",
   "nbconvert_exporter": "python",
   "pygments_lexer": "ipython3",
   "version": "3.5.3"
  },
  "toc": {
   "base_numbering": 1,
   "nav_menu": {},
   "number_sections": true,
   "sideBar": true,
   "skip_h1_title": false,
   "title_cell": "Table of Contents",
   "title_sidebar": "Contents",
   "toc_cell": false,
   "toc_position": {},
   "toc_section_display": true,
   "toc_window_display": false
  }
 },
 "nbformat": 4,
 "nbformat_minor": 2
}
