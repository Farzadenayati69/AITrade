{
 "cells": [
  {
   "cell_type": "code",
   "execution_count": 1,
   "metadata": {
    "collapsed": true,
    "deletable": true,
    "editable": true
   },
   "outputs": [],
   "source": [
    "import numpy as np"
   ]
  },
  {
   "cell_type": "markdown",
   "metadata": {
    "collapsed": true,
    "deletable": true,
    "editable": true
   },
   "source": [
    "# np.sort"
   ]
  },
  {
   "cell_type": "code",
   "execution_count": 10,
   "metadata": {
    "collapsed": false,
    "deletable": true,
    "editable": true
   },
   "outputs": [
    {
     "data": {
      "text/plain": [
       "array([1, 2, 3, 4, 5])"
      ]
     },
     "execution_count": 10,
     "metadata": {},
     "output_type": "execute_result"
    }
   ],
   "source": [
    "x = np.array([2,1,4,3,5])\n",
    "np.sort(x)"
   ]
  },
  {
   "cell_type": "code",
   "execution_count": 12,
   "metadata": {
    "collapsed": false,
    "deletable": true,
    "editable": true
   },
   "outputs": [
    {
     "name": "stdout",
     "output_type": "stream",
     "text": [
      "[1 2 3 4 5]\n"
     ]
    }
   ],
   "source": [
    "x.sort()\n",
    "print(x)"
   ]
  },
  {
   "cell_type": "code",
   "execution_count": 14,
   "metadata": {
    "collapsed": false,
    "deletable": true,
    "editable": true
   },
   "outputs": [
    {
     "name": "stdout",
     "output_type": "stream",
     "text": [
      "[1 0 3 2 4]\n"
     ]
    }
   ],
   "source": [
    "#按值的index排序\n",
    "x = np.array([2,1,4,3,5])\n",
    "i = np.argsort(x)\n",
    "print(i)"
   ]
  },
  {
   "cell_type": "code",
   "execution_count": 15,
   "metadata": {
    "collapsed": false,
    "deletable": true,
    "editable": true
   },
   "outputs": [
    {
     "data": {
      "text/plain": [
       "array([1, 2, 3, 4, 5])"
      ]
     },
     "execution_count": 15,
     "metadata": {},
     "output_type": "execute_result"
    }
   ],
   "source": [
    "x[i]"
   ]
  },
  {
   "cell_type": "markdown",
   "metadata": {
    "deletable": true,
    "editable": true
   },
   "source": [
    "## sorting along rows or columns"
   ]
  },
  {
   "cell_type": "code",
   "execution_count": 16,
   "metadata": {
    "collapsed": false,
    "deletable": true,
    "editable": true
   },
   "outputs": [
    {
     "name": "stdout",
     "output_type": "stream",
     "text": [
      "[[6 3 7 4 6 9]\n",
      " [2 6 7 4 3 7]\n",
      " [7 2 5 4 1 7]\n",
      " [5 1 4 0 9 5]]\n"
     ]
    }
   ],
   "source": [
    "rand = np.random.RandomState(42)\n",
    "X = rand.randint(0,10.,(4,6))\n",
    "print(X)"
   ]
  },
  {
   "cell_type": "code",
   "execution_count": 17,
   "metadata": {
    "collapsed": false,
    "deletable": true,
    "editable": true
   },
   "outputs": [
    {
     "data": {
      "text/plain": [
       "array([[2, 1, 4, 0, 1, 5],\n",
       "       [5, 2, 5, 4, 3, 7],\n",
       "       [6, 3, 7, 4, 6, 7],\n",
       "       [7, 6, 7, 4, 9, 9]])"
      ]
     },
     "execution_count": 17,
     "metadata": {},
     "output_type": "execute_result"
    }
   ],
   "source": [
    "#sort each column of x\n",
    "np.sort(X,axis=0)"
   ]
  },
  {
   "cell_type": "code",
   "execution_count": 18,
   "metadata": {
    "collapsed": false,
    "deletable": true,
    "editable": true,
    "scrolled": true
   },
   "outputs": [
    {
     "data": {
      "text/plain": [
       "array([[3, 4, 6, 6, 7, 9],\n",
       "       [2, 3, 4, 6, 7, 7],\n",
       "       [1, 2, 4, 5, 7, 7],\n",
       "       [0, 1, 4, 5, 5, 9]])"
      ]
     },
     "execution_count": 18,
     "metadata": {},
     "output_type": "execute_result"
    }
   ],
   "source": [
    "#sort each row of x\n",
    "np.sort(X,axis=1)"
   ]
  },
  {
   "cell_type": "markdown",
   "metadata": {
    "deletable": true,
    "editable": true
   },
   "source": [
    "# Partial Sorts:Partitioning"
   ]
  },
  {
   "cell_type": "code",
   "execution_count": 22,
   "metadata": {
    "collapsed": false,
    "deletable": true,
    "editable": true,
    "scrolled": true
   },
   "outputs": [
    {
     "data": {
      "text/plain": [
       "array([2, 1, 3, 4, 6, 5, 7])"
      ]
     },
     "execution_count": 22,
     "metadata": {},
     "output_type": "execute_result"
    }
   ],
   "source": [
    "x=np.array([7,2,3,1,6,5,4])\n",
    "np.partition(x,3)"
   ]
  },
  {
   "cell_type": "code",
   "execution_count": 24,
   "metadata": {
    "collapsed": false,
    "deletable": true,
    "editable": true
   },
   "outputs": [
    {
     "name": "stdout",
     "output_type": "stream",
     "text": [
      "[[6 3 7 4 6 9]\n",
      " [2 6 7 4 3 7]\n",
      " [7 2 5 4 1 7]\n",
      " [5 1 4 0 9 5]]\n"
     ]
    },
    {
     "data": {
      "text/plain": [
       "array([[3, 4, 6, 7, 6, 9],\n",
       "       [2, 3, 4, 7, 6, 7],\n",
       "       [1, 2, 4, 5, 7, 7],\n",
       "       [0, 1, 4, 5, 9, 5]])"
      ]
     },
     "execution_count": 24,
     "metadata": {},
     "output_type": "execute_result"
    }
   ],
   "source": [
    "print(X)\n",
    "np.partition(X,2,axis=1)"
   ]
  },
  {
   "cell_type": "markdown",
   "metadata": {},
   "source": [
    "# Example:k-NearestNeighbors"
   ]
  },
  {
   "cell_type": "code",
   "execution_count": 25,
   "metadata": {
    "collapsed": false
   },
   "outputs": [
    {
     "data": {
      "text/plain": [
       "array([[0.00706631, 0.02306243],\n",
       "       [0.52477466, 0.39986097],\n",
       "       [0.04666566, 0.97375552],\n",
       "       [0.23277134, 0.09060643],\n",
       "       [0.61838601, 0.38246199],\n",
       "       [0.98323089, 0.46676289],\n",
       "       [0.85994041, 0.68030754],\n",
       "       [0.45049925, 0.01326496],\n",
       "       [0.94220176, 0.56328822],\n",
       "       [0.3854165 , 0.01596625]])"
      ]
     },
     "execution_count": 25,
     "metadata": {},
     "output_type": "execute_result"
    }
   ],
   "source": [
    "X = rand.rand(10,2)\n",
    "X"
   ]
  },
  {
   "cell_type": "code",
   "execution_count": 30,
   "metadata": {
    "collapsed": false
   },
   "outputs": [
    {
     "data": {
      "text/plain": [
       "<matplotlib.collections.PathCollection at 0x7f392eb06080>"
      ]
     },
     "execution_count": 30,
     "metadata": {},
     "output_type": "execute_result"
    },
    {
     "data": {
      "image/png": "[encoded data removed]",
      "text/plain": [
       "<matplotlib.figure.Figure at 0x7f392ec1bac8>"
      ]
     },
     "metadata": {},
     "output_type": "display_data"
    }
   ],
   "source": [
    "%matplotlib inline\n",
    "import matplotlib.pyplot as plt\n",
    "import seaborn\n",
    "plt.scatter(X[:,0],X[:,1],s = 100)"
   ]
  },
  {
   "cell_type": "code",
   "execution_count": 32,
   "metadata": {
    "collapsed": false
   },
   "outputs": [
    {
     "name": "stdout",
     "output_type": "stream",
     "text": [
      "[[0.         0.40999909 0.90538547 0.05550496 0.50287983 1.14976739\n",
      "  1.15936537 0.19672877 1.16632222 0.14319923]\n",
      " [0.40999909 0.         0.55794316 0.18090431 0.00906581 0.21465798\n",
      "  0.19098635 0.15497331 0.20095384 0.16679585]\n",
      " [0.90538547 0.55794316 0.         0.81458763 0.67649219 1.13419594\n",
      "  0.74752753 1.08562368 0.9704683  1.03211241]\n",
      " [0.05550496 0.18090431 0.81458763 0.         0.23387834 0.70468321\n",
      "  0.74108843 0.05338715 0.72671958 0.0288717 ]\n",
      " [0.50287983 0.00906581 0.67649219 0.23387834 0.         0.14021843\n",
      "  0.1470605  0.16449241 0.13755476 0.18859392]\n",
      " [1.14976739 0.21465798 1.13419594 0.70468321 0.14021843 0.\n",
      "  0.06080186 0.48946337 0.01100053 0.56059965]\n",
      " [1.15936537 0.19098635 0.74752753 0.74108843 0.1470605  0.06080186\n",
      "  0.         0.61258786 0.02046045 0.66652228]\n",
      " [0.19672877 0.15497331 1.08562368 0.05338715 0.16449241 0.48946337\n",
      "  0.61258786 0.         0.54429694 0.00424306]\n",
      " [1.16632222 0.20095384 0.9704683  0.72671958 0.13755476 0.01100053\n",
      "  0.02046045 0.54429694 0.         0.60957115]\n",
      " [0.14319923 0.16679585 1.03211241 0.0288717  0.18859392 0.56059965\n",
      "  0.66652228 0.00424306 0.60957115 0.        ]]\n"
     ]
    }
   ],
   "source": [
    "dist_sq = np.sum((X[:,np.newaxis,:] - X[np.newaxis,:,:]) ** 2,axis=-1)\n",
    "print(dist_sq)"
   ]
  },
  {
   "cell_type": "code",
   "execution_count": 33,
   "metadata": {
    "collapsed": false
   },
   "outputs": [
    {
     "data": {
      "text/plain": [
       "array([[[0.00706631, 0.02306243]],\n",
       "\n",
       "       [[0.52477466, 0.39986097]],\n",
       "\n",
       "       [[0.04666566, 0.97375552]],\n",
       "\n",
       "       [[0.23277134, 0.09060643]],\n",
       "\n",
       "       [[0.61838601, 0.38246199]],\n",
       "\n",
       "       [[0.98323089, 0.46676289]],\n",
       "\n",
       "       [[0.85994041, 0.68030754]],\n",
       "\n",
       "       [[0.45049925, 0.01326496]],\n",
       "\n",
       "       [[0.94220176, 0.56328822]],\n",
       "\n",
       "       [[0.3854165 , 0.01596625]]])"
      ]
     },
     "execution_count": 33,
     "metadata": {},
     "output_type": "execute_result"
    }
   ],
   "source": [
    "X[:,np.newaxis,:]"
   ]
  },
  {
   "cell_type": "code",
   "execution_count": 34,
   "metadata": {
    "collapsed": false
   },
   "outputs": [
    {
     "data": {
      "text/plain": [
       "array([[[0.00706631, 0.02306243],\n",
       "        [0.52477466, 0.39986097],\n",
       "        [0.04666566, 0.97375552],\n",
       "        [0.23277134, 0.09060643],\n",
       "        [0.61838601, 0.38246199],\n",
       "        [0.98323089, 0.46676289],\n",
       "        [0.85994041, 0.68030754],\n",
       "        [0.45049925, 0.01326496],\n",
       "        [0.94220176, 0.56328822],\n",
       "        [0.3854165 , 0.01596625]]])"
      ]
     },
     "execution_count": 34,
     "metadata": {},
     "output_type": "execute_result"
    }
   ],
   "source": [
    "X[np.newaxis,:,:]"
   ]
  },
  {
   "cell_type": "code",
   "execution_count": 35,
   "metadata": {
    "collapsed": false
   },
   "outputs": [
    {
     "data": {
      "text/plain": [
       "array([[[ 0.        ,  0.        ],\n",
       "        [-0.51770836, -0.37679855],\n",
       "        [-0.03959936, -0.95069309],\n",
       "        [-0.22570504, -0.06754401],\n",
       "        [-0.6113197 , -0.35939957],\n",
       "        [-0.97616458, -0.44370047],\n",
       "        [-0.8528741 , -0.65724511],\n",
       "        [-0.44343295,  0.00979746],\n",
       "        [-0.93513545, -0.54022579],\n",
       "        [-0.3783502 ,  0.00709617]],\n",
       "\n",
       "       [[ 0.51770836,  0.37679855],\n",
       "        [ 0.        ,  0.        ],\n",
       "        [ 0.478109  , -0.57389455],\n",
       "        [ 0.29200332,  0.30925454],\n",
       "        [-0.09361135,  0.01739898],\n",
       "        [-0.45845623, -0.06690192],\n",
       "        [-0.33516575, -0.28044657],\n",
       "        [ 0.07427541,  0.38659601],\n",
       "        [-0.4174271 , -0.16342725],\n",
       "        [ 0.13935816,  0.38389472]],\n",
       "\n",
       "       [[ 0.03959936,  0.95069309],\n",
       "        [-0.478109  ,  0.57389455],\n",
       "        [ 0.        ,  0.        ],\n",
       "        [-0.18610568,  0.88314908],\n",
       "        [-0.57172035,  0.59129353],\n",
       "        [-0.93656522,  0.50699263],\n",
       "        [-0.81327474,  0.29344798],\n",
       "        [-0.40383359,  0.96049056],\n",
       "        [-0.89553609,  0.4104673 ],\n",
       "        [-0.33875084,  0.95778927]],\n",
       "\n",
       "       [[ 0.22570504,  0.06754401],\n",
       "        [-0.29200332, -0.30925454],\n",
       "        [ 0.18610568, -0.88314908],\n",
       "        [ 0.        ,  0.        ],\n",
       "        [-0.38561467, -0.29185556],\n",
       "        [-0.75045955, -0.37615646],\n",
       "        [-0.62716907, -0.5897011 ],\n",
       "        [-0.21772791,  0.07734147],\n",
       "        [-0.70943042, -0.47268178],\n",
       "        [-0.15264516,  0.07464018]],\n",
       "\n",
       "       [[ 0.6113197 ,  0.35939957],\n",
       "        [ 0.09361135, -0.01739898],\n",
       "        [ 0.57172035, -0.59129353],\n",
       "        [ 0.38561467,  0.29185556],\n",
       "        [ 0.        ,  0.        ],\n",
       "        [-0.36484488, -0.0843009 ],\n",
       "        [-0.2415544 , -0.29784555],\n",
       "        [ 0.16788676,  0.36919703],\n",
       "        [-0.32381575, -0.18082623],\n",
       "        [ 0.23296951,  0.36649574]],\n",
       "\n",
       "       [[ 0.97616458,  0.44370047],\n",
       "        [ 0.45845623,  0.06690192],\n",
       "        [ 0.93656522, -0.50699263],\n",
       "        [ 0.75045955,  0.37615646],\n",
       "        [ 0.36484488,  0.0843009 ],\n",
       "        [ 0.        ,  0.        ],\n",
       "        [ 0.12329048, -0.21354465],\n",
       "        [ 0.53273163,  0.45349793],\n",
       "        [ 0.04102913, -0.09652532],\n",
       "        [ 0.59781438,  0.45079664]],\n",
       "\n",
       "       [[ 0.8528741 ,  0.65724511],\n",
       "        [ 0.33516575,  0.28044657],\n",
       "        [ 0.81327474, -0.29344798],\n",
       "        [ 0.62716907,  0.5897011 ],\n",
       "        [ 0.2415544 ,  0.29784555],\n",
       "        [-0.12329048,  0.21354465],\n",
       "        [ 0.        ,  0.        ],\n",
       "        [ 0.40944115,  0.66704258],\n",
       "        [-0.08226135,  0.11701932],\n",
       "        [ 0.4745239 ,  0.66434129]],\n",
       "\n",
       "       [[ 0.44343295, -0.00979746],\n",
       "        [-0.07427541, -0.38659601],\n",
       "        [ 0.40383359, -0.96049056],\n",
       "        [ 0.21772791, -0.07734147],\n",
       "        [-0.16788676, -0.36919703],\n",
       "        [-0.53273163, -0.45349793],\n",
       "        [-0.40944115, -0.66704258],\n",
       "        [ 0.        ,  0.        ],\n",
       "        [-0.4917025 , -0.55002326],\n",
       "        [ 0.06508275, -0.00270129]],\n",
       "\n",
       "       [[ 0.93513545,  0.54022579],\n",
       "        [ 0.4174271 ,  0.16342725],\n",
       "        [ 0.89553609, -0.4104673 ],\n",
       "        [ 0.70943042,  0.47268178],\n",
       "        [ 0.32381575,  0.18082623],\n",
       "        [-0.04102913,  0.09652532],\n",
       "        [ 0.08226135, -0.11701932],\n",
       "        [ 0.4917025 ,  0.55002326],\n",
       "        [ 0.        ,  0.        ],\n",
       "        [ 0.55678525,  0.54732197]],\n",
       "\n",
       "       [[ 0.3783502 , -0.00709617],\n",
       "        [-0.13935816, -0.38389472],\n",
       "        [ 0.33875084, -0.95778927],\n",
       "        [ 0.15264516, -0.07464018],\n",
       "        [-0.23296951, -0.36649574],\n",
       "        [-0.59781438, -0.45079664],\n",
       "        [-0.4745239 , -0.66434129],\n",
       "        [-0.06508275,  0.00270129],\n",
       "        [-0.55678525, -0.54732197],\n",
       "        [ 0.        ,  0.        ]]])"
      ]
     },
     "execution_count": 35,
     "metadata": {},
     "output_type": "execute_result"
    }
   ],
   "source": [
    "X[:,np.newaxis,:]-X[np.newaxis,:,:]"
   ]
  },
  {
   "cell_type": "code",
   "execution_count": 37,
   "metadata": {
    "collapsed": true
   },
   "outputs": [],
   "source": [
    "nearest = np.argsort(dist_sq,axis =1)"
   ]
  },
  {
   "cell_type": "code",
   "execution_count": 38,
   "metadata": {
    "collapsed": false
   },
   "outputs": [
    {
     "name": "stdout",
     "output_type": "stream",
     "text": [
      "[[0 3 9 7 1 4 2 5 6 8]\n",
      " [1 4 7 9 3 6 8 5 0 2]\n",
      " [2 1 4 6 3 0 8 9 7 5]\n",
      " [3 9 7 0 1 4 5 8 6 2]\n",
      " [4 1 8 5 6 7 9 3 0 2]\n",
      " [5 8 6 4 1 7 9 3 2 0]\n",
      " [6 8 5 4 1 7 9 3 2 0]\n",
      " [7 9 3 1 4 0 5 8 6 2]\n",
      " [8 5 6 4 1 7 9 3 2 0]\n",
      " [9 7 3 0 1 4 5 8 6 2]]\n"
     ]
    }
   ],
   "source": [
    "print(nearest)"
   ]
  },
  {
   "cell_type": "code",
   "execution_count": 40,
   "metadata": {
    "collapsed": false
   },
   "outputs": [],
   "source": [
    "k =2 \n",
    "nearest_partition = np.argpartition(dist_sq,k+1,axis =1 )"
   ]
  },
  {
   "cell_type": "code",
   "execution_count": 42,
   "metadata": {
    "collapsed": false
   },
   "outputs": [
    {
     "data": {
      "image/png": "[encoded data removed]",
      "text/plain": [
       "<matplotlib.figure.Figure at 0x7f392eae4da0>"
      ]
     },
     "metadata": {},
     "output_type": "display_data"
    }
   ],
   "source": [
    "plt.scatter(X[:,0],X[:,1],s=100)\n",
    "for i in range(X.shape[0]):\n",
    "    for j in nearest_partition[i,:k+1]:\n",
    "        plt.plot(*zip(X[i],X[j]),color='red')"
   ]
  }
 ],
 "metadata": {
  "kernelspec": {
   "display_name": "Python [conda env:aind-dl]",
   "language": "python",
   "name": "conda-env-aind-dl-py"
  },
  "language_info": {
   "codemirror_mode": {
    "name": "ipython",
    "version": 3
   },
   "file_extension": ".py",
   "mimetype": "text/x-python",
   "name": "python",
   "nbconvert_exporter": "python",
   "pygments_lexer": "ipython3",
   "version": "3.5.3"
  },
  "toc": {
   "base_numbering": 1,
   "nav_menu": {},
   "number_sections": true,
   "sideBar": true,
   "skip_h1_title": false,
   "title_cell": "Table of Contents",
   "title_sidebar": "Contents",
   "toc_cell": false,
   "toc_position": {},
   "toc_section_display": true,
   "toc_window_display": false
  }
 },
 "nbformat": 4,
 "nbformat_minor": 2
}
