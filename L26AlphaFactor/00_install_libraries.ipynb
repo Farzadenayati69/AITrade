{
 "cells": [
  {
   "cell_type": "markdown",
   "metadata": {
    "deletable": true,
    "editable": true
   },
   "source": [
    "## Install libraries\n",
    "\n",
    "It takes some time to install the python libraries for the first time, but this only needs to be done once for all the coding exercises in this lesson.  Please run this code in a separate tab while you continue watching the videos.  Once you get to the first coding exercise of the lesson, if this notebook is done installing, then you won't have to wait for the installation to start running the code in that exercise."
   ]
  },
  {
   "cell_type": "code",
   "execution_count": 1,
   "metadata": {
    "collapsed": false,
    "deletable": true,
    "editable": true
   },
   "outputs": [
    {
     "name": "stdout",
     "output_type": "stream",
     "text": [
      "Collecting alphalens==0.3.2 (from -r requirements.txt (line 1))\n",
      "  Downloading https://files.pythonhosted.org/packages/a5/dc/2f9cd107d0d4cf6223d37d81ddfbbdbf0d703d03669b83810fa6b97f32e5/alphalens-0.3.2.tar.gz (18.9MB)\n",
      "\u001b[K    100% |████████████████████████████████| 18.9MB 15kB/s ta 0:00:01\n",
      "\u001b[?25hRequirement already satisfied: colour==0.1.5 in /root/anaconda2/envs/aind-dl/lib/python3.5/site-packages (from -r requirements.txt (line 2))\n",
      "Requirement already satisfied: cvxpy==1.0.3 in /root/anaconda2/envs/aind-dl/lib/python3.5/site-packages (from -r requirements.txt (line 3))\n",
      "Requirement already satisfied: cycler==0.10.0 in /root/anaconda2/envs/aind-dl/lib/python3.5/site-packages (from -r requirements.txt (line 4))\n",
      "Requirement already satisfied: numpy==1.14.5 in /root/anaconda2/envs/aind-dl/lib/python3.5/site-packages (from -r requirements.txt (line 5))\n",
      "Collecting pandas==0.18.1 (from -r requirements.txt (line 6))\n",
      "  Using cached https://files.pythonhosted.org/packages/05/ce/e3534d549710084d2c1bac7e708c671c7f23d7ddae88824f4001ecf64608/pandas-0.18.1-cp35-cp35m-manylinux1_x86_64.whl\n",
      "Requirement already satisfied: plotly==2.2.3 in /root/anaconda2/envs/aind-dl/lib/python3.5/site-packages (from -r requirements.txt (line 7))\n",
      "Requirement already satisfied: pyparsing==2.2.0 in /root/anaconda2/envs/aind-dl/lib/python3.5/site-packages (from -r requirements.txt (line 8))\n",
      "Requirement already satisfied: python-dateutil==2.6.1 in /root/anaconda2/envs/aind-dl/lib/python3.5/site-packages (from -r requirements.txt (line 9))\n",
      "Requirement already satisfied: pytz==2017.3 in /root/anaconda2/envs/aind-dl/lib/python3.5/site-packages (from -r requirements.txt (line 10))\n",
      "Requirement already satisfied: requests==2.18.4 in /root/anaconda2/envs/aind-dl/lib/python3.5/site-packages (from -r requirements.txt (line 11))\n",
      "Requirement already satisfied: scipy==1.0.0 in /root/anaconda2/envs/aind-dl/lib/python3.5/site-packages (from -r requirements.txt (line 12))\n",
      "Requirement already satisfied: scikit-learn==0.19.1 in /root/anaconda2/envs/aind-dl/lib/python3.5/site-packages (from -r requirements.txt (line 13))\n",
      "Requirement already satisfied: six==1.11.0 in /root/anaconda2/envs/aind-dl/lib/python3.5/site-packages (from -r requirements.txt (line 14))\n",
      "Requirement already satisfied: tqdm==4.19.5 in /root/anaconda2/envs/aind-dl/lib/python3.5/site-packages (from -r requirements.txt (line 15))\n",
      "Collecting zipline===1.2.0 (from -r requirements.txt (line 16))\n",
      "Requirement already satisfied: graphviz==0.9 in /root/anaconda2/envs/aind-dl/lib/python3.5/site-packages (from -r requirements.txt (line 17))\n",
      "Requirement already satisfied: matplotlib>=1.4.0 in /root/anaconda2/envs/aind-dl/lib/python3.5/site-packages (from alphalens==0.3.2->-r requirements.txt (line 1))\n",
      "Requirement already satisfied: seaborn>=0.6.0 in /root/anaconda2/envs/aind-dl/lib/python3.5/site-packages (from alphalens==0.3.2->-r requirements.txt (line 1))\n",
      "Requirement already satisfied: statsmodels>=0.6.1 in /root/anaconda2/envs/aind-dl/lib/python3.5/site-packages (from alphalens==0.3.2->-r requirements.txt (line 1))\n",
      "Requirement already satisfied: IPython>=3.2.3 in /root/anaconda2/envs/aind-dl/lib/python3.5/site-packages (from alphalens==0.3.2->-r requirements.txt (line 1))\n",
      "Requirement already satisfied: ecos>=2 in /root/anaconda2/envs/aind-dl/lib/python3.5/site-packages (from cvxpy==1.0.3->-r requirements.txt (line 3))\n",
      "Requirement already satisfied: toolz in /root/anaconda2/envs/aind-dl/lib/python3.5/site-packages (from cvxpy==1.0.3->-r requirements.txt (line 3))\n",
      "Requirement already satisfied: osqp in /root/anaconda2/envs/aind-dl/lib/python3.5/site-packages (from cvxpy==1.0.3->-r requirements.txt (line 3))\n",
      "Requirement already satisfied: multiprocess in /root/anaconda2/envs/aind-dl/lib/python3.5/site-packages (from cvxpy==1.0.3->-r requirements.txt (line 3))\n",
      "Requirement already satisfied: fastcache in /root/anaconda2/envs/aind-dl/lib/python3.5/site-packages (from cvxpy==1.0.3->-r requirements.txt (line 3))\n",
      "Requirement already satisfied: scs>=1.1.3 in /root/anaconda2/envs/aind-dl/lib/python3.5/site-packages (from cvxpy==1.0.3->-r requirements.txt (line 3))\n",
      "Requirement already satisfied: nbformat>=4.2 in /root/anaconda2/envs/aind-dl/lib/python3.5/site-packages (from plotly==2.2.3->-r requirements.txt (line 7))\n",
      "Requirement already satisfied: decorator>=4.0.6 in /root/anaconda2/envs/aind-dl/lib/python3.5/site-packages (from plotly==2.2.3->-r requirements.txt (line 7))\n",
      "Requirement already satisfied: chardet<3.1.0,>=3.0.2 in /root/anaconda2/envs/aind-dl/lib/python3.5/site-packages (from requests==2.18.4->-r requirements.txt (line 11))\n",
      "Requirement already satisfied: certifi>=2017.4.17 in /root/anaconda2/envs/aind-dl/lib/python3.5/site-packages (from requests==2.18.4->-r requirements.txt (line 11))\n",
      "Requirement already satisfied: urllib3<1.23,>=1.21.1 in /root/anaconda2/envs/aind-dl/lib/python3.5/site-packages (from requests==2.18.4->-r requirements.txt (line 11))\n",
      "Requirement already satisfied: idna<2.7,>=2.5 in /root/anaconda2/envs/aind-dl/lib/python3.5/site-packages (from requests==2.18.4->-r requirements.txt (line 11))\n",
      "Requirement already satisfied: multipledispatch>=0.4.8 in /root/anaconda2/envs/aind-dl/lib/python3.5/site-packages (from zipline===1.2.0->-r requirements.txt (line 16))\n",
      "Requirement already satisfied: patsy>=0.4.0 in /root/anaconda2/envs/aind-dl/lib/python3.5/site-packages (from zipline===1.2.0->-r requirements.txt (line 16))\n",
      "Requirement already satisfied: MarkupSafe>=0.23 in /root/anaconda2/envs/aind-dl/lib/python3.5/site-packages (from zipline===1.2.0->-r requirements.txt (line 16))\n",
      "Requirement already satisfied: Mako>=1.0.1 in /root/anaconda2/envs/aind-dl/lib/python3.5/site-packages (from zipline===1.2.0->-r requirements.txt (line 16))\n",
      "Requirement already satisfied: pip>=7.1.0 in /root/anaconda2/envs/aind-dl/lib/python3.5/site-packages (from zipline===1.2.0->-r requirements.txt (line 16))\n",
      "Requirement already satisfied: contextlib2>=0.4.0 in /root/anaconda2/envs/aind-dl/lib/python3.5/site-packages (from zipline===1.2.0->-r requirements.txt (line 16))\n",
      "Requirement already satisfied: setuptools>18.0 in /root/anaconda2/envs/aind-dl/lib/python3.5/site-packages/setuptools-27.2.0-py3.5.egg (from zipline===1.2.0->-r requirements.txt (line 16))\n",
      "Requirement already satisfied: pandas-datareader<0.6,>=0.2.1 in /root/anaconda2/envs/aind-dl/lib/python3.5/site-packages (from zipline===1.2.0->-r requirements.txt (line 16))\n",
      "Requirement already satisfied: alembic>=0.7.7 in /root/anaconda2/envs/aind-dl/lib/python3.5/site-packages (from zipline===1.2.0->-r requirements.txt (line 16))\n",
      "Requirement already satisfied: lru-dict>=1.1.4 in /root/anaconda2/envs/aind-dl/lib/python3.5/site-packages (from zipline===1.2.0->-r requirements.txt (line 16))\n",
      "Requirement already satisfied: numexpr>=2.6.1 in /root/anaconda2/envs/aind-dl/lib/python3.5/site-packages (from zipline===1.2.0->-r requirements.txt (line 16))\n",
      "Requirement already satisfied: intervaltree>=2.1.0 in /root/anaconda2/envs/aind-dl/lib/python3.5/site-packages (from zipline===1.2.0->-r requirements.txt (line 16))\n",
      "Requirement already satisfied: networkx<2.0,>=1.9.1 in /root/anaconda2/envs/aind-dl/lib/python3.5/site-packages (from zipline===1.2.0->-r requirements.txt (line 16))\n",
      "Requirement already satisfied: empyrical>=0.4.2 in /root/anaconda2/envs/aind-dl/lib/python3.5/site-packages (from zipline===1.2.0->-r requirements.txt (line 16))\n",
      "Requirement already satisfied: requests-file>=1.4.1 in /root/anaconda2/envs/aind-dl/lib/python3.5/site-packages (from zipline===1.2.0->-r requirements.txt (line 16))\n",
      "Requirement already satisfied: click>=4.0.0 in /root/anaconda2/envs/aind-dl/lib/python3.5/site-packages (from zipline===1.2.0->-r requirements.txt (line 16))\n",
      "Requirement already satisfied: Cython>=0.25.2 in /root/anaconda2/envs/aind-dl/lib/python3.5/site-packages (from zipline===1.2.0->-r requirements.txt (line 16))\n",
      "Requirement already satisfied: bottleneck>=1.0.0 in /root/anaconda2/envs/aind-dl/lib/python3.5/site-packages (from zipline===1.2.0->-r requirements.txt (line 16))\n",
      "Requirement already satisfied: Logbook>=0.12.5 in /root/anaconda2/envs/aind-dl/lib/python3.5/site-packages (from zipline===1.2.0->-r requirements.txt (line 16))\n",
      "Requirement already satisfied: sqlalchemy>=1.0.8 in /root/anaconda2/envs/aind-dl/lib/python3.5/site-packages (from zipline===1.2.0->-r requirements.txt (line 16))\n",
      "Requirement already satisfied: tables>=3.3.0 in /root/anaconda2/envs/aind-dl/lib/python3.5/site-packages (from zipline===1.2.0->-r requirements.txt (line 16))\n",
      "Requirement already satisfied: bcolz<1,>=0.12.1 in /root/anaconda2/envs/aind-dl/lib/python3.5/site-packages (from zipline===1.2.0->-r requirements.txt (line 16))\n",
      "Requirement already satisfied: sortedcontainers>=1.4.4 in /root/anaconda2/envs/aind-dl/lib/python3.5/site-packages (from zipline===1.2.0->-r requirements.txt (line 16))\n",
      "Requirement already satisfied: cyordereddict>=0.2.2 in /root/anaconda2/envs/aind-dl/lib/python3.5/site-packages (from zipline===1.2.0->-r requirements.txt (line 16))\n",
      "Requirement already satisfied: future in /root/anaconda2/envs/aind-dl/lib/python3.5/site-packages (from osqp->cvxpy==1.0.3->-r requirements.txt (line 3))\n",
      "Requirement already satisfied: dill>=0.2.9 in /root/anaconda2/envs/aind-dl/lib/python3.5/site-packages (from multiprocess->cvxpy==1.0.3->-r requirements.txt (line 3))\n",
      "Requirement already satisfied: requests-ftp in /root/anaconda2/envs/aind-dl/lib/python3.5/site-packages (from pandas-datareader<0.6,>=0.2.1->zipline===1.2.0->-r requirements.txt (line 16))\n",
      "Requirement already satisfied: python-editor>=0.3 in /root/anaconda2/envs/aind-dl/lib/python3.5/site-packages (from alembic>=0.7.7->zipline===1.2.0->-r requirements.txt (line 16))\n",
      "Building wheels for collected packages: alphalens\n",
      "  Running setup.py bdist_wheel for alphalens ... \u001b[?25l-\b \b\\\b \b|\b \b/\b \bdone\n",
      "\u001b[?25h  Stored in directory: /root/.cache/pip/wheels/77/1e/9a/223b4c94d7f564f25d94b48ca5b9c53e3034016ece3fd8c8c1\n",
      "Successfully built alphalens\n",
      "Installing collected packages: pandas, alphalens, zipline\n",
      "  Found existing installation: pandas 0.20.3\n",
      "    Uninstalling pandas-0.20.3:\n",
      "      Successfully uninstalled pandas-0.20.3\n",
      "  Found existing installation: zipline 1.3.0\n",
      "    Uninstalling zipline-1.3.0:\n",
      "      Successfully uninstalled zipline-1.3.0\n",
      "Successfully installed alphalens-0.3.2 pandas-0.18.1 zipline-1.2.0\n",
      "\u001b[33mYou are using pip version 9.0.1, however version 19.1.1 is available.\n",
      "You should consider upgrading via the 'pip install --upgrade pip' command.\u001b[0m\n"
     ]
    }
   ],
   "source": [
    "import sys\n",
    "!{sys.executable} -m pip install -r requirements.txt"
   ]
  },
  {
   "cell_type": "code",
   "execution_count": null,
   "metadata": {
    "collapsed": true
   },
   "outputs": [],
   "source": []
  }
 ],
 "metadata": {
  "kernelspec": {
   "display_name": "Python [conda env:aind-dl]",
   "language": "python",
   "name": "conda-env-aind-dl-py"
  },
  "language_info": {
   "codemirror_mode": {
    "name": "ipython",
    "version": 3
   },
   "file_extension": ".py",
   "mimetype": "text/x-python",
   "name": "python",
   "nbconvert_exporter": "python",
   "pygments_lexer": "ipython3",
   "version": "3.5.3"
  },
  "toc": {
   "base_numbering": 1,
   "nav_menu": {},
   "number_sections": true,
   "sideBar": true,
   "skip_h1_title": false,
   "title_cell": "Table of Contents",
   "title_sidebar": "Contents",
   "toc_cell": false,
   "toc_position": {},
   "toc_section_display": true,
   "toc_window_display": false
  }
 },
 "nbformat": 4,
 "nbformat_minor": 2
}
