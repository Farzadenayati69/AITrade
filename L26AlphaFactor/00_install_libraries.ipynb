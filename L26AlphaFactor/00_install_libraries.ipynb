{
 "cells": [
  {
   "cell_type": "markdown",
   "metadata": {
    "deletable": true,
    "editable": true
   },
   "source": [
    "## Install libraries\n",
    "\n",
    "It takes some time to install the python libraries for the first time, but this only needs to be done once for all the coding exercises in this lesson.  Please run this code in a separate tab while you continue watching the videos.  Once you get to the first coding exercise of the lesson, if this notebook is done installing, then you won't have to wait for the installation to start running the code in that exercise."
   ]
  },
  {
   "cell_type": "code",
   "execution_count": 1,
   "metadata": {
    "collapsed": false,
    "deletable": true,
    "editable": true
   },
   "outputs": [
    {
     "name": "stdout",
     "output_type": "stream",
     "text": [
      "Requirement already satisfied: alphalens==0.3.2 in /root/anaconda2/envs/aind-dl/lib/python3.5/site-packages (from -r requirements.txt (line 1))\n",
      "Requirement already satisfied: colour==0.1.5 in /root/anaconda2/envs/aind-dl/lib/python3.5/site-packages (from -r requirements.txt (line 2))\n",
      "Requirement already satisfied: cvxpy==1.0.3 in /root/anaconda2/envs/aind-dl/lib/python3.5/site-packages (from -r requirements.txt (line 3))\n",
      "Requirement already satisfied: cycler==0.10.0 in /root/anaconda2/envs/aind-dl/lib/python3.5/site-packages (from -r requirements.txt (line 4))\n",
      "Collecting numpy==1.14.5 (from -r requirements.txt (line 5))\n",
      "  Using cached https://files.pythonhosted.org/packages/43/17/cd9fa14492dbef2aaf22622db79dba087c10f125473e730cda2f2019c40b/numpy-1.14.5-cp35-cp35m-manylinux1_x86_64.whl\n",
      "Collecting pandas==0.18.1 (from -r requirements.txt (line 6))\n",
      "  Using cached https://files.pythonhosted.org/packages/05/ce/e3534d549710084d2c1bac7e708c671c7f23d7ddae88824f4001ecf64608/pandas-0.18.1-cp35-cp35m-manylinux1_x86_64.whl\n",
      "Requirement already satisfied: plotly==2.2.3 in /root/anaconda2/envs/aind-dl/lib/python3.5/site-packages (from -r requirements.txt (line 7))\n",
      "Requirement already satisfied: pyparsing==2.2.0 in /root/anaconda2/envs/aind-dl/lib/python3.5/site-packages (from -r requirements.txt (line 8))\n",
      "Collecting python-dateutil==2.6.1 (from -r requirements.txt (line 9))\n",
      "  Using cached https://files.pythonhosted.org/packages/4b/0d/7ed381ab4fe80b8ebf34411d14f253e1cf3e56e2820ffa1d8844b23859a2/python_dateutil-2.6.1-py2.py3-none-any.whl\n",
      "Collecting pytz==2017.3 (from -r requirements.txt (line 10))\n",
      "  Using cached https://files.pythonhosted.org/packages/a3/7f/e7d1acbd433b929168a4fb4182a2ff3c33653717195a26c1de099ad1ef29/pytz-2017.3-py2.py3-none-any.whl\n",
      "Requirement already satisfied: requests==2.18.4 in /root/anaconda2/envs/aind-dl/lib/python3.5/site-packages (from -r requirements.txt (line 11))\n",
      "Collecting scipy==1.0.0 (from -r requirements.txt (line 12))\n",
      "  Using cached https://files.pythonhosted.org/packages/1a/83/6aed4f564f3f5d338fd3c642f33d5ded0fc577da5f9a7d85ed6ba23c5d51/scipy-1.0.0-cp35-cp35m-manylinux1_x86_64.whl\n",
      "Requirement already satisfied: scikit-learn==0.19.1 in /root/anaconda2/envs/aind-dl/lib/python3.5/site-packages (from -r requirements.txt (line 13))\n",
      "Collecting six==1.11.0 (from -r requirements.txt (line 14))\n",
      "  Using cached https://files.pythonhosted.org/packages/67/4b/141a581104b1f6397bfa78ac9d43d8ad29a7ca43ea90a2d863fe3056e86a/six-1.11.0-py2.py3-none-any.whl\n",
      "Requirement already satisfied: tqdm==4.19.5 in /root/anaconda2/envs/aind-dl/lib/python3.5/site-packages (from -r requirements.txt (line 15))\n",
      "Requirement already satisfied: zipline===1.2.0 in /root/anaconda2/envs/aind-dl/lib/python3.5/site-packages (from -r requirements.txt (line 16))\n",
      "Requirement already satisfied: graphviz==0.9 in /root/anaconda2/envs/aind-dl/lib/python3.5/site-packages (from -r requirements.txt (line 17))\n",
      "Requirement already satisfied: seaborn>=0.6.0 in /root/anaconda2/envs/aind-dl/lib/python3.5/site-packages (from alphalens==0.3.2->-r requirements.txt (line 1))\n",
      "Requirement already satisfied: statsmodels>=0.6.1 in /root/anaconda2/envs/aind-dl/lib/python3.5/site-packages (from alphalens==0.3.2->-r requirements.txt (line 1))\n",
      "Requirement already satisfied: matplotlib>=1.4.0 in /root/anaconda2/envs/aind-dl/lib/python3.5/site-packages (from alphalens==0.3.2->-r requirements.txt (line 1))\n",
      "Requirement already satisfied: IPython>=3.2.3 in /root/anaconda2/envs/aind-dl/lib/python3.5/site-packages (from alphalens==0.3.2->-r requirements.txt (line 1))\n",
      "Requirement already satisfied: osqp in /root/anaconda2/envs/aind-dl/lib/python3.5/site-packages (from cvxpy==1.0.3->-r requirements.txt (line 3))\n",
      "Requirement already satisfied: scs>=1.1.3 in /root/anaconda2/envs/aind-dl/lib/python3.5/site-packages (from cvxpy==1.0.3->-r requirements.txt (line 3))\n",
      "Requirement already satisfied: ecos>=2 in /root/anaconda2/envs/aind-dl/lib/python3.5/site-packages (from cvxpy==1.0.3->-r requirements.txt (line 3))\n",
      "Requirement already satisfied: multiprocess in /root/anaconda2/envs/aind-dl/lib/python3.5/site-packages (from cvxpy==1.0.3->-r requirements.txt (line 3))\n",
      "Requirement already satisfied: fastcache in /root/anaconda2/envs/aind-dl/lib/python3.5/site-packages (from cvxpy==1.0.3->-r requirements.txt (line 3))\n",
      "Requirement already satisfied: toolz in /root/anaconda2/envs/aind-dl/lib/python3.5/site-packages (from cvxpy==1.0.3->-r requirements.txt (line 3))\n",
      "Requirement already satisfied: nbformat>=4.2 in /root/anaconda2/envs/aind-dl/lib/python3.5/site-packages (from plotly==2.2.3->-r requirements.txt (line 7))\n",
      "Requirement already satisfied: decorator>=4.0.6 in /root/anaconda2/envs/aind-dl/lib/python3.5/site-packages (from plotly==2.2.3->-r requirements.txt (line 7))\n",
      "Requirement already satisfied: idna<2.7,>=2.5 in /root/anaconda2/envs/aind-dl/lib/python3.5/site-packages (from requests==2.18.4->-r requirements.txt (line 11))\n",
      "Requirement already satisfied: certifi>=2017.4.17 in /root/anaconda2/envs/aind-dl/lib/python3.5/site-packages (from requests==2.18.4->-r requirements.txt (line 11))\n",
      "Requirement already satisfied: chardet<3.1.0,>=3.0.2 in /root/anaconda2/envs/aind-dl/lib/python3.5/site-packages (from requests==2.18.4->-r requirements.txt (line 11))\n",
      "Requirement already satisfied: urllib3<1.23,>=1.21.1 in /root/anaconda2/envs/aind-dl/lib/python3.5/site-packages (from requests==2.18.4->-r requirements.txt (line 11))\n",
      "Requirement already satisfied: bottleneck>=1.0.0 in /root/anaconda2/envs/aind-dl/lib/python3.5/site-packages (from zipline===1.2.0->-r requirements.txt (line 16))\n",
      "Requirement already satisfied: sortedcontainers>=1.4.4 in /root/anaconda2/envs/aind-dl/lib/python3.5/site-packages (from zipline===1.2.0->-r requirements.txt (line 16))\n",
      "Requirement already satisfied: sqlalchemy>=1.0.8 in /root/anaconda2/envs/aind-dl/lib/python3.5/site-packages (from zipline===1.2.0->-r requirements.txt (line 16))\n",
      "Requirement already satisfied: tables>=3.3.0 in /root/anaconda2/envs/aind-dl/lib/python3.5/site-packages (from zipline===1.2.0->-r requirements.txt (line 16))\n",
      "Requirement already satisfied: pip>=7.1.0 in /root/anaconda2/envs/aind-dl/lib/python3.5/site-packages (from zipline===1.2.0->-r requirements.txt (line 16))\n",
      "Requirement already satisfied: contextlib2>=0.4.0 in /root/anaconda2/envs/aind-dl/lib/python3.5/site-packages (from zipline===1.2.0->-r requirements.txt (line 16))\n",
      "Requirement already satisfied: Logbook>=0.12.5 in /root/anaconda2/envs/aind-dl/lib/python3.5/site-packages (from zipline===1.2.0->-r requirements.txt (line 16))\n",
      "Requirement already satisfied: bcolz<1,>=0.12.1 in /root/anaconda2/envs/aind-dl/lib/python3.5/site-packages (from zipline===1.2.0->-r requirements.txt (line 16))\n",
      "Requirement already satisfied: networkx<2.0,>=1.9.1 in /root/anaconda2/envs/aind-dl/lib/python3.5/site-packages (from zipline===1.2.0->-r requirements.txt (line 16))\n",
      "Requirement already satisfied: lru-dict>=1.1.4 in /root/anaconda2/envs/aind-dl/lib/python3.5/site-packages (from zipline===1.2.0->-r requirements.txt (line 16))\n",
      "Requirement already satisfied: patsy>=0.4.0 in /root/anaconda2/envs/aind-dl/lib/python3.5/site-packages (from zipline===1.2.0->-r requirements.txt (line 16))\n",
      "Requirement already satisfied: requests-file>=1.4.1 in /root/anaconda2/envs/aind-dl/lib/python3.5/site-packages (from zipline===1.2.0->-r requirements.txt (line 16))\n",
      "Requirement already satisfied: numexpr>=2.6.1 in /root/anaconda2/envs/aind-dl/lib/python3.5/site-packages (from zipline===1.2.0->-r requirements.txt (line 16))\n",
      "Requirement already satisfied: multipledispatch>=0.4.8 in /root/anaconda2/envs/aind-dl/lib/python3.5/site-packages (from zipline===1.2.0->-r requirements.txt (line 16))\n",
      "Requirement already satisfied: pandas-datareader<0.6,>=0.2.1 in /root/anaconda2/envs/aind-dl/lib/python3.5/site-packages (from zipline===1.2.0->-r requirements.txt (line 16))\n",
      "Requirement already satisfied: click>=4.0.0 in /root/anaconda2/envs/aind-dl/lib/python3.5/site-packages (from zipline===1.2.0->-r requirements.txt (line 16))\n",
      "Requirement already satisfied: Cython>=0.25.2 in /root/anaconda2/envs/aind-dl/lib/python3.5/site-packages (from zipline===1.2.0->-r requirements.txt (line 16))\n",
      "Requirement already satisfied: cyordereddict>=0.2.2 in /root/anaconda2/envs/aind-dl/lib/python3.5/site-packages (from zipline===1.2.0->-r requirements.txt (line 16))\n",
      "Requirement already satisfied: Mako>=1.0.1 in /root/anaconda2/envs/aind-dl/lib/python3.5/site-packages (from zipline===1.2.0->-r requirements.txt (line 16))\n",
      "Requirement already satisfied: alembic>=0.7.7 in /root/anaconda2/envs/aind-dl/lib/python3.5/site-packages (from zipline===1.2.0->-r requirements.txt (line 16))\n",
      "Requirement already satisfied: intervaltree>=2.1.0 in /root/anaconda2/envs/aind-dl/lib/python3.5/site-packages (from zipline===1.2.0->-r requirements.txt (line 16))\n",
      "Requirement already satisfied: MarkupSafe>=0.23 in /root/anaconda2/envs/aind-dl/lib/python3.5/site-packages (from zipline===1.2.0->-r requirements.txt (line 16))\n",
      "Requirement already satisfied: setuptools>18.0 in /root/anaconda2/envs/aind-dl/lib/python3.5/site-packages/setuptools-27.2.0-py3.5.egg (from zipline===1.2.0->-r requirements.txt (line 16))\n",
      "Requirement already satisfied: empyrical>=0.4.2 in /root/anaconda2/envs/aind-dl/lib/python3.5/site-packages (from zipline===1.2.0->-r requirements.txt (line 16))\n",
      "Requirement already satisfied: future in /root/anaconda2/envs/aind-dl/lib/python3.5/site-packages (from osqp->cvxpy==1.0.3->-r requirements.txt (line 3))\n",
      "Requirement already satisfied: dill>=0.2.9 in /root/anaconda2/envs/aind-dl/lib/python3.5/site-packages (from multiprocess->cvxpy==1.0.3->-r requirements.txt (line 3))\n",
      "Requirement already satisfied: requests-ftp in /root/anaconda2/envs/aind-dl/lib/python3.5/site-packages (from pandas-datareader<0.6,>=0.2.1->zipline===1.2.0->-r requirements.txt (line 16))\n",
      "Requirement already satisfied: python-editor>=0.3 in /root/anaconda2/envs/aind-dl/lib/python3.5/site-packages (from alembic>=0.7.7->zipline===1.2.0->-r requirements.txt (line 16))\n",
      "Installing collected packages: numpy, six, python-dateutil, pytz, pandas, scipy\n",
      "  Found existing installation: numpy 1.16.4\n",
      "    Uninstalling numpy-1.16.4:\n",
      "      Successfully uninstalled numpy-1.16.4\n",
      "  Found existing installation: six 1.12.0\n",
      "    Uninstalling six-1.12.0:\n",
      "      Successfully uninstalled six-1.12.0\n",
      "  Found existing installation: python-dateutil 2.8.0\n",
      "    Uninstalling python-dateutil-2.8.0:\n",
      "      Successfully uninstalled python-dateutil-2.8.0\n",
      "  Found existing installation: pytz 2019.1\n",
      "    Uninstalling pytz-2019.1:\n",
      "      Successfully uninstalled pytz-2019.1\n",
      "  Found existing installation: pandas 0.24.2\n",
      "    Uninstalling pandas-0.24.2:\n",
      "      Successfully uninstalled pandas-0.24.2\n",
      "  Found existing installation: scipy 1.3.0\n",
      "    Uninstalling scipy-1.3.0:\n",
      "      Successfully uninstalled scipy-1.3.0\n",
      "Successfully installed numpy-1.14.5 pandas-0.18.1 python-dateutil-2.6.1 pytz-2017.3 scipy-1.0.0 six-1.11.0\n",
      "\u001b[33mYou are using pip version 9.0.1, however version 19.1.1 is available.\n",
      "You should consider upgrading via the 'pip install --upgrade pip' command.\u001b[0m\n"
     ]
    }
   ],
   "source": [
    "import sys\n",
    "!{sys.executable} -m pip install -r requirements.txt"
   ]
  },
  {
   "cell_type": "code",
   "execution_count": null,
   "metadata": {
    "collapsed": true,
    "deletable": true,
    "editable": true
   },
   "outputs": [],
   "source": []
  }
 ],
 "metadata": {
  "kernelspec": {
   "display_name": "Python [conda env:aind-dl]",
   "language": "python",
   "name": "conda-env-aind-dl-py"
  },
  "language_info": {
   "codemirror_mode": {
    "name": "ipython",
    "version": 3
   },
   "file_extension": ".py",
   "mimetype": "text/x-python",
   "name": "python",
   "nbconvert_exporter": "python",
   "pygments_lexer": "ipython3",
   "version": "3.5.3"
  },
  "toc": {
   "base_numbering": 1,
   "nav_menu": {},
   "number_sections": true,
   "sideBar": true,
   "skip_h1_title": false,
   "title_cell": "Table of Contents",
   "title_sidebar": "Contents",
   "toc_cell": false,
   "toc_position": {},
   "toc_section_display": true,
   "toc_window_display": false
  }
 },
 "nbformat": 4,
 "nbformat_minor": 2
}
