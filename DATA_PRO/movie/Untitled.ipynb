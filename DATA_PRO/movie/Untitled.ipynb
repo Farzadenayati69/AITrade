{
 "cells": [
  {
   "cell_type": "markdown",
   "metadata": {},
   "source": [
    "# 电影数据分析案例"
   ]
  },
  {
   "cell_type": "markdown",
   "metadata": {},
   "source": [
    "## 提出问题"
   ]
  },
  {
   "cell_type": "markdown",
   "metadata": {},
   "source": [
    "电影公司制作一部新电影推向市场时，要想获得成功，通常要了解电影市场趋势，观众喜好的电影类型，电影的发行情况，改编电影和原创电影的收益情况，以及观众喜欢什么样的内容。\n",
    "\n",
    "本案例来源于kaggle上的[TMDB 5000 Movie Dataset数据集](https://www.kaggle.com/tmdb/tmdb-movie-metadata)，为了探讨电影数据可视化，为电影的制作提供数据支持，主要研究以下几个问题：\n",
    "* **电影类型如何随着时间的推移发生变化的？**\n",
    "* **电影类型与利润的关系？**\n",
    "* **Universal和Paramount两家影视公司的对比情况如何？**\n",
    "* **改编电影和原创电影的发行对比情况如何？**\n",
    "* **电影时长与电影票房及评分的关系？**\n",
    "* **分析电影关键字**\n"
   ]
  },
  {
   "cell_type": "markdown",
   "metadata": {},
   "source": [
    "## 理解数据"
   ]
  },
  {
   "cell_type": "markdown",
   "metadata": {},
   "source": [
    "### 采集数据"
   ]
  },
  {
   "cell_type": "markdown",
   "metadata": {},
   "source": [
    "[从kaggle上的TMDB 5000 Movie Dataset下载数据集](https://www.kaggle.com/tmdb/tmdb-movie-metadata)"
   ]
  },
  {
   "cell_type": "markdown",
   "metadata": {},
   "source": [
    "### 导入数据"
   ]
  },
  {
   "cell_type": "code",
   "execution_count": null,
   "metadata": {
    "collapsed": true
   },
   "outputs": [],
   "source": [
    "import json\n",
    "import pandas as pd\n",
    "import numpy as np\n",
    "from pandas import Series,DataFrame\n",
    "from datetime import datetime\n",
    "import warnings\n",
    "warnings.filterwarnings('ignore') # 忽略python运行过程中的警告错误\n",
    "\n",
    "# 数据可视化\n",
    "import matplotlib.pyplot as plt\n",
    "import seaborn as sns             # 使用Seaborn库\n",
    "from wordcloud import WordCloud,STOPWORDS,ImageColorGenerator  # 导入词云包\n",
    "from scipy.misc import imread\n",
    "get_ipython().magic('matplotlib inline')"
   ]
  }
 ],
 "metadata": {
  "kernelspec": {
   "display_name": "py36",
   "language": "python",
   "name": "py36"
  },
  "language_info": {
   "codemirror_mode": {
    "name": "ipython",
    "version": 3
   },
   "file_extension": ".py",
   "mimetype": "text/x-python",
   "name": "python",
   "nbconvert_exporter": "python",
   "pygments_lexer": "ipython3",
   "version": "3.6.5"
  },
  "toc": {
   "base_numbering": 1,
   "nav_menu": {},
   "number_sections": true,
   "sideBar": true,
   "skip_h1_title": false,
   "title_cell": "Table of Contents",
   "title_sidebar": "Contents",
   "toc_cell": false,
   "toc_position": {},
   "toc_section_display": true,
   "toc_window_display": true
  }
 },
 "nbformat": 4,
 "nbformat_minor": 2
}
