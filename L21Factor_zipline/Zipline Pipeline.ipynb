{
 "cells": [
  {
   "cell_type": "markdown",
   "metadata": {
    "deletable": true,
    "editable": true
   },
   "source": [
    "# Zipline Pipeline"
   ]
  },
  {
   "cell_type": "markdown",
   "metadata": {
    "deletable": true,
    "editable": true
   },
   "source": [
    "### Introduction\n",
    "\n",
    "On any given trading day, the entire universe of stocks consists of thousands of securities. Usually, you will not be  interested in investing in all the stocks in the entire universe, but rather, you will likely select only a subset of these to invest. For example, you may only want to invest in stocks that have a 10-day average closing price of \\$10.00 or less. Or you may only want to invest in the top 500 securities ranked by some factor.\n",
    "\n",
    "In order to avoid spending a lot of time doing data wrangling to select only the securities you are interested in, people often use **pipelines**. In general, a pipeline is a placeholder for a series of data operations used to filter and rank data according to some factor or factors. \n",
    "\n",
    "In this notebook, you will learn how to work with the **Zipline Pipeline**. Zipline is an open-source algorithmic trading simulator developed by *Quantopian*. We will learn how to use the Zipline Pipeline to filter stock data according to factors. "
   ]
  },
  {
   "cell_type": "markdown",
   "metadata": {
    "deletable": true,
    "editable": true
   },
   "source": [
    "### Install Packages"
   ]
  },
  {
   "cell_type": "code",
   "execution_count": 1,
   "metadata": {
    "collapsed": false,
    "deletable": true,
    "editable": true
   },
   "outputs": [
    {
     "name": "stdout",
     "output_type": "stream",
     "text": [
      "Requirement already satisfied: zipline===1.3.0 in /root/anaconda2/envs/aind-dl/lib/python3.5/site-packages (from -r requirements.txt (line 1))\n",
      "Requirement already satisfied: graphviz==0.9 in /root/anaconda2/envs/aind-dl/lib/python3.5/site-packages (from -r requirements.txt (line 2))\n",
      "Requirement already satisfied: alembic>=0.7.7 in /root/anaconda2/envs/aind-dl/lib/python3.5/site-packages (from zipline===1.3.0->-r requirements.txt (line 1))\n",
      "Requirement already satisfied: numexpr>=2.6.1 in /root/anaconda2/envs/aind-dl/lib/python3.5/site-packages (from zipline===1.3.0->-r requirements.txt (line 1))\n",
      "Requirement already satisfied: sortedcontainers>=1.4.4 in /root/anaconda2/envs/aind-dl/lib/python3.5/site-packages (from zipline===1.3.0->-r requirements.txt (line 1))\n",
      "Requirement already satisfied: python-dateutil>=2.4.2 in /root/anaconda2/envs/aind-dl/lib/python3.5/site-packages (from zipline===1.3.0->-r requirements.txt (line 1))\n",
      "Requirement already satisfied: cyordereddict>=0.2.2 in /root/anaconda2/envs/aind-dl/lib/python3.5/site-packages (from zipline===1.3.0->-r requirements.txt (line 1))\n",
      "Requirement already satisfied: click>=4.0.0 in /root/anaconda2/envs/aind-dl/lib/python3.5/site-packages (from zipline===1.3.0->-r requirements.txt (line 1))\n",
      "Requirement already satisfied: pandas-datareader>=0.2.1 in /root/anaconda2/envs/aind-dl/lib/python3.5/site-packages (from zipline===1.3.0->-r requirements.txt (line 1))\n",
      "Requirement already satisfied: trading-calendars>=1.0.1 in /root/anaconda2/envs/aind-dl/lib/python3.5/site-packages (from zipline===1.3.0->-r requirements.txt (line 1))\n",
      "Requirement already satisfied: decorator>=4.0.0 in /root/anaconda2/envs/aind-dl/lib/python3.5/site-packages (from zipline===1.3.0->-r requirements.txt (line 1))\n",
      "Requirement already satisfied: networkx<2.0,>=1.9.1 in /root/anaconda2/envs/aind-dl/lib/python3.5/site-packages (from zipline===1.3.0->-r requirements.txt (line 1))\n",
      "Requirement already satisfied: statsmodels>=0.6.1 in /root/anaconda2/envs/aind-dl/lib/python3.5/site-packages (from zipline===1.3.0->-r requirements.txt (line 1))\n",
      "Requirement already satisfied: requests-file>=1.4.1 in /root/anaconda2/envs/aind-dl/lib/python3.5/site-packages (from zipline===1.3.0->-r requirements.txt (line 1))\n",
      "Requirement already satisfied: pytz>=2016.4 in /root/anaconda2/envs/aind-dl/lib/python3.5/site-packages (from zipline===1.3.0->-r requirements.txt (line 1))\n",
      "Requirement already satisfied: MarkupSafe>=0.23 in /root/anaconda2/envs/aind-dl/lib/python3.5/site-packages (from zipline===1.3.0->-r requirements.txt (line 1))\n",
      "Requirement already satisfied: toolz>=0.8.2 in /root/anaconda2/envs/aind-dl/lib/python3.5/site-packages (from zipline===1.3.0->-r requirements.txt (line 1))\n",
      "Requirement already satisfied: multipledispatch>=0.4.8 in /root/anaconda2/envs/aind-dl/lib/python3.5/site-packages (from zipline===1.3.0->-r requirements.txt (line 1))\n",
      "Requirement already satisfied: intervaltree>=2.1.0 in /root/anaconda2/envs/aind-dl/lib/python3.5/site-packages (from zipline===1.3.0->-r requirements.txt (line 1))\n",
      "Requirement already satisfied: patsy>=0.4.0 in /root/anaconda2/envs/aind-dl/lib/python3.5/site-packages (from zipline===1.3.0->-r requirements.txt (line 1))\n",
      "Requirement already satisfied: contextlib2>=0.4.0 in /root/anaconda2/envs/aind-dl/lib/python3.5/site-packages (from zipline===1.3.0->-r requirements.txt (line 1))\n",
      "Requirement already satisfied: six>=1.10.0 in /root/anaconda2/envs/aind-dl/lib/python3.5/site-packages (from zipline===1.3.0->-r requirements.txt (line 1))\n",
      "Requirement already satisfied: scipy>=0.17.1 in /root/anaconda2/envs/aind-dl/lib/python3.5/site-packages (from zipline===1.3.0->-r requirements.txt (line 1))\n",
      "Requirement already satisfied: pandas<=0.22,>=0.18.1 in /root/anaconda2/envs/aind-dl/lib/python3.5/site-packages (from zipline===1.3.0->-r requirements.txt (line 1))\n",
      "Requirement already satisfied: Mako>=1.0.1 in /root/anaconda2/envs/aind-dl/lib/python3.5/site-packages (from zipline===1.3.0->-r requirements.txt (line 1))\n",
      "Requirement already satisfied: setuptools>18.0 in /root/anaconda2/envs/aind-dl/lib/python3.5/site-packages/setuptools-27.2.0-py3.5.egg (from zipline===1.3.0->-r requirements.txt (line 1))\n",
      "Requirement already satisfied: bottleneck>=1.0.0 in /root/anaconda2/envs/aind-dl/lib/python3.5/site-packages (from zipline===1.3.0->-r requirements.txt (line 1))\n",
      "Requirement already satisfied: empyrical>=0.5.0 in /root/anaconda2/envs/aind-dl/lib/python3.5/site-packages (from zipline===1.3.0->-r requirements.txt (line 1))\n",
      "Requirement already satisfied: numpy>=1.11.1 in /root/anaconda2/envs/aind-dl/lib/python3.5/site-packages (from zipline===1.3.0->-r requirements.txt (line 1))\n",
      "Requirement already satisfied: requests>=2.9.1 in /root/anaconda2/envs/aind-dl/lib/python3.5/site-packages (from zipline===1.3.0->-r requirements.txt (line 1))\n",
      "Requirement already satisfied: sqlalchemy>=1.0.8 in /root/anaconda2/envs/aind-dl/lib/python3.5/site-packages (from zipline===1.3.0->-r requirements.txt (line 1))\n",
      "Requirement already satisfied: tables>=3.3.0 in /root/anaconda2/envs/aind-dl/lib/python3.5/site-packages (from zipline===1.3.0->-r requirements.txt (line 1))\n",
      "Requirement already satisfied: pip>=7.1.0 in /root/anaconda2/envs/aind-dl/lib/python3.5/site-packages (from zipline===1.3.0->-r requirements.txt (line 1))\n",
      "Requirement already satisfied: Cython>=0.25.2 in /root/anaconda2/envs/aind-dl/lib/python3.5/site-packages (from zipline===1.3.0->-r requirements.txt (line 1))\n",
      "Requirement already satisfied: lru-dict>=1.1.4 in /root/anaconda2/envs/aind-dl/lib/python3.5/site-packages (from zipline===1.3.0->-r requirements.txt (line 1))\n",
      "Requirement already satisfied: bcolz<1,>=0.12.1 in /root/anaconda2/envs/aind-dl/lib/python3.5/site-packages (from zipline===1.3.0->-r requirements.txt (line 1))\n",
      "Requirement already satisfied: Logbook>=0.12.5 in /root/anaconda2/envs/aind-dl/lib/python3.5/site-packages (from zipline===1.3.0->-r requirements.txt (line 1))\n",
      "Requirement already satisfied: python-editor>=0.3 in /root/anaconda2/envs/aind-dl/lib/python3.5/site-packages (from alembic>=0.7.7->zipline===1.3.0->-r requirements.txt (line 1))\n",
      "Requirement already satisfied: requests-ftp in /root/anaconda2/envs/aind-dl/lib/python3.5/site-packages (from pandas-datareader>=0.2.1->zipline===1.3.0->-r requirements.txt (line 1))\n",
      "Requirement already satisfied: urllib3<1.23,>=1.21.1 in /root/anaconda2/envs/aind-dl/lib/python3.5/site-packages (from requests>=2.9.1->zipline===1.3.0->-r requirements.txt (line 1))\n",
      "Requirement already satisfied: certifi>=2017.4.17 in /root/anaconda2/envs/aind-dl/lib/python3.5/site-packages (from requests>=2.9.1->zipline===1.3.0->-r requirements.txt (line 1))\n",
      "Requirement already satisfied: chardet<3.1.0,>=3.0.2 in /root/anaconda2/envs/aind-dl/lib/python3.5/site-packages (from requests>=2.9.1->zipline===1.3.0->-r requirements.txt (line 1))\n",
      "Requirement already satisfied: idna<2.7,>=2.5 in /root/anaconda2/envs/aind-dl/lib/python3.5/site-packages (from requests>=2.9.1->zipline===1.3.0->-r requirements.txt (line 1))\n",
      "\u001b[33mYou are using pip version 9.0.1, however version 19.1.1 is available.\n",
      "You should consider upgrading via the 'pip install --upgrade pip' command.\u001b[0m\n"
     ]
    }
   ],
   "source": [
    "import sys\n",
    "!{sys.executable} -m pip install -r requirements.txt"
   ]
  },
  {
   "cell_type": "markdown",
   "metadata": {
    "deletable": true,
    "editable": true
   },
   "source": [
    "# Loading Data with Zipline\n",
    "\n",
    "Before we build our pipeline with Zipline, we will first see how we can load the stock data we are going to use into Zipline. Zipline uses **Data Bundles** to make it easy to use different data sources. A data bundle is a collection of pricing data, adjustment data, and an asset database. Zipline employs data bundles to preload data used to run backtests and store data for future runs. Zipline comes with a few data bundles by default but it also has the ability to ingest new bundles. The first step to using a data bundle is to ingest the data. Zipline's ingestion process will start by downloading the data or by loading data files from your local machine. It will then pass the data to a set of writer objects that converts the original data to Zipline’s internal format (`bcolz` for pricing data, and `SQLite` for split/merger/dividend data) that hs been optimized for speed. This new data is written to a standard location that Zipline can find. By default, the new data is written to a subdirectory of `ZIPLINE_ROOT/data/<bundle>`, where `<bundle>` is the name given to the bundle ingested and the subdirectory is named with the current date. This allows Zipline to look at older data and run backtests on older copies of the data. Running a backtest with an old ingestion makes it easier to reproduce backtest results later. \n",
    "\n",
    "In this notebook, we will be using stock data from **Quotemedia**. In the Udacity Workspace you will find that the stock data from Quotemedia has already been ingested into Zipline. Therefore, in the code below we will use Zipline's `bundles.load()` function to load our previously ingested stock data from Quotemedia. In order to use the `bundles.load()` function we first need to do a couple of things. First, we need to specify the name of the bundle previously ingested. In this case, the name of the Quotemedia data bundle is `eod-quotemedia`:"
   ]
  },
  {
   "cell_type": "code",
   "execution_count": 2,
   "metadata": {
    "collapsed": true,
    "deletable": true,
    "editable": true
   },
   "outputs": [],
   "source": [
    "# Specify the bundle name\n",
    "bundle_name = 'eod-quotemedia'"
   ]
  },
  {
   "cell_type": "markdown",
   "metadata": {
    "deletable": true,
    "editable": true
   },
   "source": [
    "Second, we need to register the data bundle and its ingest function with Zipline, using the `bundles.register()` function. The ingest function is responsible for loading the data into memory and passing it to a set of writer objects provided by Zipline to convert the data to Zipline’s internal format. Since the original Quotemedia data was contained in `.csv` files, we will use the `csvdir_equities()` function to generate the ingest function for our Quotemedia data bundle. In addition, since Quotemedia's `.csv` files contained daily stock data, we will set the time frame for our ingest function, to `daily`."
   ]
  },
  {
   "cell_type": "code",
   "execution_count": 3,
   "metadata": {
    "collapsed": true,
    "deletable": true,
    "editable": true
   },
   "outputs": [],
   "source": [
    "from zipline.data import bundles\n",
    "from zipline.data.bundles.csvdir import csvdir_equities\n",
    "\n",
    "# Create an ingest function \n",
    "ingest_func = csvdir_equities(['daily'], bundle_name)\n",
    "\n",
    "# Register the data bundle and its ingest function\n",
    "bundles.register(bundle_name, ingest_func);"
   ]
  },
  {
   "cell_type": "markdown",
   "metadata": {
    "deletable": true,
    "editable": true
   },
   "source": [
    "Once our data bundle and ingest function are registered, we can load our data using the `bundles.load()` function. Since this function loads our previously ingested data, we need to set `ZIPLINE_ROOT` to the path of the most recent ingested data. The most recent data is located in the `cwd/../../data/project_4_eod/` directory, where `cwd` is the current working directory. We will specify this location using the `os.environ[]` command."
   ]
  },
  {
   "cell_type": "code",
   "execution_count": 4,
   "metadata": {
    "collapsed": false,
    "deletable": true,
    "editable": true
   },
   "outputs": [
    {
     "name": "stdout",
     "output_type": "stream",
     "text": [
      "/server/scripts/ipython/AITrade/L21Factor_zipline/data/project_4_eod\n"
     ]
    }
   ],
   "source": [
    "import os\n",
    "\n",
    "# Set environment variable 'ZIPLINE_ROOT' to the path where the most recent data is located\n",
    "#os.environ['ZIPLINE_ROOT'] = os.path.join(os.getcwd(), '..', '..', 'data', 'project_4_eod')\n",
    "zipline_root = os.path.join(os.getcwd(),'data','project_4_eod')\n",
    "os.environ['ZIPLINE_ROOT'] = zipline_root\n",
    "print(zipline_root)\n",
    "# Load the data bundle\n",
    "bundle_data = bundles.load(bundle_name)"
   ]
  },
  {
   "cell_type": "code",
   "execution_count": 5,
   "metadata": {
    "collapsed": false,
    "deletable": true,
    "editable": true,
    "scrolled": true
   },
   "outputs": [
    {
     "data": {
      "text/plain": [
       "BundleData(asset_finder=<zipline.assets.assets.AssetFinder object at 0x7fe9d60bc5c0>, equity_minute_bar_reader=<zipline.data.minute_bars.BcolzMinuteBarReader object at 0x7fe9d5fc0d30>, equity_daily_bar_reader=<zipline.data.us_equity_pricing.BcolzDailyBarReader object at 0x7fea0df79470>, adjustment_reader=<zipline.data.us_equity_pricing.SQLiteAdjustmentReader object at 0x7fe9d5fbc940>)"
      ]
     },
     "execution_count": 5,
     "metadata": {},
     "output_type": "execute_result"
    }
   ],
   "source": [
    "bundle_data"
   ]
  },
  {
   "cell_type": "markdown",
   "metadata": {
    "deletable": true,
    "editable": true
   },
   "source": [
    "# Building an Empty Pipeline\n",
    "\n",
    "Once we have loaded our data, we can start building our Zipline pipeline. We begin by creating an empty Pipeline object using Zipline's `Pipeline` class. A Pipeline object represents a collection of named expressions to be compiled and executed by a Pipeline Engine. The `Pipeline(columns=None, screen=None)` class takes two optional parameters, `columns` and `screen`. The `columns` parameter is a dictionary used to indicate the intial columns to use, and the `screen` parameter is used to setup a screen to exclude unwanted data. \n",
    "\n",
    "In the code below we will create a `screen` for our pipeline using Zipline's built-in `.AverageDollarVolume()` class. We will use the `.AverageDollarVolume()` class to produce a 60-day Average Dollar Volume of closing prices for every stock in our universe. We then use the `.top(10)` attribute to specify that we want to filter down our universe each day to just the top 10 assets. Therefore, this screen will act as a filter to exclude data from our stock universe each day. The average dollar volume is a good first pass filter to avoid illiquid assets."
   ]
  },
  {
   "cell_type": "code",
   "execution_count": 6,
   "metadata": {
    "collapsed": true,
    "deletable": true,
    "editable": true
   },
   "outputs": [],
   "source": [
    "from zipline.pipeline import Pipeline\n",
    "from zipline.pipeline.factors import AverageDollarVolume\n",
    "\n",
    "# Create a screen for our Pipeline\n",
    "universe = AverageDollarVolume(window_length = 60).top(10)\n",
    "\n",
    "# Create an empty Pipeline with the given screen\n",
    "pipeline = Pipeline(screen = universe)"
   ]
  },
  {
   "cell_type": "markdown",
   "metadata": {
    "deletable": true,
    "editable": true
   },
   "source": [
    "In the code above we have named our Pipeline object `pipeline` so that we can identify it later when we make computations. Remember a Pipeline is an object that represents computations we would like to perform every day. A freshly-constructed pipeline, like the one we just created, is empty. This means it doesn’t yet know how to compute anything, and it won’t produce any values if we ask for its outputs. In the sections below, we will see how to provide our Pipeline with expressions to compute."
   ]
  },
  {
   "cell_type": "markdown",
   "metadata": {
    "deletable": true,
    "editable": true
   },
   "source": [
    "# Factors and Filters\n",
    "\n",
    "The `.AverageDollarVolume()` class used above is an example of a factor. In this section we will take a look at two types of computations that can be expressed in a pipeline: **Factors** and **Filters**. In general, factors and filters represent functions that produce a value from an asset in a moment in time, but are distinguished by the types of values they produce. Let's start by looking at factors.\n",
    "\n",
    "\n",
    "### Factors\n",
    "\n",
    "In general, a **Factor** is a function from an asset at a particular moment of time to a numerical value. A simple example of a factor is the most recent price of a security. Given a security and a specific moment in time, the most recent price is a number. Another example is the 10-day average trading volume of a security. Factors are most commonly used to assign values to securities which can then be combined with filters or other factors. The fact that you can combine multiple factors makes it easy for you to form new custom factors that can be as complex as you like. For example, constructing a Factor that computes the average of two other Factors can be simply illustrated usingthe pseudocode below:\n",
    "\n",
    "```python\n",
    "f1 = factor1(...)\n",
    "f2 = factor2(...)  \n",
    "average = (f1 + f2) / 2.0  \n",
    "```\n",
    "\n",
    "### Filters\n",
    "\n",
    "In general, a **Filter** is a function from an asset at a particular moment in time to a boolean value (True of False). An example of a filter is a function indicating whether a security's price is below \\$5. Given a security and a specific moment in time, this evaluates to either **True** or **False**. Filters are most commonly used for selecting sets of securities to include or exclude from your stock universe. Filters are usually applied using comparison operators, such as <, <=, !=, ==, >, >=."
   ]
  },
  {
   "cell_type": "markdown",
   "metadata": {
    "deletable": true,
    "editable": true
   },
   "source": [
    "# Viewing the Pipeline as a Diagram\n",
    "\n",
    "Zipline's Pipeline class comes with the attribute `.show_graph()` that allows you to render the Pipeline as a Directed Acyclic Graph (DAG). This graph is specified using the DOT language and consequently we need a DOT graph layout program to view the rendered image. In the code below, we will use the Graphviz pakage to render the graph produced by the `.show_graph()` attribute. Graphviz is an open-source package for drawing graphs specified in DOT language scripts."
   ]
  },
  {
   "cell_type": "code",
   "execution_count": 7,
   "metadata": {
    "collapsed": false,
    "deletable": true,
    "editable": true
   },
   "outputs": [
    {
     "data": {
      "image/svg+xml": [
       "<svg height=\"378pt\" viewBox=\"0.00 0.00 386.00 378.00\" width=\"386pt\" xmlns=\"http://www.w3.org/2000/svg\" xmlns:xlink=\"http://www.w3.org/1999/xlink\">\n",
       "<g class=\"graph\" id=\"graph0\" transform=\"scale(1 1) rotate(0) translate(4 374)\">\n",
       "<title>G</title>\n",
       "<polygon fill=\"white\" points=\"-4,5 -4,-374 383,-374 383,5 -4,5\" stroke=\"white\"/>\n",
       "<g class=\"cluster\" id=\"clust1\"><title>cluster_Output</title>\n",
       "<polygon fill=\"#ffec8b\" points=\"115,-8 115,-85 263,-85 263,-8 115,-8\" stroke=\"#ffec8b\"/>\n",
       "<text font-family=\"Times,serif\" font-size=\"14.00\" text-anchor=\"middle\" x=\"189\" y=\"-15.8\">Output</text>\n",
       "</g>\n",
       "<g class=\"cluster\" id=\"clust2\"><title>cluster_Input</title>\n",
       "<polygon fill=\"#ffec8b\" points=\"8,-269 8,-362 370,-362 370,-269 8,-269\" stroke=\"#ffec8b\"/>\n",
       "<text font-family=\"Times,serif\" font-size=\"14.00\" text-anchor=\"middle\" x=\"189\" y=\"-346.8\">Input</text>\n",
       "</g>\n",
       "<!-- 140643072869376 -->\n",
       "<g class=\"node\" id=\"node1\"><title>140643072869376</title>\n",
       "<polygon fill=\"#ccebc5\" points=\"254.25,-77 123.75,-77 123.75,-39 254.25,-39 254.25,-77\" stroke=\"black\"/>\n",
       "<text font-family=\"Times,serif\" font-size=\"14.00\" text-anchor=\"start\" x=\"131.5\" y=\"-61.8\">Expression:</text>\n",
       "<text font-family=\"Times,serif\" font-size=\"14.00\" text-anchor=\"start\" x=\"131.5\" y=\"-46.8\">  x_0 &lt;= (1.00E+01)</text>\n",
       "</g>\n",
       "<!-- 140642300573736 -->\n",
       "<g class=\"node\" id=\"node2\"><title>140642300573736</title>\n",
       "<polygon fill=\"#fbb4ae\" points=\"362,-330.5 198,-330.5 198,-277.5 362,-277.5 362,-330.5\" stroke=\"black\"/>\n",
       "<text font-family=\"Times,serif\" font-size=\"14.00\" text-anchor=\"start\" x=\"206\" y=\"-315.3\">BoundColumn:</text>\n",
       "<text font-family=\"Times,serif\" font-size=\"14.00\" text-anchor=\"start\" x=\"206\" y=\"-300.3\">  Dataset: USEquityPricing</text>\n",
       "<text font-family=\"Times,serif\" font-size=\"14.00\" text-anchor=\"start\" x=\"206\" y=\"-285.3\">  Column: volume</text>\n",
       "</g>\n",
       "<!-- 140642294155864 -->\n",
       "<g class=\"node\" id=\"node4\"><title>140642294155864</title>\n",
       "<polygon fill=\"#b3cde3\" points=\"261.25,-241 116.75,-241 116.75,-203 261.25,-203 261.25,-241\" stroke=\"black\"/>\n",
       "<text font-family=\"Times,serif\" font-size=\"14.00\" text-anchor=\"start\" x=\"124.5\" y=\"-225.8\">AverageDollarVolume:</text>\n",
       "<text font-family=\"Times,serif\" font-size=\"14.00\" text-anchor=\"start\" x=\"124.5\" y=\"-210.8\">  window_length: 60</text>\n",
       "</g>\n",
       "<!-- 140642300573736&#45;&gt;140642294155864 -->\n",
       "<g class=\"edge\" id=\"edge1\"><title>140642300573736-&gt;140642294155864</title>\n",
       "<path d=\"M229.625,-277.15C229.625,-277.15 229.625,-251.115 229.625,-251.115\" fill=\"none\" stroke=\"black\"/>\n",
       "<polygon fill=\"black\" points=\"233.125,-251.115 229.625,-241.115 226.125,-251.115 233.125,-251.115\" stroke=\"black\"/>\n",
       "</g>\n",
       "<!-- 140642300531040 -->\n",
       "<g class=\"node\" id=\"node3\"><title>140642300531040</title>\n",
       "<polygon fill=\"#fbb4ae\" points=\"180,-330.5 16,-330.5 16,-277.5 180,-277.5 180,-330.5\" stroke=\"black\"/>\n",
       "<text font-family=\"Times,serif\" font-size=\"14.00\" text-anchor=\"start\" x=\"24\" y=\"-315.3\">BoundColumn:</text>\n",
       "<text font-family=\"Times,serif\" font-size=\"14.00\" text-anchor=\"start\" x=\"24\" y=\"-300.3\">  Dataset: USEquityPricing</text>\n",
       "<text font-family=\"Times,serif\" font-size=\"14.00\" text-anchor=\"start\" x=\"24\" y=\"-285.3\">  Column: close</text>\n",
       "</g>\n",
       "<!-- 140642300531040&#45;&gt;140642294155864 -->\n",
       "<g class=\"edge\" id=\"edge3\"><title>140642300531040-&gt;140642294155864</title>\n",
       "<path d=\"M148.375,-277.15C148.375,-277.15 148.375,-251.115 148.375,-251.115\" fill=\"none\" stroke=\"black\"/>\n",
       "<polygon fill=\"black\" points=\"151.875,-251.115 148.375,-241.115 144.875,-251.115 151.875,-251.115\" stroke=\"black\"/>\n",
       "</g>\n",
       "<!-- 140642294156984 -->\n",
       "<g class=\"node\" id=\"node5\"><title>140642294156984</title>\n",
       "<polygon fill=\"#b3cde3\" points=\"251,-166.5 127,-166.5 127,-113.5 251,-113.5 251,-166.5\" stroke=\"black\"/>\n",
       "<text font-family=\"Times,serif\" font-size=\"14.00\" text-anchor=\"start\" x=\"135\" y=\"-151.3\">Rank:</text>\n",
       "<text font-family=\"Times,serif\" font-size=\"14.00\" text-anchor=\"start\" x=\"135\" y=\"-136.3\">  method: 'ordinal'</text>\n",
       "<text font-family=\"Times,serif\" font-size=\"14.00\" text-anchor=\"start\" x=\"135\" y=\"-121.3\">  mask: AssetExists</text>\n",
       "</g>\n",
       "<!-- 140642294155864&#45;&gt;140642294156984 -->\n",
       "<g class=\"edge\" id=\"edge2\"><title>140642294155864-&gt;140642294156984</title>\n",
       "<path d=\"M189,-202.981C189,-202.981 189,-176.68 189,-176.68\" fill=\"none\" stroke=\"black\"/>\n",
       "<polygon fill=\"black\" points=\"192.5,-176.68 189,-166.68 185.5,-176.68 192.5,-176.68\" stroke=\"black\"/>\n",
       "</g>\n",
       "<!-- 140642294156984&#45;&gt;140643072869376 -->\n",
       "<g class=\"edge\" id=\"edge4\"><title>140642294156984-&gt;140643072869376</title>\n",
       "<path d=\"M189,-113.15C189,-113.15 189,-87.1154 189,-87.1154\" fill=\"none\" stroke=\"black\"/>\n",
       "<polygon fill=\"black\" points=\"192.5,-87.1154 189,-77.1154 185.5,-87.1154 192.5,-87.1154\" stroke=\"black\"/>\n",
       "</g>\n",
       "</g>\n",
       "</svg>"
      ],
      "text/plain": [
       "<IPython.core.display.SVG object>"
      ]
     },
     "execution_count": 7,
     "metadata": {},
     "output_type": "execute_result"
    }
   ],
   "source": [
    "import graphviz\n",
    "# Render the pipeline as a DAG\n",
    "pipeline.show_graph()"
   ]
  },
  {
   "cell_type": "markdown",
   "metadata": {
    "deletable": true,
    "editable": true
   },
   "source": [
    "Right now, our pipeline is empty and it only contains a screen. Therefore, when we rendered our `pipeline`, we only see the diagram of our `screen`:\n",
    "\n",
    "```python\n",
    "AverageDollarVolume(window_length = 60).top(10)\n",
    "```\n",
    "\n",
    "By default, the `.AverageDollarVolume()` class uses the `USEquityPricing` dataset, containing daily trading prices and volumes, to compute the average dollar volume:\n",
    "\n",
    "```python\n",
    "average_dollar_volume = np.nansum(close_price * volume, axis=0) / len(close_price)\n",
    "```\n",
    "The top of the diagram reflects the fact that the `.AverageDollarVolume()` class gets its inputs (closing price and volume) from the `USEquityPricing` dataset. The bottom of the diagram shows that the output is determined by the expression `x_0 <= 10`. This expression reflects the fact that we used `.top(10)` as a filter in our `screen`. We refer to each box in the diagram as a Term. "
   ]
  },
  {
   "cell_type": "markdown",
   "metadata": {
    "deletable": true,
    "editable": true
   },
   "source": [
    "# Datasets and Dataloaders               \n",
    "\n",
    "One of the features of Zipline's Pipeline is that it separates the actual source of the stock data from the abstract description of that dataset. Therefore, Zipline employs **DataSets** and **Loaders** for those datasets. `DataSets` are just abstract collections of sentinel values describing the columns/types for a particular dataset.  While a `loader` is an object which, given a request for a particular chunk of a dataset, can actually get the requested data. For example, the loader used for the `USEquityPricing` dataset, is the `USEquityPricingLoader` class. The `USEquityPricingLoader` class will delegate the loading of baselines and adjustments to lower-level subsystems that know how to get the pricing data in the default formats used by Zipline (`bcolz` for pricing data, and `SQLite` for split/merger/dividend data). As we saw in the beginning of this notebook, data bundles automatically convert the stock data into `bcolz` and `SQLite` formats. It is important to note that the `USEquityPricingLoader` class can also be used to load daily OHLCV data from other datasets, not just from the `USEquityPricing` dataset. Simliarly, it is also  possible to write different loaders for the same dataset and use those instead of the default loader. Zipline contains lots of other loaders to allow you to load data from different datasets.\n",
    "\n",
    "In the code below, we will use `USEquityPricingLoader(BcolzDailyBarWriter, SQLiteAdjustmentWriter)` to create a loader from a `bcolz` equity pricing directory and a `SQLite` adjustments path. Both the `BcolzDailyBarWriter` and `SQLiteAdjustmentWriter` determine the path of the pricing and adjustment data. Since we will be using the Quotemedia data bundle, we will use the `bundle_data.equity_daily_bar_reader` and the `bundle_data.adjustment_reader` as our `BcolzDailyBarWriter` and `SQLiteAdjustmentWriter`, respectively."
   ]
  },
  {
   "cell_type": "code",
   "execution_count": 8,
   "metadata": {
    "collapsed": true,
    "deletable": true,
    "editable": true
   },
   "outputs": [],
   "source": [
    "??bundle_data"
   ]
  },
  {
   "cell_type": "code",
   "execution_count": 9,
   "metadata": {
    "collapsed": false,
    "deletable": true,
    "editable": true
   },
   "outputs": [],
   "source": [
    "from zipline.pipeline.loaders import USEquityPricingLoader\n",
    "\n",
    "# Set the dataloader\n",
    "pricing_loader = USEquityPricingLoader(bundle_data.equity_daily_bar_reader, bundle_data.adjustment_reader)"
   ]
  },
  {
   "cell_type": "markdown",
   "metadata": {
    "deletable": true,
    "editable": true
   },
   "source": [
    "# Pipeline Engine\n",
    "\n",
    "Zipline employs computation engines for executing Pipelines. In the code below we will use Zipline's `SimplePipelineEngine()` class as the engine to execute our pipeline. The `SimplePipelineEngine(get_loader, calendar, asset_finder)` class associates the chosen data loader with the corresponding dataset and a trading calendar. The `get_loader` parameter must be a callable function that is given a loadable term and returns a `PipelineLoader` to use to retrieve the raw data for that term in the pipeline. In our case, we will be using the `pricing_loader` defined above, we therefore, create a function called `choose_loader` that returns our `pricing_loader`. The function also checks that the data that is being requested corresponds to OHLCV data, otherwise it retunrs an error. The `calendar` parameter must be a `DatetimeIndex` array of dates to consider as trading days when computing a range between a fixed `start_date` and `end_date`. In our case, we will be using the same trading days as those used in the NYSE. We will use Zipline's `get_calendar('NYSE')` function to retrieve the trading days used by the NYSE. We then use the `.all_sessions` attribute to get the `DatetimeIndex` from our `trading_calendar` and pass it to the `calendar` parameter. Finally, the `asset_finder` parameter determines which assets are in the top-level universe of our stock data at any point in time. Since we are using the Quotemedia data bundle, we set this parameter to the `bundle_data.asset_finder`."
   ]
  },
  {
   "cell_type": "code",
   "execution_count": 10,
   "metadata": {
    "collapsed": true,
    "deletable": true,
    "editable": true
   },
   "outputs": [],
   "source": [
    "from zipline.utils.calendars import get_calendar\n",
    "from zipline.pipeline.data import USEquityPricing\n",
    "from zipline.pipeline.engine import SimplePipelineEngine\n",
    "\n",
    "# Define the function for the get_loader parameter\n",
    "def choose_loader(column):\n",
    "    if column not in USEquityPricing.columns:\n",
    "        raise Exception('Column not in USEquityPricing')\n",
    "    return pricing_loader\n",
    "\n",
    "# Set the trading calendar\n",
    "trading_calendar = get_calendar('NYSE')\n",
    "\n",
    "# Create a Pipeline engine\n",
    "engine = SimplePipelineEngine(get_loader = choose_loader,\n",
    "                              calendar = trading_calendar.all_sessions,\n",
    "                              asset_finder = bundle_data.asset_finder)"
   ]
  },
  {
   "cell_type": "markdown",
   "metadata": {
    "deletable": true,
    "editable": true
   },
   "source": [
    "# Running a Pipeline\n",
    "\n",
    "Once we have chosen our engine we are ready to run or execute our pipeline. We can run our pipeline by using the `.run_pipeline()` attribute of the `SimplePipelineEngine` class. In particular, the `SimplePipelineEngine.run_pipeline(pipeline, start_date, end_date)` implements the following algorithm for executing pipelines:\n",
    "\n",
    "\n",
    "1. Build a dependency graph of all terms in the `pipeline`. In this step, the graph is sorted topologically to determine the order in which we can compute the terms.\n",
    "\n",
    "\n",
    "2. Ask our AssetFinder for a “lifetimes matrix”, which should contain, for each date between `start_date` and `end_date`, a boolean value for each known asset indicating whether the asset existed on that date.\n",
    "\n",
    "\n",
    "3. Compute each term in the dependency order determined in step 1, caching the results in a a dictionary so that they can be fed into future terms.\n",
    "\n",
    "\n",
    "4. For each date, determine the number of assets passing the `pipeline` screen. The sum, $N$, of all these values is the total number of rows in our output Pandas Dataframe, so we pre-allocate an output array of length $N$ for each factor in terms.\n",
    "\n",
    "\n",
    "5. Fill in the arrays allocated in step 4 by copying computed values from our output cache into the corresponding rows.\n",
    "\n",
    "\n",
    "6. Stick the values computed in step 5 into a Pandas DataFrame and return it.\n",
    "\n",
    "In the code below, we run our pipeline for a single day, so our `start_date` and `end_date` will be the same. We then print some information about our `pipeline_output`."
   ]
  },
  {
   "cell_type": "code",
   "execution_count": 11,
   "metadata": {
    "collapsed": false,
    "deletable": true,
    "editable": true
   },
   "outputs": [
    {
     "name": "stdout",
     "output_type": "stream",
     "text": [
      "The pipeline output has type: <class 'pandas.core.frame.DataFrame'> \n",
      "\n",
      "Is the pipeline output a MultiIndex Dataframe: True \n",
      "\n",
      "Index Level 0:\n",
      "\n",
      " DatetimeIndex(['2016-01-05', '2016-01-05', '2016-01-05', '2016-01-05',\n",
      "               '2016-01-05', '2016-01-05', '2016-01-05', '2016-01-05',\n",
      "               '2016-01-05', '2016-01-05'],\n",
      "              dtype='datetime64[ns, UTC]', freq=None) \n",
      "\n",
      "Index Level 1:\n",
      "\n",
      " Index([   Equity(3 [AAPL]),    Equity(19 [AGN]),   Equity(38 [AMZN]),\n",
      "          Equity(59 [BAC]),    Equity(173 [FB]),    Equity(192 [GE]),\n",
      "        Equity(198 [GOOG]), Equity(199 [GOOGL]),  Equity(312 [MSFT]),\n",
      "        Equity(323 [NFLX])],\n",
      "      dtype='object') \n",
      "\n"
     ]
    }
   ],
   "source": [
    "import pandas as pd\n",
    "\n",
    "# Set the start and end dates\n",
    "start_date = pd.Timestamp('2016-01-05', tz = 'utc')\n",
    "end_date = pd.Timestamp('2016-01-05', tz = 'utc')\n",
    "\n",
    "# Run our pipeline for the given start and end dates\n",
    "pipeline_output = engine.run_pipeline(pipeline, start_date, end_date)\n",
    "\n",
    "# We print information about the pipeline output\n",
    "print('The pipeline output has type:', type(pipeline_output), '\\n')\n",
    "\n",
    "# We print whether the pipeline output is a MultiIndex Dataframe\n",
    "print('Is the pipeline output a MultiIndex Dataframe:', isinstance(pipeline_output.index, pd.core.index.MultiIndex), '\\n')\n",
    "\n",
    "# If the pipeline output is a MultiIndex Dataframe we print the two levels of the index\n",
    "if isinstance(pipeline_output.index, pd.core.index.MultiIndex):\n",
    "\n",
    "    # We print the index level 0\n",
    "    print('Index Level 0:\\n\\n', pipeline_output.index.get_level_values(0), '\\n')\n",
    "\n",
    "    # We print the index level 1\n",
    "    print('Index Level 1:\\n\\n', pipeline_output.index.get_level_values(1), '\\n')"
   ]
  },
  {
   "cell_type": "code",
   "execution_count": 12,
   "metadata": {
    "collapsed": false,
    "deletable": true,
    "editable": true
   },
   "outputs": [
    {
     "data": {
      "text/html": [
       "<div>\n",
       "<table border=\"1\" class=\"dataframe\">\n",
       "  <thead>\n",
       "    <tr style=\"text-align: right;\">\n",
       "      <th></th>\n",
       "      <th></th>\n",
       "    </tr>\n",
       "  </thead>\n",
       "  <tbody>\n",
       "    <tr>\n",
       "      <th rowspan=\"10\" valign=\"top\">2016-01-05 00:00:00+00:00</th>\n",
       "      <th>Equity(3 [AAPL])</th>\n",
       "    </tr>\n",
       "    <tr>\n",
       "      <th>Equity(19 [AGN])</th>\n",
       "    </tr>\n",
       "    <tr>\n",
       "      <th>Equity(38 [AMZN])</th>\n",
       "    </tr>\n",
       "    <tr>\n",
       "      <th>Equity(59 [BAC])</th>\n",
       "    </tr>\n",
       "    <tr>\n",
       "      <th>Equity(173 [FB])</th>\n",
       "    </tr>\n",
       "    <tr>\n",
       "      <th>Equity(192 [GE])</th>\n",
       "    </tr>\n",
       "    <tr>\n",
       "      <th>Equity(198 [GOOG])</th>\n",
       "    </tr>\n",
       "    <tr>\n",
       "      <th>Equity(199 [GOOGL])</th>\n",
       "    </tr>\n",
       "    <tr>\n",
       "      <th>Equity(312 [MSFT])</th>\n",
       "    </tr>\n",
       "    <tr>\n",
       "      <th>Equity(323 [NFLX])</th>\n",
       "    </tr>\n",
       "  </tbody>\n",
       "</table>\n",
       "</div>"
      ],
      "text/plain": [
       "Empty DataFrame\n",
       "Columns: []\n",
       "Index: [(2016-01-05 00:00:00+00:00, Equity(3 [AAPL])), (2016-01-05 00:00:00+00:00, Equity(19 [AGN])), (2016-01-05 00:00:00+00:00, Equity(38 [AMZN])), (2016-01-05 00:00:00+00:00, Equity(59 [BAC])), (2016-01-05 00:00:00+00:00, Equity(173 [FB])), (2016-01-05 00:00:00+00:00, Equity(192 [GE])), (2016-01-05 00:00:00+00:00, Equity(198 [GOOG])), (2016-01-05 00:00:00+00:00, Equity(199 [GOOGL])), (2016-01-05 00:00:00+00:00, Equity(312 [MSFT])), (2016-01-05 00:00:00+00:00, Equity(323 [NFLX]))]"
      ]
     },
     "execution_count": 12,
     "metadata": {},
     "output_type": "execute_result"
    }
   ],
   "source": [
    "pipeline_output"
   ]
  },
  {
   "cell_type": "markdown",
   "metadata": {
    "deletable": true,
    "editable": true
   },
   "source": [
    "We can see above that the return value of `.run_pipeline()` is a `MultiIndex` Pandas DataFrame containing a row for each asset that passed our pipeline’s screen. We can also see that the 0th level of the index contains the date and the 1st level of the index contains the tickers. In general, the returned Pandas DataFrame will also contain a column for each factor and filter we add to the pipeline using  `Pipeline.add()`. At this point we haven't added any factors or filters to our pipeline, consequently, the Pandas Dataframe will have no columns. In the following sections we will see how to add factors and filters to our pipeline."
   ]
  },
  {
   "cell_type": "markdown",
   "metadata": {
    "deletable": true,
    "editable": true
   },
   "source": [
    "# Get Tickers\n",
    "\n",
    "We saw in the previous section, that the tickers of the stocks that passed our pipeline’s screen are contained in the 1st level of the index. Therefore, we can use the Pandas `.get_level_values(1).values.tolist()` method to get the tickers of those stocks and save them to a list."
   ]
  },
  {
   "cell_type": "code",
   "execution_count": 13,
   "metadata": {
    "collapsed": false,
    "deletable": true,
    "editable": true
   },
   "outputs": [
    {
     "data": {
      "text/plain": [
       "[Equity(3 [AAPL]),\n",
       " Equity(19 [AGN]),\n",
       " Equity(38 [AMZN]),\n",
       " Equity(59 [BAC]),\n",
       " Equity(173 [FB]),\n",
       " Equity(192 [GE]),\n",
       " Equity(198 [GOOG]),\n",
       " Equity(199 [GOOGL]),\n",
       " Equity(312 [MSFT]),\n",
       " Equity(323 [NFLX])]"
      ]
     },
     "execution_count": 13,
     "metadata": {},
     "output_type": "execute_result"
    }
   ],
   "source": [
    "# Get the values in index level 1 and save them to a list\n",
    "universe_tickers = pipeline_output.index.get_level_values(1).values.tolist()\n",
    "\n",
    "# Display the tickers\n",
    "universe_tickers"
   ]
  },
  {
   "cell_type": "markdown",
   "metadata": {
    "deletable": true,
    "editable": true
   },
   "source": [
    "# Get Data\n",
    "\n",
    "Now that we have the tickers for the stocks that passed our pipeline’s screen, we can get the historical stock data for those tickers from our data bundle. In order to get the historical data we need to use Zipline's `DataPortal` class. A `DataPortal` is an interface to all of the data that a Zipline simulation needs. In the code below, we will create a `DataPortal` and `get_pricing` function to get historical stock prices for our tickers. \n",
    "\n",
    "We have already seen most of the parameters used below when we create the `DataPortal`, so we won't explain them again here. The only new parameter is `first_trading_day`. The `first_trading_day` parameter is a `pd.Timestamp` indicating the first trading day for the simulation. We will set the first trading day to the first trading day in the data bundle. For more information on the `DataPortal` class see the [Zipline documentation](https://www.zipline.io/appendix.html?highlight=dataportal#zipline.data.data_portal.DataPortal)"
   ]
  },
  {
   "cell_type": "code",
   "execution_count": 14,
   "metadata": {
    "collapsed": true,
    "deletable": true,
    "editable": true
   },
   "outputs": [],
   "source": [
    "from zipline.data.data_portal import DataPortal\n",
    "\n",
    "# Create a data portal\n",
    "data_portal = DataPortal(bundle_data.asset_finder,\n",
    "                         trading_calendar = trading_calendar,\n",
    "                         first_trading_day = bundle_data.equity_daily_bar_reader.first_trading_day,\n",
    "                         equity_daily_reader = bundle_data.equity_daily_bar_reader,\n",
    "                         adjustment_reader = bundle_data.adjustment_reader)"
   ]
  },
  {
   "cell_type": "markdown",
   "metadata": {
    "deletable": true,
    "editable": true
   },
   "source": [
    "Now that we have created a `data_portal` we will create a helper function, `get_pricing`, that gets the historical data from the `data_portal` for a given set of `start_date` and `end_date`. The `get_pricing` function takes various parameters: \n",
    "\n",
    "```python\n",
    "def get_pricing(data_portal, trading_calendar, assets, start_date, end_date, field='close')\n",
    "```\n",
    "\n",
    "\n",
    "The first two parameters, `data_portal` and `trading_calendar`, have already been defined above. The third paramter, `assets`, is a list of tickers. In our case we will use the tickers from the output of our pipeline, namely, `universe_tickers`. The fourth and fifth parameters are strings specifying the `start_date` and `end_date`. The function converts these two strings into Timestamps with a Custom Business Day frequency. The last parameter, `field`, is a string used to indicate which field to return. In our case we want to get the closing price, so we set `field='close`. \n",
    "\n",
    "The function returns the historical stock price data using the `.get_history_window()` attribute of the `DataPortal` class. This attribute returns a Pandas Dataframe containing the requested history window with the data fully adjusted. The `bar_count` parameter is an integer indicating the number of days to return. The number of days determines the number of rows of the returned dataframe. Both the `frequency` and `data_frequency` parameters are strings that indicate the frequency of the data to query, *i.e.* whether the data is in `daily` or `minute` intervals."
   ]
  },
  {
   "cell_type": "code",
   "execution_count": 15,
   "metadata": {
    "collapsed": false,
    "deletable": true,
    "editable": true
   },
   "outputs": [
    {
     "ename": "TypeError",
     "evalue": "__new__() got an unexpected keyword argument 'freq'",
     "output_type": "error",
     "traceback": [
      "\u001b[0;31m---------------------------------------------------------------------------\u001b[0m",
      "\u001b[0;31mTypeError\u001b[0m                                 Traceback (most recent call last)",
      "\u001b[0;32m<ipython-input-15-cca6adb5664b>\u001b[0m in \u001b[0;36m<module>\u001b[0;34m()\u001b[0m\n\u001b[1;32m     18\u001b[0m \u001b[0;31m# Get the historical data for the given window\u001b[0m\u001b[0;34m\u001b[0m\u001b[0;34m\u001b[0m\u001b[0m\n\u001b[1;32m     19\u001b[0m historical_data = get_pricing(data_portal, trading_calendar, universe_tickers,\n\u001b[0;32m---> 20\u001b[0;31m                               start_date='2011-01-05', end_date='2016-01-05')\n\u001b[0m\u001b[1;32m     21\u001b[0m \u001b[0;31m# Display the historical data\u001b[0m\u001b[0;34m\u001b[0m\u001b[0;34m\u001b[0m\u001b[0m\n\u001b[1;32m     22\u001b[0m \u001b[0mhistorical_data\u001b[0m\u001b[0;34m\u001b[0m\u001b[0m\n",
      "\u001b[0;32m<ipython-input-15-cca6adb5664b>\u001b[0m in \u001b[0;36mget_pricing\u001b[0;34m(data_portal, trading_calendar, assets, start_date, end_date, field)\u001b[0m\n\u001b[1;32m      3\u001b[0m     \u001b[0;31m# Set the given start and end dates to Timestamps. The frequency string C is used to\u001b[0m\u001b[0;34m\u001b[0m\u001b[0;34m\u001b[0m\u001b[0m\n\u001b[1;32m      4\u001b[0m     \u001b[0;31m# indicate that a CustomBusinessDay DateOffset is used\u001b[0m\u001b[0;34m\u001b[0m\u001b[0;34m\u001b[0m\u001b[0m\n\u001b[0;32m----> 5\u001b[0;31m     \u001b[0mend_dt\u001b[0m \u001b[0;34m=\u001b[0m \u001b[0mpd\u001b[0m\u001b[0;34m.\u001b[0m\u001b[0mTimestamp\u001b[0m\u001b[0;34m(\u001b[0m\u001b[0mend_date\u001b[0m\u001b[0;34m,\u001b[0m \u001b[0mtz\u001b[0m\u001b[0;34m=\u001b[0m\u001b[0;34m'UTC'\u001b[0m\u001b[0;34m,\u001b[0m \u001b[0mfreq\u001b[0m\u001b[0;34m=\u001b[0m\u001b[0;34m'C'\u001b[0m\u001b[0;34m)\u001b[0m\u001b[0;34m\u001b[0m\u001b[0m\n\u001b[0m\u001b[1;32m      6\u001b[0m     \u001b[0mstart_dt\u001b[0m \u001b[0;34m=\u001b[0m \u001b[0mpd\u001b[0m\u001b[0;34m.\u001b[0m\u001b[0mTimestamp\u001b[0m\u001b[0;34m(\u001b[0m\u001b[0mstart_date\u001b[0m\u001b[0;34m,\u001b[0m \u001b[0mtz\u001b[0m\u001b[0;34m=\u001b[0m\u001b[0;34m'UTC'\u001b[0m\u001b[0;34m,\u001b[0m \u001b[0mfreq\u001b[0m\u001b[0;34m=\u001b[0m\u001b[0;34m'C'\u001b[0m\u001b[0;34m)\u001b[0m\u001b[0;34m\u001b[0m\u001b[0m\n\u001b[1;32m      7\u001b[0m \u001b[0;34m\u001b[0m\u001b[0m\n",
      "\u001b[0;32mpandas/tslib.pyx\u001b[0m in \u001b[0;36mpandas.tslib.Timestamp.__new__ (pandas/tslib.c:9139)\u001b[0;34m()\u001b[0m\n",
      "\u001b[0;31mTypeError\u001b[0m: __new__() got an unexpected keyword argument 'freq'"
     ]
    }
   ],
   "source": [
    "def get_pricing(data_portal, trading_calendar, assets, start_date, end_date, field='close'):\n",
    "    \n",
    "    # Set the given start and end dates to Timestamps. The frequency string C is used to\n",
    "    # indicate that a CustomBusinessDay DateOffset is used\n",
    "    end_dt = pd.Timestamp(end_date, tz='UTC', freq='C')\n",
    "    start_dt = pd.Timestamp(start_date, tz='UTC', freq='C')\n",
    "\n",
    "    # Get the locations of the start and end dates\n",
    "    end_loc = trading_calendar.closes.index.get_loc(end_dt)\n",
    "    start_loc = trading_calendar.closes.index.get_loc(start_dt)\n",
    "\n",
    "    # return the historical data for the given window\n",
    "    return data_portal.get_history_window(assets=assets, end_dt=end_dt, bar_count=end_loc - start_loc,\n",
    "                                          frequency='1d',\n",
    "                                          field=field,\n",
    "                                          data_frequency='daily')\n",
    "\n",
    "# Get the historical data for the given window\n",
    "historical_data = get_pricing(data_portal, trading_calendar, universe_tickers,\n",
    "                              start_date='2011-01-05', end_date='2016-01-05')\n",
    "# Display the historical data\n",
    "historical_data"
   ]
  },
  {
   "cell_type": "markdown",
   "metadata": {
    "deletable": true,
    "editable": true
   },
   "source": [
    "# Date Alignment\n",
    "\n",
    "When pipeline returns with a date of, e.g., `2016-01-07` this includes data that would be known as of before the **market open** on `2016-01-07`. As such, if you ask for latest known values on each day, it will return the closing price from the day before and label the date `2016-01-07`. All factor values assume to be run prior to the open on the labeled day with data known before that point in time."
   ]
  },
  {
   "cell_type": "markdown",
   "metadata": {
    "deletable": true,
    "editable": true
   },
   "source": [
    "# Adding Factors and Filters\n",
    "\n",
    "Now that you know how build a pipeline and execute it, in this section we will see how we can add factors and filters to our pipeline. These factors and filters will determine the computations we want our pipeline to compute each day.\n",
    "\n",
    "We can add both factors and filters to our pipeline using the `.add(column, name)` method of the `Pipeline` class. The `column` parameter represetns the factor or filter to add to the pipeline. The `name` parameter is a string that determines the name of the column in the output Pandas Dataframe for that factor of fitler. As mentioned earlier, each factor and filter will appear as a column in the output dataframe of our pipeline. Let's start by adding a factor to our pipeline.\n",
    "\n",
    "### Factors\n",
    "\n",
    "In the code below, we will use Zipline's built-in `SimpleMovingAverage` factor to create a factor that computes the 15-day mean closing price of securities. We will then add this factor to our pipeline and use `.show_graph()` to see a diagram of our pipeline with the factor added. "
   ]
  },
  {
   "cell_type": "code",
   "execution_count": null,
   "metadata": {
    "collapsed": false,
    "deletable": true,
    "editable": true
   },
   "outputs": [],
   "source": [
    "from zipline.pipeline.factors import SimpleMovingAverage\n",
    "\n",
    "# Create a factor that computes the 15-day mean closing price of securities\n",
    "mean_close_15 = SimpleMovingAverage(inputs = [USEquityPricing.close], window_length = 15)\n",
    "\n",
    "# Add the factor to our pipeline\n",
    "pipeline.add(mean_close_15, '15 Day MCP')\n",
    "\n",
    "# Render the pipeline as a DAG\n",
    "pipeline.show_graph()"
   ]
  },
  {
   "cell_type": "markdown",
   "metadata": {
    "deletable": true,
    "editable": true
   },
   "source": [
    "In the diagram above we can clearly see the factor we have added. Now, we can run our pipeline again and see its output. The pipeline is run in exactly the same way we did before. "
   ]
  },
  {
   "cell_type": "code",
   "execution_count": null,
   "metadata": {
    "collapsed": false,
    "deletable": true,
    "editable": true
   },
   "outputs": [],
   "source": [
    "# Set starting and end dates\n",
    "start_date = pd.Timestamp('2014-01-06', tz='utc')\n",
    "end_date = pd.Timestamp('2016-01-05', tz='utc')\n",
    "\n",
    "# Run our pipeline for the given start and end dates\n",
    "output = engine.run_pipeline(pipeline, start_date, end_date)\n",
    "\n",
    "# Display the pipeline output\n",
    "output.head()"
   ]
  },
  {
   "cell_type": "markdown",
   "metadata": {
    "deletable": true,
    "editable": true
   },
   "source": [
    "We can see that now our output dataframe contains a column with the name `15 Day MCP`, which is the name we gave to our factor before. This ouput dataframe from our pipeline gives us the 15-day mean closing price of the securities that passed our `screen`.\n",
    "\n",
    "### Filters\n",
    "\n",
    "Filters are created and added to the pipeline in the same way as factors. In the code below, we create a filter that returns `True` whenever the 15-day average closing price is above \\$100. Remember, a filter produces a `True` or `False` value for each security every day. We will then add this filter to our pipeline and use `.show_graph()` to see a diagram of our pipeline with the filter added."
   ]
  },
  {
   "cell_type": "code",
   "execution_count": null,
   "metadata": {
    "collapsed": false,
    "deletable": true,
    "editable": true
   },
   "outputs": [],
   "source": [
    "# Create a Filter that returns True whenever the 15-day average closing price is above $100\n",
    "high_mean = mean_close_15 > 100\n",
    "\n",
    "# Add the filter to our pipeline\n",
    "pipeline.add(high_mean, 'High Mean')\n",
    "\n",
    "# Render the pipeline as a DAG\n",
    "pipeline.show_graph()"
   ]
  },
  {
   "cell_type": "markdown",
   "metadata": {
    "deletable": true,
    "editable": true
   },
   "source": [
    "In the diagram above we can clearly see the fiter we have added. Now, we can run our pipeline again and see its output. The pipeline is run in exactly the same way we did before. "
   ]
  },
  {
   "cell_type": "code",
   "execution_count": null,
   "metadata": {
    "collapsed": false,
    "deletable": true,
    "editable": true
   },
   "outputs": [],
   "source": [
    "# Set starting and end dates\n",
    "start_date = pd.Timestamp('2014-01-06', tz='utc')\n",
    "end_date = pd.Timestamp('2016-01-05', tz='utc')\n",
    "\n",
    "# Run our pipeline for the given start and end dates\n",
    "output = engine.run_pipeline(pipeline, start_date, end_date)\n",
    "\n",
    "# Display the pipeline output\n",
    "output.head()"
   ]
  },
  {
   "cell_type": "markdown",
   "metadata": {
    "deletable": true,
    "editable": true
   },
   "source": [
    "We can see that now our output dataframe contains a two columns, one for the filter and one for the factor. The new column has the name `High Mean`, which is the name we gave to our filter before. Notice that the filter column only contains Boolean values, where only the securities with a 15-day average closing price above \\$100 have `True` values."
   ]
  }
 ],
 "metadata": {
  "kernelspec": {
   "display_name": "Python [conda env:aind-dl]",
   "language": "python",
   "name": "conda-env-aind-dl-py"
  },
  "language_info": {
   "codemirror_mode": {
    "name": "ipython",
    "version": 3
   },
   "file_extension": ".py",
   "mimetype": "text/x-python",
   "name": "python",
   "nbconvert_exporter": "python",
   "pygments_lexer": "ipython3",
   "version": "3.5.3"
  },
  "toc": {
   "base_numbering": 1,
   "nav_menu": {},
   "number_sections": true,
   "sideBar": true,
   "skip_h1_title": false,
   "title_cell": "Table of Contents",
   "title_sidebar": "Contents",
   "toc_cell": false,
   "toc_position": {},
   "toc_section_display": true,
   "toc_window_display": true
  }
 },
 "nbformat": 4,
 "nbformat_minor": 2
}
