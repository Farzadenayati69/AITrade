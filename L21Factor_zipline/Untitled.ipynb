{
 "cells": [
  {
   "cell_type": "code",
   "execution_count": 7,
   "metadata": {
    "collapsed": false
   },
   "outputs": [],
   "source": [
    "import pandas as pd "
   ]
  },
  {
   "cell_type": "code",
   "execution_count": 8,
   "metadata": {
    "collapsed": false
   },
   "outputs": [
    {
     "name": "stdout",
     "output_type": "stream",
     "text": [
      "\n",
      "INSTALLED VERSIONS\n",
      "------------------\n",
      "commit: None\n",
      "python: 3.5.3.final.0\n",
      "python-bits: 64\n",
      "OS: Linux\n",
      "OS-release: 3.10.0-123.el7.x86_64\n",
      "machine: x86_64\n",
      "processor: x86_64\n",
      "byteorder: little\n",
      "LC_ALL: zh_CN.UTF-8\n",
      "LANG: zh_CN.UTF-8\n",
      "LOCALE: zh_CN.UTF-8\n",
      "\n",
      "pandas: 0.20.3\n",
      "pytest: 3.0.6\n",
      "pip: 9.0.1\n",
      "setuptools: 27.2.0\n",
      "Cython: 0.25.2\n",
      "numpy: 1.14.5\n",
      "scipy: 1.0.0\n",
      "xarray: None\n",
      "IPython: 5.3.0\n",
      "sphinx: 1.5.1\n",
      "patsy: 0.4.1\n",
      "dateutil: 2.6.1\n",
      "pytz: 2017.3\n",
      "blosc: None\n",
      "bottleneck: 1.2.0\n",
      "tables: 3.3.0\n",
      "numexpr: 2.6.2\n",
      "feather: None\n",
      "matplotlib: 2.0.0\n",
      "openpyxl: 2.4.1\n",
      "xlrd: 1.0.0\n",
      "xlwt: 1.2.0\n",
      "xlsxwriter: 0.9.6\n",
      "lxml: 3.7.3\n",
      "bs4: 4.5.3\n",
      "html5lib: 0.999\n",
      "sqlalchemy: 1.1.6\n",
      "pymysql: None\n",
      "psycopg2: None\n",
      "jinja2: 2.9.5\n",
      "s3fs: None\n",
      "pandas_gbq: None\n",
      "pandas_datareader: 0.5.0\n"
     ]
    }
   ],
   "source": [
    "pd.show_versions()"
   ]
  },
  {
   "cell_type": "code",
   "execution_count": 9,
   "metadata": {
    "collapsed": false
   },
   "outputs": [],
   "source": [
    "end_dt = pd.Timestamp('2019-09-01', tz='UTC', freq='C')"
   ]
  },
  {
   "cell_type": "code",
   "execution_count": null,
   "metadata": {
    "collapsed": true
   },
   "outputs": [],
   "source": []
  }
 ],
 "metadata": {
  "kernelspec": {
   "display_name": "Python [conda env:aind-dl]",
   "language": "python",
   "name": "conda-env-aind-dl-py"
  },
  "language_info": {
   "codemirror_mode": {
    "name": "ipython",
    "version": 3
   },
   "file_extension": ".py",
   "mimetype": "text/x-python",
   "name": "python",
   "nbconvert_exporter": "python",
   "pygments_lexer": "ipython3",
   "version": "3.5.3"
  },
  "toc": {
   "base_numbering": 1,
   "nav_menu": {},
   "number_sections": true,
   "sideBar": true,
   "skip_h1_title": false,
   "title_cell": "Table of Contents",
   "title_sidebar": "Contents",
   "toc_cell": false,
   "toc_position": {},
   "toc_section_display": true,
   "toc_window_display": false
  }
 },
 "nbformat": 4,
 "nbformat_minor": 2
}
