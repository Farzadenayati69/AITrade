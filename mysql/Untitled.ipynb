{
 "cells": [
  {
   "cell_type": "code",
   "execution_count": 1,
   "metadata": {
    "collapsed": false
   },
   "outputs": [
    {
     "name": "stdout",
     "output_type": "stream",
     "text": [
      "+---------------+\r\n",
      "| Tables_in_nba |\r\n",
      "+---------------+\r\n",
      "| height_grades |\r\n",
      "| player        |\r\n",
      "| player_score  |\r\n",
      "| team          |\r\n",
      "| team_score    |\r\n",
      "+---------------+\r\n"
     ]
    }
   ],
   "source": [
    "!mysql -e\"use nba; show tables;\""
   ]
  },
  {
   "cell_type": "markdown",
   "metadata": {},
   "source": [
    "# 运算符关联"
   ]
  },
  {
   "cell_type": "code",
   "execution_count": 3,
   "metadata": {
    "collapsed": false
   },
   "outputs": [
    {
     "name": "stdout",
     "output_type": "stream",
     "text": [
      "+---------------+--------+\r\n",
      "| player_name   | height |\r\n",
      "+---------------+--------+\r\n",
      "| 索恩-马克     |   2.16 |\r\n",
      "+---------------+--------+\r\n"
     ]
    }
   ],
   "source": [
    "#最高身高球员\n",
    "!mysql -e\"use nba; SELECT player_name,height from player where height = (select max(height) from player);\""
   ]
  },
  {
   "cell_type": "code",
   "execution_count": 4,
   "metadata": {
    "collapsed": false
   },
   "outputs": [
    {
     "name": "stdout",
     "output_type": "stream",
     "text": [
      "+------------------------------------+--------+---------+\r\n",
      "| player_name                        | height | team_id |\r\n",
      "+------------------------------------+--------+---------+\r\n",
      "| 安德烈-德拉蒙德                    |   2.11 |    1001 |\r\n",
      "| 索恩-马克                          |   2.16 |    1001 |\r\n",
      "| 扎扎-帕楚里亚                      |   2.11 |    1001 |\r\n",
      "| 乔恩-洛伊尔                        |   2.08 |    1001 |\r\n",
      "| 布雷克-格里芬                      |   2.08 |    1001 |\r\n",
      "| 雷吉-巴洛克                        |   2.01 |    1001 |\r\n",
      "| 斯坦利-约翰逊                      |   2.01 |    1001 |\r\n",
      "| 亨利-埃伦森                        |   2.11 |    1001 |\r\n",
      "| 斯维亚托斯拉夫-米凯卢克            |   2.03 |    1001 |\r\n",
      "| 博扬-博格达诺维奇                  |   2.03 |    1002 |\r\n",
      "| 多曼塔斯-萨博尼斯                  |   2.11 |    1002 |\r\n",
      "| 迈尔斯-特纳                        |   2.11 |    1002 |\r\n",
      "| 赛迪斯-杨                          |   2.03 |    1002 |\r\n",
      "| 道格-迈克德莫特                    |   2.03 |    1002 |\r\n",
      "| TJ-利夫                            |   2.08 |    1002 |\r\n",
      "| 凯尔-奥奎因                        |   2.08 |    1002 |\r\n",
      "| 阿利兹-约翰逊                      |   2.06 |    1002 |\r\n",
      "| Ike Anigbogu                       |   2.08 |    1002 |\r\n",
      "+------------------------------------+--------+---------+\r\n"
     ]
    }
   ],
   "source": [
    "#大于平均身高的球员\n",
    "!mysql -e\"use nba; SELECT player_name,height,team_id from player where height > (select avg(height) from player);\""
   ]
  },
  {
   "cell_type": "markdown",
   "metadata": {},
   "source": [
    "# exist子查询"
   ]
  },
  {
   "cell_type": "code",
   "execution_count": 5,
   "metadata": {
    "collapsed": false
   },
   "outputs": [
    {
     "name": "stdout",
     "output_type": "stream",
     "text": [
      "+-----------+---------+------------------------------------+\r\n",
      "| player_id | team_id | player_name                        |\r\n",
      "+-----------+---------+------------------------------------+\r\n",
      "|     10001 |    1001 | 韦恩-艾灵顿                        |\r\n",
      "|     10002 |    1001 | 雷吉-杰克逊                        |\r\n",
      "|     10003 |    1001 | 安德烈-德拉蒙德                    |\r\n",
      "|     10004 |    1001 | 索恩-马克                          |\r\n",
      "|     10005 |    1001 | 布鲁斯-布朗                        |\r\n",
      "|     10006 |    1001 | 兰斯顿-加洛韦                      |\r\n",
      "|     10007 |    1001 | 格伦-罗宾逊三世                    |\r\n",
      "|     10008 |    1001 | 伊斯梅尔-史密斯                    |\r\n",
      "|     10009 |    1001 | 扎扎-帕楚里亚                      |\r\n",
      "|     10010 |    1001 | 乔恩-洛伊尔                        |\r\n",
      "|     10011 |    1001 | 布雷克-格里芬                      |\r\n",
      "|     10012 |    1001 | 雷吉-巴洛克                        |\r\n",
      "|     10013 |    1001 | 卢克-肯纳德                        |\r\n",
      "|     10014 |    1001 | 斯坦利-约翰逊                      |\r\n",
      "|     10015 |    1001 | 亨利-埃伦森                        |\r\n",
      "|     10016 |    1001 | 凯里-托马斯                        |\r\n",
      "|     10017 |    1001 | 何塞-卡尔德隆                      |\r\n",
      "|     10018 |    1001 | 斯维亚托斯拉夫-米凯卢克            |\r\n",
      "|     10019 |    1001 | 扎克-洛夫顿                        |\r\n",
      "|     10020 |    1001 | 卡林-卢卡斯                        |\r\n",
      "|     10021 |    1002 | 维克多-奥拉迪波                    |\r\n",
      "|     10022 |    1002 | 博扬-博格达诺维奇                  |\r\n",
      "|     10023 |    1002 | 多曼塔斯-萨博尼斯                  |\r\n",
      "|     10024 |    1002 | 迈尔斯-特纳                        |\r\n",
      "|     10025 |    1002 | 赛迪斯-杨                          |\r\n",
      "|     10026 |    1002 | 达伦-科里森                        |\r\n",
      "|     10027 |    1002 | 韦斯利-马修斯                      |\r\n",
      "|     10028 |    1002 | 泰瑞克-埃文斯                      |\r\n",
      "|     10029 |    1002 | 道格-迈克德莫特                    |\r\n",
      "|     10030 |    1002 | 科里-约瑟夫                        |\r\n",
      "|     10031 |    1002 | 阿龙-霍勒迪                        |\r\n",
      "|     10032 |    1002 | TJ-利夫                            |\r\n",
      "|     10033 |    1002 | 凯尔-奥奎因                        |\r\n",
      "|     10034 |    1002 | 埃德蒙-萨姆纳                      |\r\n",
      "|     10035 |    1002 | 达文-里德                          |\r\n",
      "|     10036 |    1002 | 阿利兹-约翰逊                      |\r\n",
      "|     10037 |    1002 | Ike Anigbogu                       |\r\n",
      "+-----------+---------+------------------------------------+\r\n"
     ]
    }
   ],
   "source": [
    "#出场过的球员\n",
    "!mysql -e\"use nba; SELECT player_id,team_id,player_name from player where exists (select player_id from team_score );\""
   ]
  }
 ],
 "metadata": {
  "kernelspec": {
   "display_name": "Python [conda env:aind-dl]",
   "language": "python",
   "name": "conda-env-aind-dl-py"
  },
  "language_info": {
   "codemirror_mode": {
    "name": "ipython",
    "version": 3
   },
   "file_extension": ".py",
   "mimetype": "text/x-python",
   "name": "python",
   "nbconvert_exporter": "python",
   "pygments_lexer": "ipython3",
   "version": "3.5.3"
  },
  "toc": {
   "base_numbering": 1,
   "nav_menu": {},
   "number_sections": true,
   "sideBar": true,
   "skip_h1_title": false,
   "title_cell": "Table of Contents",
   "title_sidebar": "Contents",
   "toc_cell": false,
   "toc_position": {},
   "toc_section_display": true,
   "toc_window_display": false
  }
 },
 "nbformat": 4,
 "nbformat_minor": 2
}
