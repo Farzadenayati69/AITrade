{
 "cells": [
  {
   "cell_type": "markdown",
   "metadata": {
    "deletable": true,
    "editable": true
   },
   "source": [
    "# 创建视图"
   ]
  },
  {
   "cell_type": "code",
   "execution_count": 12,
   "metadata": {
    "collapsed": false,
    "deletable": true,
    "editable": true
   },
   "outputs": [
    {
     "name": "stdout",
     "output_type": "stream",
     "text": [
      "select * from  player limit 5;\n",
      "player_id\tteam_id\tplayer_name\theight\n",
      "10001\t1001\t韦恩-艾灵顿\t1.93\n",
      "10002\t1001\t雷吉-杰克逊\t1.91\n",
      "10003\t1001\t安德烈-德拉蒙德\t2.11\n",
      "10004\t1001\t索恩-马克\t2.16\n",
      "10005\t1001\t布鲁斯-布朗\t1.96\n"
     ]
    }
   ],
   "source": [
    "%%bash\n",
    "sqlstat=\"select * from  \\\n",
    "player limit 5;\"\n",
    "echo \"$sqlstat\"\n",
    "mysql -e\"use nba;$sqlstat\""
   ]
  },
  {
   "cell_type": "code",
   "execution_count": 20,
   "metadata": {
    "collapsed": false,
    "deletable": true,
    "editable": true
   },
   "outputs": [],
   "source": [
    "%%bash\n",
    "sqlstat=\"CREATE VIEW player_above_avg_height AS \\\n",
    "SELECT player_id, height \\\n",
    "FROM player \\\n",
    "WHERE height > (SELECT AVG(height) from player)\"\n",
    "mysql -e\"use nba;$sqlstat\""
   ]
  },
  {
   "cell_type": "markdown",
   "metadata": {},
   "source": [
    "# 查询视图\n"
   ]
  },
  {
   "cell_type": "code",
   "execution_count": 21,
   "metadata": {
    "collapsed": false,
    "deletable": true,
    "editable": true,
    "scrolled": false
   },
   "outputs": [
    {
     "name": "stdout",
     "output_type": "stream",
     "text": [
      "+-------------------------+--------+---------+------------+------+----------------+-------------+-----------------+--------------+-----------+----------------+-------------+-------------+------------+-----------+----------+----------------+---------+\r\n",
      "| Name                    | Engine | Version | Row_format | Rows | Avg_row_length | Data_length | Max_data_length | Index_length | Data_free | Auto_increment | Create_time | Update_time | Check_time | Collation | Checksum | Create_options | Comment |\r\n",
      "+-------------------------+--------+---------+------------+------+----------------+-------------+-----------------+--------------+-----------+----------------+-------------+-------------+------------+-----------+----------+----------------+---------+\r\n",
      "| player_above_avg_height | NULL   |    NULL | NULL       | NULL |           NULL |        NULL |            NULL |         NULL |      NULL |           NULL | NULL        | NULL        | NULL       | NULL      |     NULL | NULL           | VIEW    |\r\n",
      "+-------------------------+--------+---------+------------+------+----------------+-------------+-----------------+--------------+-----------+----------------+-------------+-------------+------------+-----------+----------+----------------+---------+\r\n"
     ]
    }
   ],
   "source": [
    "!mysql -e\"use nba;show table status where comment='view';\""
   ]
  },
  {
   "cell_type": "code",
   "execution_count": 22,
   "metadata": {
    "collapsed": false
   },
   "outputs": [
    {
     "name": "stdout",
     "output_type": "stream",
     "text": [
      "+-----------+--------+\r\n",
      "| player_id | height |\r\n",
      "+-----------+--------+\r\n",
      "|     10003 |   2.11 |\r\n",
      "|     10004 |   2.16 |\r\n",
      "|     10009 |   2.11 |\r\n",
      "|     10010 |   2.08 |\r\n",
      "|     10011 |   2.08 |\r\n",
      "|     10012 |   2.01 |\r\n",
      "|     10014 |   2.01 |\r\n",
      "|     10015 |   2.11 |\r\n",
      "|     10018 |   2.03 |\r\n",
      "|     10022 |   2.03 |\r\n",
      "|     10023 |   2.11 |\r\n",
      "|     10024 |   2.11 |\r\n",
      "|     10025 |   2.03 |\r\n",
      "|     10029 |   2.03 |\r\n",
      "|     10032 |   2.08 |\r\n",
      "|     10033 |   2.08 |\r\n",
      "|     10036 |   2.06 |\r\n",
      "|     10037 |   2.08 |\r\n",
      "+-----------+--------+\r\n"
     ]
    }
   ],
   "source": [
    "!mysql -e\"use nba;SELECT * FROM player_above_avg_height\""
   ]
  },
  {
   "cell_type": "markdown",
   "metadata": {},
   "source": [
    "# 嵌套视图"
   ]
  },
  {
   "cell_type": "code",
   "execution_count": 23,
   "metadata": {
    "collapsed": true
   },
   "outputs": [],
   "source": [
    "%%bash\n",
    "sqlstat=\"CREATE VIEW player_above_above_avg_height AS \\\n",
    "SELECT player_id, height \\\n",
    "FROM player \\\n",
    "WHERE height > (SELECT AVG(height) from player_above_avg_height)\"\n",
    "mysql -e\"use nba;$sqlstat\""
   ]
  },
  {
   "cell_type": "code",
   "execution_count": 25,
   "metadata": {
    "collapsed": false
   },
   "outputs": [
    {
     "name": "stdout",
     "output_type": "stream",
     "text": [
      "+-------------------------------+--------+---------+------------+------+----------------+-------------+-----------------+--------------+-----------+----------------+-------------+-------------+------------+-----------+----------+----------------+---------+\r\n",
      "| Name                          | Engine | Version | Row_format | Rows | Avg_row_length | Data_length | Max_data_length | Index_length | Data_free | Auto_increment | Create_time | Update_time | Check_time | Collation | Checksum | Create_options | Comment |\r\n",
      "+-------------------------------+--------+---------+------------+------+----------------+-------------+-----------------+--------------+-----------+----------------+-------------+-------------+------------+-----------+----------+----------------+---------+\r\n",
      "| player_above_above_avg_height | NULL   |    NULL | NULL       | NULL |           NULL |        NULL |            NULL |         NULL |      NULL |           NULL | NULL        | NULL        | NULL       | NULL      |     NULL | NULL           | VIEW    |\r\n",
      "| player_above_avg_height       | NULL   |    NULL | NULL       | NULL |           NULL |        NULL |            NULL |         NULL |      NULL |           NULL | NULL        | NULL        | NULL       | NULL      |     NULL | NULL           | VIEW    |\r\n",
      "+-------------------------------+--------+---------+------------+------+----------------+-------------+-----------------+--------------+-----------+----------------+-------------+-------------+------------+-----------+----------+----------------+---------+\r\n"
     ]
    }
   ],
   "source": [
    "!mysql -e\"use nba;show table status where comment='view';\""
   ]
  },
  {
   "cell_type": "code",
   "execution_count": 30,
   "metadata": {
    "collapsed": false
   },
   "outputs": [
    {
     "name": "stdout",
     "output_type": "stream",
     "text": [
      "+-----------+--------+\r\n",
      "| player_id | height |\r\n",
      "+-----------+--------+\r\n",
      "|     10003 |   2.11 |\r\n",
      "|     10004 |   2.16 |\r\n",
      "|     10009 |   2.11 |\r\n",
      "|     10010 |   2.08 |\r\n",
      "|     10011 |   2.08 |\r\n",
      "|     10015 |   2.11 |\r\n",
      "|     10023 |   2.11 |\r\n",
      "|     10024 |   2.11 |\r\n",
      "|     10032 |   2.08 |\r\n",
      "|     10033 |   2.08 |\r\n",
      "|     10037 |   2.08 |\r\n",
      "+-----------+--------+\r\n"
     ]
    }
   ],
   "source": [
    "!mysql -e\"use nba;SELECT * FROM player_above_above_avg_height\""
   ]
  },
  {
   "cell_type": "markdown",
   "metadata": {},
   "source": [
    "# 修改视图"
   ]
  },
  {
   "cell_type": "code",
   "execution_count": 29,
   "metadata": {
    "collapsed": false
   },
   "outputs": [
    {
     "name": "stdout",
     "output_type": "stream",
     "text": [
      "player_id\tplayer_name\theight\n",
      "10003\t安德烈-德拉蒙德\t2.11\n",
      "10004\t索恩-马克\t2.16\n",
      "10009\t扎扎-帕楚里亚\t2.11\n"
     ]
    }
   ],
   "source": [
    "%%bash\n",
    "#增加name\n",
    "sqlstat=\"ALTER VIEW player_above_avg_height AS \\\n",
    "SELECT player_id, player_name, height \\\n",
    "FROM player \\\n",
    "WHERE height > (SELECT AVG(height) from player)\"\n",
    "mysql -e\"use nba;$sqlstat\"\n",
    "mysql -e\"use nba;select * from player_above_avg_height limit 3\""
   ]
  },
  {
   "cell_type": "markdown",
   "metadata": {},
   "source": [
    "# 使用视图完成复杂连接"
   ]
  },
  {
   "cell_type": "code",
   "execution_count": 32,
   "metadata": {
    "collapsed": false
   },
   "outputs": [],
   "source": [
    "%%bash\n",
    "sqlstat=\"CREATE VIEW player_height_grades AS \\\n",
    "SELECT p.player_name, p.height, h.height_level \\\n",
    "FROM player as p JOIN height_grades as h \\\n",
    "ON height BETWEEN h.height_lowest AND h.height_highest\"\n",
    "mysql -e\"use nba;$sqlstat\""
   ]
  },
  {
   "cell_type": "code",
   "execution_count": 33,
   "metadata": {
    "collapsed": false
   },
   "outputs": [
    {
     "name": "stdout",
     "output_type": "stream",
     "text": [
      "+------------------------------------+--------+--------------+\r\n",
      "| player_name                        | height | height_level |\r\n",
      "+------------------------------------+--------+--------------+\r\n",
      "| 韦恩-艾灵顿                        |   1.93 | B            |\r\n",
      "| 雷吉-杰克逊                        |   1.91 | B            |\r\n",
      "| 布鲁斯-布朗                        |   1.96 | B            |\r\n",
      "| 格伦-罗宾逊三世                    |   1.98 | B            |\r\n",
      "| 乔恩-洛伊尔                        |   2.08 | A            |\r\n",
      "| 布雷克-格里芬                      |   2.08 | A            |\r\n",
      "| 雷吉-巴洛克                        |   2.01 | A            |\r\n",
      "| 卢克-肯纳德                        |   1.96 | B            |\r\n",
      "| 斯坦利-约翰逊                      |   2.01 | A            |\r\n",
      "| 凯里-托马斯                        |   1.91 | B            |\r\n",
      "| 何塞-卡尔德隆                      |   1.91 | B            |\r\n",
      "| 斯维亚托斯拉夫-米凯卢克            |   2.03 | A            |\r\n",
      "| 扎克-洛夫顿                        |   1.93 | B            |\r\n",
      "| 维克多-奥拉迪波                    |   1.93 | B            |\r\n",
      "| 博扬-博格达诺维奇                  |   2.03 | A            |\r\n",
      "| 赛迪斯-杨                          |   2.03 | A            |\r\n",
      "| 韦斯利-马修斯                      |   1.96 | B            |\r\n",
      "| 泰瑞克-埃文斯                      |   1.98 | B            |\r\n",
      "| 道格-迈克德莫特                    |   2.03 | A            |\r\n",
      "| 科里-约瑟夫                        |   1.91 | B            |\r\n",
      "| TJ-利夫                            |   2.08 | A            |\r\n",
      "| 凯尔-奥奎因                        |   2.08 | A            |\r\n",
      "| 埃德蒙-萨姆纳                      |   1.96 | B            |\r\n",
      "| 达文-里德                          |   1.98 | B            |\r\n",
      "| 阿利兹-约翰逊                      |   2.06 | A            |\r\n",
      "| Ike Anigbogu                       |   2.08 | A            |\r\n",
      "+------------------------------------+--------+--------------+\r\n"
     ]
    }
   ],
   "source": [
    "!mysql -e\"use nba;SELECT * FROM player_height_grades WHERE height >= 1.90 AND height <= 2.08;\""
   ]
  },
  {
   "cell_type": "markdown",
   "metadata": {},
   "source": [
    "# 利用视图对数据进行格式化"
   ]
  },
  {
   "cell_type": "code",
   "execution_count": 34,
   "metadata": {
    "collapsed": true
   },
   "outputs": [],
   "source": [
    "%%bash\n",
    "sqlstat=\"CREATE VIEW player_team AS \\\n",
    "SELECT CONCAT(player_name, '(' , team.team_name , ')') AS player_team \\\n",
    "FROM player JOIN team WHERE player.team_id = team.team_id\"\n",
    "mysql -e\"use nba;$sqlstat\""
   ]
  },
  {
   "cell_type": "code",
   "execution_count": 36,
   "metadata": {
    "collapsed": false
   },
   "outputs": [
    {
     "name": "stdout",
     "output_type": "stream",
     "text": [
      "+-----------------------------------------+\r\n",
      "| player_team                             |\r\n",
      "+-----------------------------------------+\r\n",
      "| 韦恩-艾灵顿(底特律活塞)                 |\r\n",
      "| 雷吉-杰克逊(底特律活塞)                 |\r\n",
      "| 安德烈-德拉蒙德(底特律活塞)             |\r\n",
      "+-----------------------------------------+\r\n"
     ]
    }
   ],
   "source": [
    "!mysql -e\"use nba;select * from player_team limit 3\""
   ]
  },
  {
   "cell_type": "markdown",
   "metadata": {},
   "source": [
    "# 使用视图与计算字段"
   ]
  },
  {
   "cell_type": "code",
   "execution_count": 37,
   "metadata": {
    "collapsed": true
   },
   "outputs": [],
   "source": [
    "%%bash\n",
    "#统计2分球、3分球视图\n",
    "sqlstat=\"CREATE VIEW game_player_score AS \\\n",
    "SELECT game_id, player_id, (shoot_hits-shoot_3_hits)*2 AS shoot_2_points,\\\n",
    "shoot_3_hits*3 AS shoot_3_points, shoot_p_hits AS shoot_p_points, score  FROM player_score\"\n",
    "mysql -e\"use nba;$sqlstat\""
   ]
  },
  {
   "cell_type": "code",
   "execution_count": null,
   "metadata": {
    "collapsed": true
   },
   "outputs": [],
   "source": []
  }
 ],
 "metadata": {
  "kernelspec": {
   "display_name": "Python [conda env:aind-dl]",
   "language": "python",
   "name": "conda-env-aind-dl-py"
  },
  "language_info": {
   "codemirror_mode": {
    "name": "ipython",
    "version": 3
   },
   "file_extension": ".py",
   "mimetype": "text/x-python",
   "name": "python",
   "nbconvert_exporter": "python",
   "pygments_lexer": "ipython3",
   "version": "3.5.3"
  },
  "toc": {
   "base_numbering": 1,
   "nav_menu": {},
   "number_sections": true,
   "sideBar": true,
   "skip_h1_title": false,
   "title_cell": "Table of Contents",
   "title_sidebar": "Contents",
   "toc_cell": false,
   "toc_position": {},
   "toc_section_display": true,
   "toc_window_display": true
  }
 },
 "nbformat": 4,
 "nbformat_minor": 2
}
