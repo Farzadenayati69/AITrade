{
 "cells": [
  {
   "cell_type": "code",
   "execution_count": 13,
   "metadata": {
    "collapsed": false,
    "deletable": true,
    "editable": true
   },
   "outputs": [
    {
     "name": "stdout",
     "output_type": "stream",
     "text": [
      "date\n",
      "2013-07-02    558.460000\n",
      "2013-07-03    556.617926\n",
      "2013-07-05    558.441898\n",
      "2013-07-08    556.181508\n",
      "2013-07-09    558.742118\n",
      "Name: price, dtype: float64\n",
      "date\n",
      "2013-07-02    558.460000\n",
      "2013-07-03    557.376427\n",
      "2013-07-05    557.862944\n",
      "2013-07-08    557.199132\n",
      "2013-07-09    557.755544\n",
      "Name: price, dtype: float64\n",
      "Most recent volatility estimate: 811.638784\n"
     ]
    }
   ],
   "source": [
    "import pandas as pd\n",
    "import numpy as np\n",
    "\n",
    "def estimate_volatility(prices, l):\n",
    "    \"\"\"Create an exponential moving average model of the volatility of a stock\n",
    "    price, and return the most recent (last) volatility estimate.\n",
    "    \n",
    "    Parameters\n",
    "    ----------\n",
    "    prices : pandas.Series\n",
    "        A series of adjusted closing prices for a stock.\n",
    "        \n",
    "    l : float\n",
    "        The 'lambda' parameter of the exponential moving average model. Making\n",
    "        this value smaller will cause the model to weight older terms less \n",
    "        relative to more recent terms.\n",
    "        \n",
    "    Returns\n",
    "    -------\n",
    "    last_vol : float\n",
    "        The last element of your exponential moving averge volatility model series.\n",
    "    \n",
    "    \"\"\"\n",
    "    # TODO: Implement the exponential moving average volatility model and return the last value.\n",
    "    print(prices[0:5])\n",
    "    last_vol = (prices.ewm(adjust= True,alpha=1-l).mean())\n",
    "    print (last_vol[0:5])\n",
    "    return last_vol[-1]\n",
    "    \n",
    "def test_run(filename='data.csv'):\n",
    "    \"\"\"Test run get_most_volatile() with stock prices from a file.\"\"\"\n",
    "    prices = pd.read_csv(filename, parse_dates=['date'], index_col='date', squeeze=True)\n",
    "    print(\"Most recent volatility estimate: {:.6f}\".format(estimate_volatility(prices, 0.7)))\n",
    "\n",
    "\n",
    "if __name__ == '__main__':\n",
    "    test_run()"
   ]
  },
  {
   "cell_type": "code",
   "execution_count": 52,
   "metadata": {
    "collapsed": false
   },
   "outputs": [
    {
     "name": "stdout",
     "output_type": "stream",
     "text": [
      "                 price        prices2  lambda_n\n",
      "date                                           \n",
      "2013-07-02  558.460000  311877.571600      0.49\n",
      "2013-07-03  556.617926  309823.516062      0.70\n",
      "2013-07-05  558.441898  311857.353998      1.00\n",
      "                 price        prices2  lambda_n\n",
      "date                                           \n",
      "2013-07-02  558.460000  311877.571600      0.49\n",
      "2013-07-03  556.617926  309823.516062      0.70\n",
      "2013-07-05  558.441898  311857.353998      1.00\n",
      "2.19\n",
      "557.8635965773442\n"
     ]
    }
   ],
   "source": [
    "import math\n",
    "prices = pd.read_csv('data.csv', parse_dates=['date'], index_col='date',squeeze=True)\n",
    "#print(prices.info())\n",
    "prices = pd.DataFrame(prices)\n",
    "prices = prices.head(3)\n",
    "prices['prices2']= prices.price*prices.price\n",
    "lambda_list =[]\n",
    "for n in range(len(prices)):\n",
    "    lambda_list.append(pow(0.7,n))\n",
    "#print(lambda_list)\n",
    "lambda_list.reverse()\n",
    "#print (lambda_list)\n",
    "prices['lambda_n'] = lambda_list\n",
    "print(prices.head())\n",
    "print(prices.tail())\n",
    "fm= prices['lambda_n'].sum()\n",
    "print (fm)\n",
    "seta_n =math.sqrt(((prices['lambda_n']*prices['prices2']).sum())/fm)\n",
    "print(seta_n)"
   ]
  },
  {
   "cell_type": "markdown",
   "metadata": {
    "deletable": true,
    "editable": true
   },
   "source": [
    "Estimate Volatility\n",
    "Create an exponential moving average model of volatility. Use the following formula:\n",
    "\n",
    "\\sigma_n^2 = \\frac{r_n^2 + \\lambda r_{n-1}^2 + \\lambda^2 r_{n-2}^2 + ... + \\lambda^n r_{0}^2}{1 + \\lambda + \\lambda^2 + ... + \\lambda^n}σ \n",
    "n\n",
    "2\n",
    "​\t = \n",
    "1+λ+λ \n",
    "2\n",
    " +...+λ \n",
    "n\n",
    " \n",
    "r \n",
    "n\n",
    "2\n",
    "​\t +λr \n",
    "n−1\n",
    "2\n",
    "​\t +λ \n",
    "2\n",
    " r \n",
    "n−2\n",
    "2\n",
    "​\t +...+λ \n",
    "n\n",
    " r \n",
    "0\n",
    "2\n",
    "​\t \n",
    "​\t \n",
    "\n",
    "where r_nr \n",
    "n\n",
    "​\t  is the nth daily return, and \\sigma_nσ \n",
    "n\n",
    "​\t  is the nth estimate of the volatility. \\lambdaλ is a constant between 0 and 1 that defines how quickly weights on older data should decrease. A high value of \\lambdaλ (close to 1) will cause older data to matter relatively more in the calculation of \\sigma_nσ \n",
    "n\n",
    "​\t . A very low value of \\lambdaλ will mean that recent data matter more—in this case, the successive daily estimates of \\sigma_nσ \n",
    "n\n",
    "​\t  themselves will be volatile.\n",
    "\n",
    "Pandas provides built-in exponentially weighted moving window functions with the .ewm method. Consider using .ewm().mean(), and be sure to properly specify the alpha parameter (hint: it is related to, but not equal to \\lambdaλ).\n",
    "\n",
    "Note that .ewm().std() and .ewm().var() implement ewmvar(x) = ewma(x**2) - ewma(x)**2, which is slightly different than what you'll want to implement for this problem."
   ]
  },
  {
   "cell_type": "code",
   "execution_count": null,
   "metadata": {
    "collapsed": true,
    "deletable": true,
    "editable": true
   },
   "outputs": [],
   "source": []
  }
 ],
 "metadata": {
  "kernelspec": {
   "display_name": "Python [conda env:aind-dl]",
   "language": "python",
   "name": "conda-env-aind-dl-py"
  },
  "language_info": {
   "codemirror_mode": {
    "name": "ipython",
    "version": 3
   },
   "file_extension": ".py",
   "mimetype": "text/x-python",
   "name": "python",
   "nbconvert_exporter": "python",
   "pygments_lexer": "ipython3",
   "version": "3.5.3"
  },
  "toc": {
   "base_numbering": 1,
   "nav_menu": {},
   "number_sections": true,
   "sideBar": true,
   "skip_h1_title": false,
   "title_cell": "Table of Contents",
   "title_sidebar": "Contents",
   "toc_cell": false,
   "toc_position": {},
   "toc_section_display": true,
   "toc_window_display": false
  }
 },
 "nbformat": 4,
 "nbformat_minor": 2
}
